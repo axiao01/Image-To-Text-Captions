{
  "cells": [
    {
      "cell_type": "code",
      "execution_count": 1,
      "metadata": {
        "colab": {
          "base_uri": "https://localhost:8080/"
        },
        "id": "_Hw2IwjFrwz7",
        "outputId": "f0a679fa-6354-4cff-c0c1-630d5297be36"
      },
      "outputs": [
        {
          "name": "stdout",
          "output_type": "stream",
          "text": [
            "Setting up NLTK resources...\n",
            "NLTK tokenization ready\n",
            "Using device: cpu\n"
          ]
        }
      ],
      "source": [
        "# 1. Setup and Configuration\n",
        "import torch\n",
        "import torch.nn as nn\n",
        "import torch.optim as optim\n",
        "from torch.utils.data import Dataset, DataLoader\n",
        "from torchvision import models, transforms\n",
        "from torchvision.models.feature_extraction import create_feature_extractor\n",
        "from PIL import Image\n",
        "import os\n",
        "import numpy as np\n",
        "import nltk\n",
        "from nltk.tokenize import word_tokenize\n",
        "from collections import Counter\n",
        "from tqdm import tqdm\n",
        "import random\n",
        "import matplotlib.pyplot as plt\n",
        "from sklearn.model_selection import train_test_split\n",
        "import time\n",
        "import tempfile\n",
        "import shutil\n",
        "import zipfile\n",
        "import requests\n",
        "import matplotlib.pyplot as plt\n",
        "\n",
        "torch.set_num_threads(max(1, os.cpu_count() - 1))\n",
        "torch.set_num_interop_threads(2)\n",
        "torch.backends.mkldnn.enabled = True\n",
        "\n",
        "# For BLEU evaluation\n",
        "try:\n",
        "    from nltk.translate.bleu_score import sentence_bleu, SmoothingFunction\n",
        "except ImportError:\n",
        "    print(\"NLTK not found. Installing...\")\n",
        "    import subprocess\n",
        "    subprocess.check_call([\"pip\", \"install\", \"nltk\"])\n",
        "    from nltk.translate.bleu_score import sentence_bleu, SmoothingFunction\n",
        "\n",
        "# Download NLTK data if not already present\n",
        "print(\"Setting up NLTK resources...\")\n",
        "try:\n",
        "    # Test if tokenization works\n",
        "    from nltk.tokenize import word_tokenize\n",
        "    word_tokenize(\"test\")\n",
        "    print(\"NLTK tokenization ready\")\n",
        "except Exception as e:\n",
        "    print(f\"NLTK setup needed: {e}\")\n",
        "    try:\n",
        "        print(\"Downloading punkt...\")\n",
        "        nltk.download('punkt', quiet=True)\n",
        "        print(\"Downloading punkt_tab...\")\n",
        "        nltk.download('punkt_tab', quiet=True)\n",
        "        print(\"NLTK resources downloaded\")\n",
        "        # Test again\n",
        "        from nltk.tokenize import word_tokenize\n",
        "        word_tokenize(\"test\")\n",
        "        print(\"NLTK tokenization now working\")\n",
        "    except Exception as download_error:\n",
        "        print(f\"NLTK download failed: {download_error}\")\n",
        "        print(\"Please run manually: python -m nltk.downloader punkt punkt_tab\")\n",
        "\n",
        "# --- Configuration ---\n",
        "class Config:\n",
        "    DATA_DIR = 'flickr8k'\n",
        "    IMAGES_DIR = os.path.join(DATA_DIR, 'Flicker8k_Dataset')\n",
        "    CAPTIONS_FILE = os.path.join(DATA_DIR, 'Flickr8k.token.txt')\n",
        "\n",
        "    CACHED_FEATURES_DIR = 'cached_features'\n",
        "\n",
        "    EMBED_SIZE = 512\n",
        "    HIDDEN_SIZE = 512\n",
        "    NUM_LAYERS = 1\n",
        "    VOCAB_THRESHOLD = 5\n",
        "\n",
        "    BATCH_SIZE = 64\n",
        "    NUM_EPOCHS = 20\n",
        "\n",
        "    LEARNING_RATE = 1e-4\n",
        "    LOG_STEP = 1200\n",
        "    SAVE_STEP = 1\n",
        "    DROPOUT_PROB = 0.3\n",
        "\n",
        "    DEVICE = torch.device('cuda' if torch.cuda.is_available() else 'cpu')\n",
        "\n",
        "    INTEGRATION_STRATEGY = 'hidden_state_init'\n",
        "\n",
        "print(f\"Using device: {Config.DEVICE}\")\n",
        "\n",
        "# Create directories if they don't exist\n",
        "os.makedirs('models', exist_ok=True)\n",
        "os.makedirs('outputs', exist_ok=True)\n",
        "os.makedirs('results', exist_ok=True)\n",
        "os.makedirs(Config.CACHED_FEATURES_DIR, exist_ok=True)\n",
        "\n",
        "# Set device and other variables from Config\n",
        "device = Config.DEVICE\n",
        "embed_dim = Config.EMBED_SIZE\n",
        "decoder_dim = Config.HIDDEN_SIZE\n",
        "dropout = Config.DROPOUT_PROB\n",
        "epochs = Config.NUM_EPOCHS\n",
        "batch_size = Config.BATCH_SIZE\n",
        "learning_rate = Config.LEARNING_RATE\n",
        "fine_tune_encoder = True\n",
        "decoder_lr = learning_rate\n",
        "encoder_lr = learning_rate * 0.1 "
      ]
    },
    {
      "cell_type": "code",
      "execution_count": 2,
      "metadata": {
        "id": "iLT-a64Lrwz-"
      },
      "outputs": [],
      "source": [
        "class Vocabulary:\n",
        "    def __init__(self, threshold):\n",
        "        self.threshold = threshold\n",
        "        self.word2idx = {}\n",
        "        self.idx2word = {}\n",
        "        self.idx = 0\n",
        "\n",
        "        self.add_word('<pad>')\n",
        "        self.add_word('<start>')\n",
        "        self.add_word('<end>')\n",
        "        self.add_word('<unk>')\n",
        "\n",
        "    def add_word(self, word):\n",
        "        if word not in self.word2idx:\n",
        "            self.word2idx[word] = self.idx\n",
        "            self.idx2word[self.idx] = word\n",
        "            self.idx += 1\n",
        "\n",
        "    def build_vocabulary(self, captions_list):\n",
        "        counter = Counter()\n",
        "        for caption in tqdm(captions_list, desc=\"Building Vocabulary\"):\n",
        "            tokens = word_tokenize(caption.lower())\n",
        "            counter.update(tokens)\n",
        "\n",
        "        words = [word for word, count in counter.items() if count >= self.threshold]\n",
        "        for word in words:\n",
        "            self.add_word(word)\n",
        "\n",
        "        print(f\"Vocabulary built with {len(self.word2idx)} unique words (threshold={self.threshold}).\")\n",
        "\n",
        "    def __call__(self, word):\n",
        "        if word not in self.word2idx:\n",
        "            return self.word2idx['<unk>']\n",
        "        return self.word2idx[word]\n",
        "\n",
        "    def __len__(self):\n",
        "        return len(self.word2idx)"
      ]
    },
    {
      "cell_type": "code",
      "execution_count": 3,
      "metadata": {
        "id": "6NvIQo0urwz_"
      },
      "outputs": [],
      "source": [
        "class Flickr8kDataset(Dataset):\n",
        "    def __init__(self, captions_file, images_dir, vocab, transform, cached_features_dir, feature_extractor_model=None):\n",
        "        self.captions_file = captions_file\n",
        "        self.images_dir = images_dir\n",
        "        self.vocab = vocab\n",
        "        self.transform = transform\n",
        "        self.cached_features_dir = cached_features_dir\n",
        "\n",
        "        self.feature_extractor_model = feature_extractor_model\n",
        "        if self.feature_extractor_model:\n",
        "            self.feature_extractor_model.to(Config.DEVICE)\n",
        "            self.feature_extractor_model.eval()\n",
        "\n",
        "        self.annotations = self._parse_captions()\n",
        "        self.image_ids = list(self.annotations.keys())\n",
        "\n",
        "        if not self.image_ids:\n",
        "            raise ValueError(\n",
        "                \"No image IDs found after parsing captions file. \"\n",
        "                \"Please check if 'Flickr8k.token.txt' is correctly formatted \"\n",
        "                \"and contains valid image-caption entries.\"\n",
        "            )\n",
        "\n",
        "        print(\"Checking and caching image features...\")\n",
        "        self._cache_features()\n",
        "\n",
        "    def _parse_captions(self):\n",
        "        annotations = {}\n",
        "        parsed_lines_count = 0\n",
        "        skipped_lines_count = 0\n",
        "        with open(self.captions_file, 'r') as f:\n",
        "            for line_num, line in enumerate(f, 1):\n",
        "                line = line.strip()\n",
        "                if not line:\n",
        "                    skipped_lines_count += 1\n",
        "                    continue\n",
        "\n",
        "                # Format: image_id.jpg#caption_number caption text\n",
        "                parts = line.split('\\t', 1)\n",
        "                if len(parts) < 2:\n",
        "                    # Try space split if tab doesn't work\n",
        "                    parts = line.split(' ', 1)\n",
        "                    if len(parts) < 2:\n",
        "                        print(f\"Warning: Skipping malformed line {line_num} in captions file: '{line}' (Expected format: 'image.jpg#N caption text').\")\n",
        "                        skipped_lines_count += 1\n",
        "                        continue\n",
        "\n",
        "                image_caption_id = parts[0].strip()\n",
        "                caption_text = parts[1].strip()\n",
        "\n",
        "                # Extract image ID from image_id.jpg#caption_number or image_id.jpg.caption_number\n",
        "                if '#' in image_caption_id:\n",
        "                    image_id = image_caption_id.split('#')[0]\n",
        "                elif '.jpg.' in image_caption_id:\n",
        "                    # Handle format like \"image.jpg.1\"\n",
        "                    image_id = image_caption_id.split('.jpg.')[0] + '.jpg'\n",
        "                else:\n",
        "                    image_id = image_caption_id\n",
        "\n",
        "                if not image_id.lower().endswith('.jpg'):\n",
        "                    print(f\"Warning: Skipping malformed image ID format on line {line_num}: '{image_id}' (Expected format like 'image.jpg').\")\n",
        "                    skipped_lines_count += 1\n",
        "                    continue\n",
        "\n",
        "                if image_id not in annotations:\n",
        "                    annotations[image_id] = []\n",
        "                annotations[image_id].append(caption_text)\n",
        "                parsed_lines_count += 1\n",
        "\n",
        "        print(f\"Finished parsing captions. Successfully parsed {parsed_lines_count} lines. Skipped {skipped_lines_count} lines.\")\n",
        "        if not annotations:\n",
        "            print(\"Critical Warning: No valid image-caption entries were parsed from the captions file.\")\n",
        "        return annotations\n",
        "\n",
        "    def _cache_features(self):\n",
        "        if self.feature_extractor_model is None:\n",
        "            print(\"Feature extractor model not provided; assuming features are already cached.\")\n",
        "            verified_image_ids = []\n",
        "            for img_id in tqdm(list(self.annotations.keys()), desc=\"Verifying cached features\"):\n",
        "                cache_path = os.path.join(self.cached_features_dir, img_id.replace('.jpg', '.pt'))\n",
        "                if os.path.exists(cache_path):\n",
        "                    try:\n",
        "                        feature = torch.load(cache_path)\n",
        "                        if feature.shape == torch.Size([2048]):\n",
        "                            verified_image_ids.append(img_id)\n",
        "                        else:\n",
        "                            print(f\"Warning: Cached feature for {img_id} at {cache_path} has incorrect shape {feature.shape}. Expected torch.Size([2048]). This file will be marked for re-caching if a feature extractor is provided later.\")\n",
        "                    except Exception as e:\n",
        "                        print(f\"Warning: Could not load cached feature for {img_id} at {cache_path}: {e}. This file will be marked for re-caching if a feature extractor is provided later.\")\n",
        "                else:\n",
        "                    print(f\"Warning: Cached feature file not found for {img_id} at {cache_path}. This image will be skipped if no feature extractor is provided.\")\n",
        "\n",
        "            if len(verified_image_ids) < len(self.annotations.keys()):\n",
        "                print(f\"Warning: {len(self.annotations.keys()) - len(verified_image_ids)} images had missing or problematic cached features. These will be excluded from the dataset.\")\n",
        "            self.image_ids = verified_image_ids\n",
        "            return\n",
        "\n",
        "        initial_image_ids = list(self.annotations.keys())\n",
        "\n",
        "        self.feature_extractor_model.eval()\n",
        "        self.feature_extractor_model.to(Config.DEVICE)\n",
        "\n",
        "        problematic_images = set()\n",
        "\n",
        "        for img_id in tqdm(initial_image_ids, desc=\"Caching features\"):\n",
        "            img_path = os.path.join(self.images_dir, img_id)\n",
        "            cache_path = os.path.join(self.cached_features_dir, img_id.replace('.jpg', '.pt'))\n",
        "\n",
        "            if os.path.exists(cache_path):\n",
        "                try:\n",
        "                    existing_feature = torch.load(cache_path)\n",
        "                    if existing_feature.shape == torch.Size([2048]):\n",
        "                        continue\n",
        "                    else:\n",
        "                        print(f\"Warning: Existing cached feature for {img_id} at {cache_path} has incorrect shape {existing_feature.shape}. Re-caching.\")\n",
        "                        os.remove(cache_path)\n",
        "                except Exception as e:\n",
        "                    print(f\"Warning: Could not load existing cached feature for {img_id} at {cache_path}: {e}. Re-caching.\")\n",
        "                    if os.path.exists(cache_path):\n",
        "                        os.remove(cache_path)\n",
        "\n",
        "            try:\n",
        "                if not os.path.exists(img_path):\n",
        "                    print(f\"Warning: Image file not found for {img_id} at {img_path}. Skipping feature caching for this image.\")\n",
        "                    problematic_images.add(img_id)\n",
        "                    continue\n",
        "\n",
        "                image = Image.open(img_path).convert('RGB')\n",
        "                image = self.transform(image).unsqueeze(0).to(Config.DEVICE)\n",
        "\n",
        "                with torch.no_grad():\n",
        "                    features = self.feature_extractor_model(image).squeeze(0)\n",
        "\n",
        "                if features.shape != torch.Size([2048]):\n",
        "                    print(f\"Warning: Feature extraction for {img_id} resulted in unexpected shape {features.shape}. Expected torch.Size([2048]). This feature will NOT be cached.\")\n",
        "                    problematic_images.add(img_id)\n",
        "                    continue\n",
        "\n",
        "                torch.save(features.cpu(), cache_path)\n",
        "            except Exception as e:\n",
        "                print(f\"Error processing image {img_id} during feature caching: {e}\")\n",
        "                problematic_images.add(img_id)\n",
        "                continue\n",
        "\n",
        "        print(\"Feature caching complete.\")\n",
        "\n",
        "        if problematic_images:\n",
        "            self.image_ids = [img_id for img_id in initial_image_ids if img_id not in problematic_images]\n",
        "            print(f\"Warning: Skipped caching features for {len(problematic_images)} images due to errors or unexpected shapes. These images will be excluded from the dataset.\")\n",
        "            for img_id in list(problematic_images)[:5]:\n",
        "                print(f\"- {img_id}\")\n",
        "            if len(problematic_images) > 5:\n",
        "                print(f\"... and {len(problematic_images) - 5} more.\")\n",
        "            print(f\"Adjusted dataset size to {len(self.image_ids) * 5} (from {len(initial_image_ids) * 5}) after filtering problematic images.\")\n",
        "        else:\n",
        "            self.image_ids = initial_image_ids\n",
        "            print(\"All image features cached successfully with correct shapes.\")\n",
        "\n",
        "\n",
        "    def __len__(self):\n",
        "        return len(self.image_ids) * 5\n",
        "\n",
        "    def __getitem__(self, idx):\n",
        "        img_idx = idx // 5\n",
        "        cap_idx = idx % 5\n",
        "\n",
        "        img_id = self.image_ids[img_idx]\n",
        "        caption_text = self.annotations[img_id][cap_idx]\n",
        "\n",
        "        feature_path = os.path.join(self.cached_features_dir, img_id.replace('.jpg', '.pt'))\n",
        "\n",
        "        try:\n",
        "            image_feature = torch.load(feature_path)\n",
        "            if image_feature.shape != torch.Size([2048]):\n",
        "                raise RuntimeError(f\"CRITICAL: Loaded feature for {img_id} from {feature_path} has incorrect shape: {image_feature.shape}. Expected torch.Size([2048]). This indicates a corruption *after* caching or a logic error in filtering.\")\n",
        "        except Exception as e:\n",
        "            print(f\"Error loading cached feature for {img_id} at {feature_path}: {e}. Returning a zero tensor as fallback.\")\n",
        "            image_feature = torch.zeros(2048)\n",
        "\n",
        "        tokens = word_tokenize(caption_text.lower())\n",
        "        caption_sequence = [self.vocab('<start>')] + [self.vocab(token) for token in tokens] + [self.vocab('<end>')]\n",
        "\n",
        "        return image_feature, torch.tensor(caption_sequence)\n",
        "\n",
        "def collate_fn(data):\n",
        "    data.sort(key=lambda x: len(x[1]), reverse=True)\n",
        "    images, captions = zip(*data)\n",
        "\n",
        "    images = torch.stack(images, 0)\n",
        "\n",
        "    lengths = [len(cap) for cap in captions]\n",
        "    targets = torch.zeros(len(captions), max(lengths)).long()\n",
        "    for i, cap in enumerate(captions):\n",
        "        end = lengths[i]\n",
        "        targets[i, :end] = cap[:end]\n",
        "\n",
        "    return images, targets, lengths"
      ]
    },
    {
      "cell_type": "code",
      "execution_count": 4,
      "metadata": {},
      "outputs": [],
      "source": [
        "class ImageFiles(Dataset):\n",
        "    def __init__(self, image_ids, images_dir, transform):\n",
        "        self.ids = image_ids\n",
        "        self.root = images_dir\n",
        "        self.tf = transform\n",
        "    def __len__(self): return len(self.ids)\n",
        "    def __getitem__(self, i):\n",
        "        p = os.path.join(self.root, self.ids[i])\n",
        "        img = Image.open(p).convert('RGB')\n",
        "        return self.tf(img), self.ids[i]\n",
        "\n",
        "def cache_features_cpu(image_ids, images_dir, transform, encoder, out_dir, batch_size=64, num_workers=0):\n",
        "    os.makedirs(out_dir, exist_ok=True)\n",
        "    # skip those already cached\n",
        "    ids_to_do = [i for i in image_ids if not os.path.exists(os.path.join(out_dir, i.replace('.jpg', '.pt')))]\n",
        "    if not ids_to_do:\n",
        "        print(\"All features already cached.\"); return\n",
        "\n",
        "    ds = ImageFiles(ids_to_do, images_dir, transform)\n",
        "    dl = DataLoader(ds, batch_size=batch_size, shuffle=False, num_workers=num_workers, pin_memory=False)\n",
        "\n",
        "    encoder.eval()\n",
        "    with torch.inference_mode():\n",
        "        for imgs, ids in tqdm(dl, desc=\"Caching features (CPU, batched)\"):\n",
        "            feats = encoder(imgs)  # (B, 2048) from your EncoderCNN\n",
        "            feats = feats.cpu()\n",
        "            for f, img_id in zip(feats, ids):\n",
        "                torch.save(f, os.path.join(out_dir, img_id.replace('.jpg', '.pt')))"
      ]
    },
    {
      "cell_type": "code",
      "execution_count": null,
      "metadata": {
        "id": "EesX90OLrwz_"
      },
      "outputs": [],
      "source": [
        "class EncoderCNN(nn.Module):\n",
        "    def __init__(self):\n",
        "        super(EncoderCNN, self).__init__()\n",
        "        print(\"Downloading ResNet-50 weights (first time only)...\")\n",
        "        resnet = models.resnet50(weights=models.ResNet50_Weights.IMAGENET1K_V2)\n",
        "        print(\"Weights ready.\")\n",
        "        \n",
        "        self.model = create_feature_extractor(resnet, return_nodes={'layer4': 'feature_map'})\n",
        "\n",
        "        for param in self.model.parameters():\n",
        "            param.requires_grad = False\n",
        "\n",
        "        self.avgpool = nn.AdaptiveAvgPool2d((1, 1))\n",
        "\n",
        "    def forward(self, images):\n",
        "        features = self.model(images)['feature_map']\n",
        "        features = self.avgpool(features)\n",
        "        features = features.view(features.size(0), -1)\n",
        "        return features"
      ]
    },
    {
      "cell_type": "code",
      "execution_count": 6,
      "metadata": {
        "id": "TyZhIAuHrw0A"
      },
      "outputs": [],
      "source": [
        "class DecoderWithGRU(nn.Module):\n",
        "    def __init__(self, embed_dim, decoder_dim, vocab_size, encoder_dim=2048, dropout=0.5):\n",
        "        super(DecoderWithGRU, self).__init__()\n",
        "\n",
        "        self.encoder_dim = encoder_dim\n",
        "        self.embed_dim = embed_dim\n",
        "        self.decoder_dim = decoder_dim\n",
        "        self.vocab_size = vocab_size\n",
        "        self.dropout = dropout\n",
        "\n",
        "        self.embedding = nn.Embedding(vocab_size, embed_dim)\n",
        "        self.dropout_layer = nn.Dropout(p=self.dropout)\n",
        "        self.init_h = nn.Linear(encoder_dim, decoder_dim)\n",
        "        self.gru = nn.GRU(embed_dim, decoder_dim, batch_first=True)\n",
        "        self.fc = nn.Linear(decoder_dim, vocab_size)\n",
        "        self.init_weights()\n",
        "\n",
        "    def init_weights(self):\n",
        "        self.embedding.weight.data.uniform_(-0.1, 0.1)\n",
        "        self.fc.bias.data.fill_(0)\n",
        "        self.fc.weight.data.uniform_(-0.1, 0.1)\n",
        "\n",
        "    def init_hidden_state(self, encoder_out):\n",
        "        mean_encoder_out = encoder_out.mean(dim=1)\n",
        "        h = self.init_h(mean_encoder_out)\n",
        "        return h.unsqueeze(0)  # (1, batch, decoder_dim) for GRU\n",
        "\n",
        "    def step(self, word_idx, h):\n",
        "        \"\"\"\n",
        "        word_idx: (B,) LongTensor of token ids\n",
        "        h: (1,B,H) hidden\n",
        "        returns logits (B,V), new_h (1,B,H)\n",
        "        \"\"\"\n",
        "        emb = self.embedding(word_idx).unsqueeze(1)          # (B,1,E)\n",
        "        out, h_new = self.gru(emb, h)                        # out: (B,1,H)\n",
        "        logits = self.fc(out.squeeze(1))                     # (B,V)\n",
        "        return logits, h_new\n",
        "\n",
        "    def forward(self, encoder_out, encoded_captions, caption_lengths):\n",
        "        batch_size = encoder_out.size(0)\n",
        "        encoder_dim = encoder_out.size(-1)\n",
        "        vocab_size = self.vocab_size\n",
        "\n",
        "        # Flatten image - handle different input shapes safely\n",
        "        if encoder_out.dim() == 2:  # Already flattened (batch, features)\n",
        "            encoder_out = encoder_out.unsqueeze(1)  # (batch, 1, features)\n",
        "        elif encoder_out.dim() == 4:  # Standard CNN output (batch, H, W, channels)\n",
        "            encoder_out = encoder_out.view(batch_size, -1, encoder_dim)\n",
        "        else:  # Already correct shape\n",
        "            pass\n",
        "\n",
        "        # Sort input data by decreasing lengths\n",
        "        if caption_lengths.dim() > 1:\n",
        "            caption_lengths = caption_lengths.squeeze(1)\n",
        "        caption_lengths, sort_ind = caption_lengths.sort(dim=0, descending=True)\n",
        "        encoder_out = encoder_out[sort_ind]\n",
        "        encoded_captions = encoded_captions[sort_ind]\n",
        "\n",
        "        # Embedding\n",
        "        embeddings = self.embedding(encoded_captions)\n",
        "        embeddings = self.dropout_layer(embeddings)\n",
        "\n",
        "        # Pack the sequences for efficient processing\n",
        "        packed_embeddings = nn.utils.rnn.pack_padded_sequence(embeddings, (caption_lengths).cpu(), batch_first=True)\n",
        "\n",
        "        # Initialize GRU state\n",
        "        h = self.init_hidden_state(encoder_out)  # (1, batch, decoder_dim)\n",
        "\n",
        "        # Forward through GRU\n",
        "        packed_outputs, _ = self.gru(packed_embeddings, h)\n",
        "        outputs, _ = nn.utils.rnn.pad_packed_sequence(packed_outputs, batch_first=True)\n",
        "\n",
        "        # Predict vocab for each time step\n",
        "        predictions = self.fc(outputs)\n",
        "\n",
        "        # We won't decode at the <end> position\n",
        "        decode_lengths = (caption_lengths - 1).tolist()\n",
        "\n",
        "        return predictions, encoded_captions, decode_lengths, sort_ind\n",
        "\n"
      ]
    },
    {
      "cell_type": "code",
      "execution_count": 7,
      "metadata": {},
      "outputs": [],
      "source": [
        "def beam_search(decoder, img_feature, vocab, beam_size=5, max_len=20):\n",
        "    k = beam_size\n",
        "    start = vocab.word2idx['<start>']\n",
        "    end   = vocab.word2idx['<end>']\n",
        "\n",
        "    # init hidden\n",
        "    encoder_out = img_feature.unsqueeze(1)            # (1,1,2048)\n",
        "    h = decoder.init_hidden_state(encoder_out)        # (1,1,H)\n",
        "\n",
        "    beams = [([], h, 0.0)]                            # (seq, h, logprob)\n",
        "    for _ in range(max_len):\n",
        "        cand = []\n",
        "        for seq, h_cur, score in beams:\n",
        "            if seq and seq[-1] == end:\n",
        "                cand.append((seq, h_cur, score)); continue\n",
        "\n",
        "            last = torch.tensor([seq[-1] if seq else start], dtype=torch.long, device=img_feature.device)\n",
        "            logits, h_next = decoder.step(last, h_cur)     # ✅ use indices\n",
        "            logp = torch.log_softmax(logits, dim=-1)       # (1,V)\n",
        "            topk_logp, topk_idx = torch.topk(logp, k, dim=-1)\n",
        "\n",
        "            for i in range(k):\n",
        "                cand.append((seq + [topk_idx[0, i].item()], h_next, score + topk_logp[0, i].item()))\n",
        "        beams = sorted(cand, key=lambda x: x[2], reverse=True)[:k]\n",
        "        if all(s and s[-1] == end for s,_,_ in beams): break\n",
        "\n",
        "    return beams[0][0]\n"
      ]
    },
    {
      "cell_type": "markdown",
      "metadata": {
        "id": "T9wr_LqArw0A"
      },
      "source": [
        "### 8. Evaluation (BLEU Score)\n",
        "\n",
        "These functions provide a way to evaluate the model's performance on a subset of the dataset using BLEU scores, a common metric for machine translation and text generation.\n"
      ]
    },
    {
      "cell_type": "code",
      "execution_count": 8,
      "metadata": {
        "colab": {
          "base_uri": "https://localhost:8080/"
        },
        "id": "bWSS2O_hrw0B",
        "outputId": "255310f1-c55f-405a-c37a-819ae0b6d5aa"
      },
      "outputs": [],
      "source": [
        "def evaluate_bleu_features(decoder, val_dataset, vocab, beam_size=5, max_len=20, device=\"cpu\"):\n",
        "    from nltk.translate.bleu_score import sentence_bleu, SmoothingFunction\n",
        "    sf = SmoothingFunction()\n",
        "\n",
        "    decoder.eval()\n",
        "    bleu_scores = []\n",
        "    with torch.no_grad():\n",
        "        for img_id in val_dataset.image_ids:\n",
        "            # load cached feature (2048,)\n",
        "            feat_path = os.path.join(val_dataset.cached_features_dir, img_id.replace(\".jpg\", \".pt\"))\n",
        "            feat = torch.load(feat_path, map_location=device).unsqueeze(0).to(device) \n",
        "\n",
        "            # decode with beam search (must use decoder.step(word_idx, h))\n",
        "            seq = beam_search(decoder, feat, vocab, beam_size=beam_size, max_len=max_len)\n",
        "\n",
        "            pred_words = [\n",
        "                vocab.idx2word[i] for i in seq\n",
        "                if i not in {vocab.word2idx['<start>'], vocab.word2idx['<end>'], vocab.word2idx['<pad>']}\n",
        "            ]\n",
        "            refs = [word_tokenize(c.lower()) for c in val_dataset.annotations[img_id]]\n",
        "\n",
        "            bleu_scores.append(sentence_bleu(refs, pred_words, smoothing_function=sf.method4))\n",
        "\n",
        "    avg_bleu = float(np.mean(bleu_scores)) if bleu_scores else 0.0\n",
        "    return {\n",
        "        \"bleu_overall\": avg_bleu,\n",
        "        \"total_images\": len(val_dataset.image_ids),\n",
        "    }\n"
      ]
    },
    {
      "cell_type": "code",
      "execution_count": 9,
      "metadata": {
        "colab": {
          "base_uri": "https://localhost:8080/"
        },
        "id": "qLC6kCzqrw0C",
        "outputId": "31b5a7ce-e990-4b3d-c627-bc4360708162"
      },
      "outputs": [
        {
          "name": "stdout",
          "output_type": "stream",
          "text": [
            "Functions ready\n"
          ]
        }
      ],
      "source": [
        "def train_epoch(train_loader, encoder, decoder, criterion, encoder_optimizer, decoder_optimizer):\n",
        "    encoder.train()\n",
        "    decoder.train()\n",
        "    total_loss = 0\n",
        "\n",
        "    for imgs, caps, caplens in tqdm(train_loader, desc=\"Training\"):\n",
        "        imgs, caps, caplens = imgs.to(device), caps.to(device), torch.tensor(caplens).to(device)\n",
        "\n",
        "        # Forward pass\n",
        "        scores, caps_sorted, decode_lengths, sort_ind = decoder(imgs, caps, caplens)\n",
        "        targets = caps_sorted[:, 1:]\n",
        "\n",
        "        # Calculate loss without packing (simpler for GRUCell decoder)\n",
        "        loss = 0\n",
        "        for i, length in enumerate(decode_lengths):\n",
        "            loss += criterion(scores[i, :length, :], targets[i, :length])\n",
        "        loss /= len(decode_lengths)\n",
        "\n",
        "        # Backward pass\n",
        "        decoder_optimizer.zero_grad()\n",
        "        if encoder_optimizer:\n",
        "            encoder_optimizer.zero_grad()\n",
        "        loss.backward()\n",
        "\n",
        "        # Clip gradients and update\n",
        "        torch.nn.utils.clip_grad_norm_(decoder.parameters(), 5.0)\n",
        "        if encoder_optimizer:\n",
        "            torch.nn.utils.clip_grad_norm_(encoder.parameters(), 5.0)\n",
        "\n",
        "        decoder_optimizer.step()\n",
        "        if encoder_optimizer:\n",
        "            encoder_optimizer.step()\n",
        "\n",
        "        total_loss += loss.item()\n",
        "\n",
        "    return total_loss / len(train_loader)\n",
        "\n",
        "def validate(val_loader, encoder, decoder, criterion):\n",
        "    encoder.eval()\n",
        "    decoder.eval()\n",
        "    total_loss = 0\n",
        "\n",
        "    with torch.no_grad():\n",
        "        for imgs, caps, caplens, _ in tqdm(val_loader, desc=\"Validation\"):\n",
        "            imgs, caps, caplens = imgs.to(device), caps.to(device), torch.tensor(caplens).to(device)\n",
        "\n",
        "            scores, caps_sorted, decode_lengths, _ = decoder(imgs, caps, caplens)\n",
        "            targets = caps_sorted[:, 1:]\n",
        "\n",
        "            # Calculate loss\n",
        "            loss = 0\n",
        "            for i, length in enumerate(decode_lengths):\n",
        "                loss += criterion(scores[i, :length, :], targets[i, :length])\n",
        "            loss /= len(decode_lengths)\n",
        "\n",
        "            total_loss += loss.item()\n",
        "\n",
        "    return total_loss / len(val_loader)\n",
        "\n",
        "print(\"Functions ready\")\n"
      ]
    },
    {
      "cell_type": "code",
      "execution_count": 10,
      "metadata": {
        "colab": {
          "base_uri": "https://localhost:8080/"
        },
        "id": "9QFfbMV4rw0C",
        "outputId": "f4c6c7e8-1895-4df0-9672-9975a26cd9a8"
      },
      "outputs": [
        {
          "name": "stdout",
          "output_type": "stream",
          "text": [
            "Model loading function ready!\n"
          ]
        }
      ],
      "source": [
        "def load_trained_model(model_path, word_map):\n",
        "    \"\"\"Load a trained GRU model from checkpoint\"\"\"\n",
        "    print(f\"Loading model from: {model_path}\")\n",
        "\n",
        "    # Initialize fresh models\n",
        "    encoder_eval = EncoderCNN().to(device)\n",
        "    decoder_eval = DecoderWithGRU(\n",
        "        embed_dim=embed_dim,\n",
        "        decoder_dim=decoder_dim,\n",
        "        vocab_size=len(word_map),\n",
        "        dropout=dropout\n",
        "    ).to(device)\n",
        "\n",
        "    # Load checkpoint\n",
        "    checkpoint = torch.load(model_path, map_location=device)\n",
        "    encoder_eval.load_state_dict(checkpoint['encoder'])\n",
        "    decoder_eval.load_state_dict(checkpoint['decoder'])\n",
        "\n",
        "    encoder_eval.eval()\n",
        "    decoder_eval.eval()\n",
        "\n",
        "    print(\"Model loaded successfully!\")\n",
        "    return encoder_eval, decoder_eval\n",
        "\n",
        "print(\"Model loading function ready!\")\n"
      ]
    },
    {
      "cell_type": "code",
      "execution_count": 11,
      "metadata": {
        "colab": {
          "base_uri": "https://localhost:8080/"
        },
        "id": "yK6zC6cKrw0C",
        "outputId": "84e4cc00-8df6-4f80-d745-e5898f36caed"
      },
      "outputs": [],
      "source": [
        "def prepare_data(fast=True):\n",
        "    print(\"Preparing data...\")\n",
        "\n",
        "    # 0) Reuse local data if present; otherwise download once\n",
        "    if not os.path.isdir(Config.DATA_DIR):\n",
        "        os.makedirs(Config.DATA_DIR, exist_ok=True)\n",
        "        # download only if missing\n",
        "        caps_zip = os.path.join(Config.DATA_DIR, \"Flickr8k_text.zip\")\n",
        "        imgs_zip = os.path.join(Config.DATA_DIR, \"Flickr8k_Dataset.zip\")\n",
        "\n",
        "        if not os.path.exists(caps_zip):\n",
        "            url = \"https://github.com/jbrownlee/Datasets/releases/download/Flickr8k/Flickr8k_text.zip\"\n",
        "            with requests.get(url, stream=True, timeout=120) as r:\n",
        "                r.raise_for_status()\n",
        "                with open(caps_zip, \"wb\") as f: \n",
        "                    for chunk in r.iter_content(8192): f.write(chunk)\n",
        "        if not os.path.exists(imgs_zip):\n",
        "            url = \"https://github.com/jbrownlee/Datasets/releases/download/Flickr8k/Flickr8k_Dataset.zip\"\n",
        "            with requests.get(url, stream=True, timeout=300) as r:\n",
        "                r.raise_for_status()\n",
        "                with open(imgs_zip, \"wb\") as f: \n",
        "                    for chunk in r.iter_content(8192): f.write(chunk)\n",
        "\n",
        "        # unzip into Config.DATA_DIR\n",
        "        with zipfile.ZipFile(caps_zip, 'r') as z: z.extractall(Config.DATA_DIR)\n",
        "        with zipfile.ZipFile(imgs_zip, 'r') as z: z.extractall(Config.DATA_DIR)\n",
        "\n",
        "    captions_file = Config.CAPTIONS_FILE\n",
        "    images_dir    = Config.IMAGES_DIR\n",
        "    features_dir  = Config.CACHED_FEATURES_DIR\n",
        "    os.makedirs(features_dir, exist_ok=True)\n",
        "\n",
        "    # 1) Build vocab\n",
        "    all_captions = []\n",
        "    with open(captions_file, 'r') as f:\n",
        "        for line in f:\n",
        "            parts = line.strip().split('\\t', 1)\n",
        "            if len(parts) < 2:\n",
        "                parts = line.strip().split(' ', 1)\n",
        "                if len(parts) < 2: continue\n",
        "            all_captions.append(parts[1].strip())\n",
        "\n",
        "    vocab = Vocabulary(Config.VOCAB_THRESHOLD)\n",
        "    vocab.build_vocabulary(all_captions)\n",
        "    print(f\"Vocabulary size: {len(vocab)}\")\n",
        "\n",
        "    # 2) Parse captions → image_ids\n",
        "    annotations = {}\n",
        "    with open(captions_file, 'r') as f:\n",
        "        for line in f:\n",
        "            line = line.strip()\n",
        "            if not line: continue\n",
        "            k, cap = line.split('\\t', 1) if '\\t' in line else line.split(' ', 1)\n",
        "            img_id = k.split('#')[0] if '#' in k else (k.split('.jpg.')[0] + '.jpg' if '.jpg.' in k else k)\n",
        "            if not img_id.lower().endswith('.jpg'): continue\n",
        "            annotations.setdefault(img_id, []).append(cap.strip())\n",
        "    all_ids = list(annotations.keys())\n",
        "\n",
        "    # 3) Use official splits to avoid caching all 8k images\n",
        "    train_list = os.path.join(Config.DATA_DIR, \"Flickr_8k.trainImages.txt\")\n",
        "    dev_list   = os.path.join(Config.DATA_DIR, \"Flickr_8k.devImages.txt\")\n",
        "    if os.path.exists(train_list) and os.path.exists(dev_list):\n",
        "        def read_ids(p): \n",
        "            with open(p) as f: return [l.strip() for l in f if l.strip()]\n",
        "        train_ids = read_ids(train_list)\n",
        "        val_ids   = read_ids(dev_list)\n",
        "    else:\n",
        "        # fallback: random split\n",
        "        from sklearn.model_selection import train_test_split\n",
        "        train_ids, val_ids = train_test_split(all_ids, test_size=0.1, random_state=42)\n",
        "\n",
        "    # 4) Transform + (fast) CPU feature caching only for train+val\n",
        "    transform = transforms.Compose([\n",
        "        transforms.Resize((224, 224)),\n",
        "        transforms.ToTensor(),\n",
        "        transforms.Normalize(mean=[0.485, 0.456, 0.406], std=[0.229, 0.224, 0.225]),\n",
        "    ])\n",
        "\n",
        "    if fast:\n",
        "        temp_encoder = EncoderCNN()  # runs on CPU\n",
        "        ids_to_cache = list(set(train_ids + val_ids))\n",
        "        cache_features_cpu(ids_to_cache, images_dir, transform, temp_encoder, features_dir,\n",
        "                           batch_size=64, num_workers=0)\n",
        "        del temp_encoder\n",
        "\n",
        "    # 5) Build minimal dataset objects that read cached features only\n",
        "    def make_dataset(ids):\n",
        "        ds = Flickr8kDataset(\n",
        "            captions_file, images_dir, vocab, transform, features_dir, feature_extractor_model=None\n",
        "        )\n",
        "        ds.image_ids = ids\n",
        "        ds.annotations = {img_id: annotations[img_id] for img_id in ids}\n",
        "        return ds\n",
        "\n",
        "    train_dataset = make_dataset(train_ids)\n",
        "    val_dataset   = make_dataset(val_ids)\n",
        "\n",
        "    train_loader = DataLoader(train_dataset, batch_size=Config.BATCH_SIZE, shuffle=True,\n",
        "                              num_workers=0, collate_fn=collate_fn, pin_memory=False)\n",
        "    val_loader   = DataLoader(val_dataset, batch_size=Config.BATCH_SIZE, shuffle=False,\n",
        "                              num_workers=0, collate_fn=collate_fn, pin_memory=False)\n",
        "\n",
        "    decoder = DecoderWithGRU(Config.EMBED_SIZE, Config.HIDDEN_SIZE, len(vocab),\n",
        "                             dropout=Config.DROPOUT_PROB).to(Config.DEVICE)\n",
        "    criterion = nn.CrossEntropyLoss(ignore_index=vocab('<pad>'))\n",
        "    optimizer = optim.Adam(decoder.parameters(), lr=Config.LEARNING_RATE)\n",
        "\n",
        "    print(\"Data prep complete.\")\n",
        "    return decoder, vocab, val_dataset, train_loader, val_loader, criterion, optimizer\n"
      ]
    },
    {
      "cell_type": "code",
      "execution_count": 12,
      "metadata": {
        "colab": {
          "base_uri": "https://localhost:8080/"
        },
        "id": "yv9LOl3Crw0D",
        "outputId": "11236496-f63b-4547-9d9e-f6b23c9aca7a"
      },
      "outputs": [
        {
          "name": "stdout",
          "output_type": "stream",
          "text": [
            "Preparing data...\n"
          ]
        },
        {
          "name": "stderr",
          "output_type": "stream",
          "text": [
            "Building Vocabulary: 100%|██████████| 40460/40460 [00:23<00:00, 1752.42it/s]\n"
          ]
        },
        {
          "name": "stdout",
          "output_type": "stream",
          "text": [
            "Vocabulary built with 3005 unique words (threshold=5).\n",
            "Vocabulary size: 3005\n",
            "Downloading ResNet-50 weights (first time only)...\n",
            "Weights ready.\n"
          ]
        },
        {
          "name": "stderr",
          "output_type": "stream",
          "text": [
            "Caching features (CPU, batched): 100%|██████████| 110/110 [38:28<00:00, 20.99s/it]\n"
          ]
        },
        {
          "name": "stdout",
          "output_type": "stream",
          "text": [
            "Warning: Skipping malformed image ID format on line 6731: '2258277193_586949ec62.jpg.1' (Expected format like 'image.jpg').\n",
            "Warning: Skipping malformed image ID format on line 6732: '2258277193_586949ec62.jpg.1' (Expected format like 'image.jpg').\n",
            "Warning: Skipping malformed image ID format on line 6733: '2258277193_586949ec62.jpg.1' (Expected format like 'image.jpg').\n",
            "Warning: Skipping malformed image ID format on line 6734: '2258277193_586949ec62.jpg.1' (Expected format like 'image.jpg').\n",
            "Warning: Skipping malformed image ID format on line 6735: '2258277193_586949ec62.jpg.1' (Expected format like 'image.jpg').\n",
            "Finished parsing captions. Successfully parsed 40455 lines. Skipped 5 lines.\n",
            "Checking and caching image features...\n",
            "Feature extractor model not provided; assuming features are already cached.\n"
          ]
        },
        {
          "name": "stderr",
          "output_type": "stream",
          "text": [
            "Verifying cached features:   1%|          | 44/8091 [00:05<24:11,  5.54it/s]"
          ]
        },
        {
          "name": "stdout",
          "output_type": "stream",
          "text": [
            "Warning: Cached feature file not found for 1056338697_4f7d7ce270.jpg at cached_features\\1056338697_4f7d7ce270.pt. This image will be skipped if no feature extractor is provided.\n"
          ]
        },
        {
          "name": "stderr",
          "output_type": "stream",
          "text": [
            "Verifying cached features:   1%|          | 51/8091 [00:06<14:50,  9.02it/s]"
          ]
        },
        {
          "name": "stdout",
          "output_type": "stream",
          "text": [
            "Warning: Cached feature file not found for 106490881_5a2dd9b7bd.jpg at cached_features\\106490881_5a2dd9b7bd.pt. This image will be skipped if no feature extractor is provided.\n"
          ]
        },
        {
          "name": "stderr",
          "output_type": "stream",
          "text": [
            "Verifying cached features:   1%|          | 67/8091 [00:07<09:51, 13.57it/s]"
          ]
        },
        {
          "name": "stdout",
          "output_type": "stream",
          "text": [
            "Warning: Cached feature file not found for 1082379191_ec1e53f996.jpg at cached_features\\1082379191_ec1e53f996.pt. This image will be skipped if no feature extractor is provided.\n",
            "Warning: Cached feature file not found for 1084040636_97d9633581.jpg at cached_features\\1084040636_97d9633581.pt. This image will be skipped if no feature extractor is provided.\n"
          ]
        },
        {
          "name": "stderr",
          "output_type": "stream",
          "text": [
            "Verifying cached features:   1%|          | 90/8091 [00:09<09:06, 14.63it/s]"
          ]
        },
        {
          "name": "stdout",
          "output_type": "stream",
          "text": [
            "Warning: Cached feature file not found for 1096395242_fc69f0ae5a.jpg at cached_features\\1096395242_fc69f0ae5a.pt. This image will be skipped if no feature extractor is provided.\n"
          ]
        },
        {
          "name": "stderr",
          "output_type": "stream",
          "text": [
            "Verifying cached features:   1%|          | 100/8091 [00:10<10:37, 12.53it/s]"
          ]
        },
        {
          "name": "stdout",
          "output_type": "stream",
          "text": [
            "Warning: Cached feature file not found for 1107246521_d16a476380.jpg at cached_features\\1107246521_d16a476380.pt. This image will be skipped if no feature extractor is provided.\n"
          ]
        },
        {
          "name": "stderr",
          "output_type": "stream",
          "text": [
            "Verifying cached features:   1%|▏         | 114/8091 [00:11<08:09, 16.29it/s]"
          ]
        },
        {
          "name": "stdout",
          "output_type": "stream",
          "text": [
            "Warning: Cached feature file not found for 1119015538_e8e796281e.jpg at cached_features\\1119015538_e8e796281e.pt. This image will be skipped if no feature extractor is provided.\n"
          ]
        },
        {
          "name": "stderr",
          "output_type": "stream",
          "text": [
            "Verifying cached features:   1%|▏         | 121/8091 [00:11<06:30, 20.40it/s]"
          ]
        },
        {
          "name": "stdout",
          "output_type": "stream",
          "text": [
            "Warning: Cached feature file not found for 1122944218_8eb3607403.jpg at cached_features\\1122944218_8eb3607403.pt. This image will be skipped if no feature extractor is provided.\n"
          ]
        },
        {
          "name": "stderr",
          "output_type": "stream",
          "text": [
            "Verifying cached features:   2%|▏         | 126/8091 [00:11<07:42, 17.21it/s]"
          ]
        },
        {
          "name": "stdout",
          "output_type": "stream",
          "text": [
            "Warning: Cached feature file not found for 1131800850_89c7ffd477.jpg at cached_features\\1131800850_89c7ffd477.pt. This image will be skipped if no feature extractor is provided.\n",
            "Warning: Cached feature file not found for 1131932671_c8d17751b3.jpg at cached_features\\1131932671_c8d17751b3.pt. This image will be skipped if no feature extractor is provided.\n"
          ]
        },
        {
          "name": "stderr",
          "output_type": "stream",
          "text": [
            "Verifying cached features:   2%|▏         | 130/8091 [00:12<07:28, 17.74it/s]"
          ]
        },
        {
          "name": "stdout",
          "output_type": "stream",
          "text": [
            "Warning: Cached feature file not found for 113678030_87a6a6e42e.jpg at cached_features\\113678030_87a6a6e42e.pt. This image will be skipped if no feature extractor is provided.\n",
            "Warning: Cached feature file not found for 114051287_dd85625a04.jpg at cached_features\\114051287_dd85625a04.pt. This image will be skipped if no feature extractor is provided.\n"
          ]
        },
        {
          "name": "stderr",
          "output_type": "stream",
          "text": [
            "Verifying cached features:   2%|▏         | 146/8091 [00:13<08:37, 15.35it/s]"
          ]
        },
        {
          "name": "stdout",
          "output_type": "stream",
          "text": [
            "Warning: Cached feature file not found for 1155138244_859fd6e079.jpg at cached_features\\1155138244_859fd6e079.pt. This image will be skipped if no feature extractor is provided.\n",
            "Warning: Cached feature file not found for 115684808_cb01227802.jpg at cached_features\\115684808_cb01227802.pt. This image will be skipped if no feature extractor is provided.\n"
          ]
        },
        {
          "name": "stderr",
          "output_type": "stream",
          "text": [
            "Verifying cached features:   2%|▏         | 155/8091 [00:14<09:42, 13.61it/s]"
          ]
        },
        {
          "name": "stdout",
          "output_type": "stream",
          "text": [
            "Warning: Cached feature file not found for 1167669558_87a8a467d6.jpg at cached_features\\1167669558_87a8a467d6.pt. This image will be skipped if no feature extractor is provided.\n"
          ]
        },
        {
          "name": "stderr",
          "output_type": "stream",
          "text": [
            "Verifying cached features:   2%|▏         | 159/8091 [00:14<08:46, 15.08it/s]"
          ]
        },
        {
          "name": "stdout",
          "output_type": "stream",
          "text": [
            "Warning: Cached feature file not found for 1174525839_7c1e6cfa86.jpg at cached_features\\1174525839_7c1e6cfa86.pt. This image will be skipped if no feature extractor is provided.\n",
            "Warning: Cached feature file not found for 1174629344_a2e1a2bdbf.jpg at cached_features\\1174629344_a2e1a2bdbf.pt. This image will be skipped if no feature extractor is provided.\n"
          ]
        },
        {
          "name": "stderr",
          "output_type": "stream",
          "text": [
            "Verifying cached features:   2%|▏         | 182/8091 [00:16<10:55, 12.07it/s]"
          ]
        },
        {
          "name": "stdout",
          "output_type": "stream",
          "text": [
            "Warning: Cached feature file not found for 1220401002_3f44b1f3f7.jpg at cached_features\\1220401002_3f44b1f3f7.pt. This image will be skipped if no feature extractor is provided.\n",
            "Warning: Cached feature file not found for 1224851143_33bcdd299c.jpg at cached_features\\1224851143_33bcdd299c.pt. This image will be skipped if no feature extractor is provided.\n"
          ]
        },
        {
          "name": "stderr",
          "output_type": "stream",
          "text": [
            "Verifying cached features:   2%|▏         | 197/8091 [00:17<11:38, 11.30it/s]"
          ]
        },
        {
          "name": "stdout",
          "output_type": "stream",
          "text": [
            "Warning: Cached feature file not found for 1237985362_dbafc59280.jpg at cached_features\\1237985362_dbafc59280.pt. This image will be skipped if no feature extractor is provided.\n"
          ]
        },
        {
          "name": "stderr",
          "output_type": "stream",
          "text": [
            "Verifying cached features:   3%|▎         | 210/8091 [00:19<11:37, 11.30it/s]"
          ]
        },
        {
          "name": "stdout",
          "output_type": "stream",
          "text": [
            "Warning: Cached feature file not found for 1248940539_46d33ed487.jpg at cached_features\\1248940539_46d33ed487.pt. This image will be skipped if no feature extractor is provided.\n"
          ]
        },
        {
          "name": "stderr",
          "output_type": "stream",
          "text": [
            "Verifying cached features:   3%|▎         | 220/8091 [00:22<43:31,  3.01it/s]  "
          ]
        },
        {
          "name": "stdout",
          "output_type": "stream",
          "text": [
            "Warning: Cached feature file not found for 1258913059_07c613f7ff.jpg at cached_features\\1258913059_07c613f7ff.pt. This image will be skipped if no feature extractor is provided.\n"
          ]
        },
        {
          "name": "stderr",
          "output_type": "stream",
          "text": [
            "Verifying cached features:   3%|▎         | 226/8091 [00:23<20:34,  6.37it/s]"
          ]
        },
        {
          "name": "stdout",
          "output_type": "stream",
          "text": [
            "Warning: Cached feature file not found for 1262583859_653f1469a9.jpg at cached_features\\1262583859_653f1469a9.pt. This image will be skipped if no feature extractor is provided.\n"
          ]
        },
        {
          "name": "stderr",
          "output_type": "stream",
          "text": [
            "Verifying cached features:   3%|▎         | 228/8091 [00:23<16:19,  8.03it/s]"
          ]
        },
        {
          "name": "stdout",
          "output_type": "stream",
          "text": [
            "Warning: Cached feature file not found for 1267711451_e2a754b4f8.jpg at cached_features\\1267711451_e2a754b4f8.pt. This image will be skipped if no feature extractor is provided.\n"
          ]
        },
        {
          "name": "stderr",
          "output_type": "stream",
          "text": [
            "Verifying cached features:   3%|▎         | 236/8091 [00:24<11:17, 11.59it/s]"
          ]
        },
        {
          "name": "stdout",
          "output_type": "stream",
          "text": [
            "Warning: Cached feature file not found for 127488876_f2d2a89588.jpg at cached_features\\127488876_f2d2a89588.pt. This image will be skipped if no feature extractor is provided.\n",
            "Warning: Cached feature file not found for 127490019_7c5c08cb11.jpg at cached_features\\127490019_7c5c08cb11.pt. This image will be skipped if no feature extractor is provided.\n"
          ]
        },
        {
          "name": "stderr",
          "output_type": "stream",
          "text": [
            "Verifying cached features:   3%|▎         | 240/8091 [00:24<10:29, 12.46it/s]"
          ]
        },
        {
          "name": "stdout",
          "output_type": "stream",
          "text": [
            "Warning: Cached feature file not found for 1282392036_5a0328eb86.jpg at cached_features\\1282392036_5a0328eb86.pt. This image will be skipped if no feature extractor is provided.\n"
          ]
        },
        {
          "name": "stderr",
          "output_type": "stream",
          "text": [
            "Verifying cached features:   3%|▎         | 248/8091 [00:24<08:57, 14.59it/s]"
          ]
        },
        {
          "name": "stdout",
          "output_type": "stream",
          "text": [
            "Warning: Cached feature file not found for 1287073593_f3d2a62455.jpg at cached_features\\1287073593_f3d2a62455.pt. This image will be skipped if no feature extractor is provided.\n",
            "Warning: Cached feature file not found for 1287475186_2dee85f1a5.jpg at cached_features\\1287475186_2dee85f1a5.pt. This image will be skipped if no feature extractor is provided.\n"
          ]
        },
        {
          "name": "stderr",
          "output_type": "stream",
          "text": [
            "Verifying cached features:   3%|▎         | 262/8091 [00:26<11:03, 11.81it/s]"
          ]
        },
        {
          "name": "stdout",
          "output_type": "stream",
          "text": [
            "Warning: Cached feature file not found for 1298295313_db1f4c6522.jpg at cached_features\\1298295313_db1f4c6522.pt. This image will be skipped if no feature extractor is provided.\n"
          ]
        },
        {
          "name": "stderr",
          "output_type": "stream",
          "text": [
            "Verifying cached features:   3%|▎         | 282/8091 [00:28<10:38, 12.23it/s]"
          ]
        },
        {
          "name": "stdout",
          "output_type": "stream",
          "text": [
            "Warning: Cached feature file not found for 1311388430_4ab0cd1a1f.jpg at cached_features\\1311388430_4ab0cd1a1f.pt. This image will be skipped if no feature extractor is provided.\n"
          ]
        },
        {
          "name": "stderr",
          "output_type": "stream",
          "text": [
            "Verifying cached features:   4%|▎         | 291/8091 [00:28<10:21, 12.55it/s]"
          ]
        },
        {
          "name": "stdout",
          "output_type": "stream",
          "text": [
            "Warning: Cached feature file not found for 1317292658_ba29330a0b.jpg at cached_features\\1317292658_ba29330a0b.pt. This image will be skipped if no feature extractor is provided.\n"
          ]
        },
        {
          "name": "stderr",
          "output_type": "stream",
          "text": [
            "Verifying cached features:   4%|▎         | 295/8091 [00:29<10:19, 12.58it/s]"
          ]
        },
        {
          "name": "stdout",
          "output_type": "stream",
          "text": [
            "Warning: Cached feature file not found for 1322323208_c7ecb742c6.jpg at cached_features\\1322323208_c7ecb742c6.pt. This image will be skipped if no feature extractor is provided.\n",
            "Warning: Cached feature file not found for 132489044_3be606baf7.jpg at cached_features\\132489044_3be606baf7.pt. This image will be skipped if no feature extractor is provided.\n",
            "Warning: Cached feature file not found for 1329832826_432538d331.jpg at cached_features\\1329832826_432538d331.pt. This image will be skipped if no feature extractor is provided.\n"
          ]
        },
        {
          "name": "stderr",
          "output_type": "stream",
          "text": [
            "Verifying cached features:   4%|▎         | 303/8091 [00:29<09:03, 14.33it/s]"
          ]
        },
        {
          "name": "stdout",
          "output_type": "stream",
          "text": [
            "Warning: Cached feature file not found for 1332722096_1e3de8ae70.jpg at cached_features\\1332722096_1e3de8ae70.pt. This image will be skipped if no feature extractor is provided.\n"
          ]
        },
        {
          "name": "stderr",
          "output_type": "stream",
          "text": [
            "Verifying cached features:   4%|▍         | 313/8091 [00:30<11:18, 11.46it/s]"
          ]
        },
        {
          "name": "stdout",
          "output_type": "stream",
          "text": [
            "Warning: Cached feature file not found for 1339596997_8ac29c1841.jpg at cached_features\\1339596997_8ac29c1841.pt. This image will be skipped if no feature extractor is provided.\n"
          ]
        },
        {
          "name": "stderr",
          "output_type": "stream",
          "text": [
            "Verifying cached features:   4%|▍         | 315/8091 [00:30<10:24, 12.46it/s]"
          ]
        },
        {
          "name": "stdout",
          "output_type": "stream",
          "text": [
            "Warning: Cached feature file not found for 1343426964_cde3fb54e8.jpg at cached_features\\1343426964_cde3fb54e8.pt. This image will be skipped if no feature extractor is provided.\n"
          ]
        },
        {
          "name": "stderr",
          "output_type": "stream",
          "text": [
            "Verifying cached features:   4%|▍         | 322/8091 [00:31<11:11, 11.57it/s]"
          ]
        },
        {
          "name": "stdout",
          "output_type": "stream",
          "text": [
            "Warning: Cached feature file not found for 1348304997_afe60a61df.jpg at cached_features\\1348304997_afe60a61df.pt. This image will be skipped if no feature extractor is provided.\n"
          ]
        },
        {
          "name": "stderr",
          "output_type": "stream",
          "text": [
            "Verifying cached features:   4%|▍         | 333/8091 [00:32<10:04, 12.83it/s]"
          ]
        },
        {
          "name": "stdout",
          "output_type": "stream",
          "text": [
            "Warning: Cached feature file not found for 1352410176_af6b139734.jpg at cached_features\\1352410176_af6b139734.pt. This image will be skipped if no feature extractor is provided.\n"
          ]
        },
        {
          "name": "stderr",
          "output_type": "stream",
          "text": [
            "Verifying cached features:   4%|▍         | 342/8091 [00:33<09:43, 13.27it/s]"
          ]
        },
        {
          "name": "stdout",
          "output_type": "stream",
          "text": [
            "Warning: Cached feature file not found for 1356796100_b265479721.jpg at cached_features\\1356796100_b265479721.pt. This image will be skipped if no feature extractor is provided.\n"
          ]
        },
        {
          "name": "stderr",
          "output_type": "stream",
          "text": [
            "Verifying cached features:   4%|▍         | 354/8091 [00:34<08:34, 15.05it/s]"
          ]
        },
        {
          "name": "stdout",
          "output_type": "stream",
          "text": [
            "Warning: Cached feature file not found for 136552115_6dc3e7231c.jpg at cached_features\\136552115_6dc3e7231c.pt. This image will be skipped if no feature extractor is provided.\n",
            "Warning: Cached feature file not found for 136644343_0e2b423829.jpg at cached_features\\136644343_0e2b423829.pt. This image will be skipped if no feature extractor is provided.\n"
          ]
        },
        {
          "name": "stderr",
          "output_type": "stream",
          "text": [
            "Verifying cached features:   4%|▍         | 358/8091 [00:34<08:56, 14.42it/s]"
          ]
        },
        {
          "name": "stdout",
          "output_type": "stream",
          "text": [
            "Warning: Cached feature file not found for 136886677_6026c622eb.jpg at cached_features\\136886677_6026c622eb.pt. This image will be skipped if no feature extractor is provided.\n"
          ]
        },
        {
          "name": "stderr",
          "output_type": "stream",
          "text": [
            "Verifying cached features:   5%|▍         | 368/8091 [00:35<09:58, 12.90it/s]"
          ]
        },
        {
          "name": "stdout",
          "output_type": "stream",
          "text": [
            "Warning: Cached feature file not found for 1386964743_9e80d96b05.jpg at cached_features\\1386964743_9e80d96b05.pt. This image will be skipped if no feature extractor is provided.\n",
            "Warning: Cached feature file not found for 138718600_f430ebca17.jpg at cached_features\\138718600_f430ebca17.pt. This image will be skipped if no feature extractor is provided.\n"
          ]
        },
        {
          "name": "stderr",
          "output_type": "stream",
          "text": [
            "Verifying cached features:   5%|▍         | 373/8091 [00:35<08:35, 14.96it/s]"
          ]
        },
        {
          "name": "stdout",
          "output_type": "stream",
          "text": [
            "Warning: Cached feature file not found for 1387785218_cee67735f5.jpg at cached_features\\1387785218_cee67735f5.pt. This image will be skipped if no feature extractor is provided.\n"
          ]
        },
        {
          "name": "stderr",
          "output_type": "stream",
          "text": [
            "Verifying cached features:   5%|▍         | 377/8091 [00:35<08:45, 14.69it/s]"
          ]
        },
        {
          "name": "stdout",
          "output_type": "stream",
          "text": [
            "Warning: Cached feature file not found for 1389264266_8170bc1c54.jpg at cached_features\\1389264266_8170bc1c54.pt. This image will be skipped if no feature extractor is provided.\n"
          ]
        },
        {
          "name": "stderr",
          "output_type": "stream",
          "text": [
            "Verifying cached features:   5%|▍         | 382/8091 [00:36<07:51, 16.34it/s]"
          ]
        },
        {
          "name": "stdout",
          "output_type": "stream",
          "text": [
            "Warning: Cached feature file not found for 1392272228_cf104086e6.jpg at cached_features\\1392272228_cf104086e6.pt. This image will be skipped if no feature extractor is provided.\n",
            "Warning: Cached feature file not found for 1394368714_3bc7c19969.jpg at cached_features\\1394368714_3bc7c19969.pt. This image will be skipped if no feature extractor is provided.\n"
          ]
        },
        {
          "name": "stderr",
          "output_type": "stream",
          "text": [
            "Verifying cached features:   5%|▍         | 397/8091 [00:37<09:59, 12.84it/s]"
          ]
        },
        {
          "name": "stdout",
          "output_type": "stream",
          "text": [
            "Warning: Cached feature file not found for 1402640441_81978e32a9.jpg at cached_features\\1402640441_81978e32a9.pt. This image will be skipped if no feature extractor is provided.\n"
          ]
        },
        {
          "name": "stderr",
          "output_type": "stream",
          "text": [
            "Verifying cached features:   5%|▍         | 404/8091 [00:38<09:51, 13.01it/s]"
          ]
        },
        {
          "name": "stdout",
          "output_type": "stream",
          "text": [
            "Warning: Cached feature file not found for 1404832008_68e432665b.jpg at cached_features\\1404832008_68e432665b.pt. This image will be skipped if no feature extractor is provided.\n"
          ]
        },
        {
          "name": "stderr",
          "output_type": "stream",
          "text": [
            "Verifying cached features:   5%|▌         | 408/8091 [00:38<09:24, 13.61it/s]"
          ]
        },
        {
          "name": "stdout",
          "output_type": "stream",
          "text": [
            "Warning: Cached feature file not found for 1408958345_68eea9a4e4.jpg at cached_features\\1408958345_68eea9a4e4.pt. This image will be skipped if no feature extractor is provided.\n"
          ]
        },
        {
          "name": "stderr",
          "output_type": "stream",
          "text": [
            "Verifying cached features:   5%|▌         | 418/8091 [00:39<09:04, 14.10it/s]"
          ]
        },
        {
          "name": "stdout",
          "output_type": "stream",
          "text": [
            "Warning: Cached feature file not found for 1415591512_a84644750c.jpg at cached_features\\1415591512_a84644750c.pt. This image will be skipped if no feature extractor is provided.\n",
            "Warning: Cached feature file not found for 1417031097_ab656bc4bd.jpg at cached_features\\1417031097_ab656bc4bd.pt. This image will be skipped if no feature extractor is provided.\n"
          ]
        },
        {
          "name": "stderr",
          "output_type": "stream",
          "text": [
            "Verifying cached features:   5%|▌         | 437/8091 [00:41<13:10,  9.69it/s]"
          ]
        },
        {
          "name": "stdout",
          "output_type": "stream",
          "text": [
            "Warning: Cached feature file not found for 1425069308_488e5fcf9d.jpg at cached_features\\1425069308_488e5fcf9d.pt. This image will be skipped if no feature extractor is provided.\n"
          ]
        },
        {
          "name": "stderr",
          "output_type": "stream",
          "text": [
            "Verifying cached features:   5%|▌         | 442/8091 [00:42<14:10,  9.00it/s]"
          ]
        },
        {
          "name": "stdout",
          "output_type": "stream",
          "text": [
            "Warning: Cached feature file not found for 1427391496_ea512cbe7f.jpg at cached_features\\1427391496_ea512cbe7f.pt. This image will be skipped if no feature extractor is provided.\n"
          ]
        },
        {
          "name": "stderr",
          "output_type": "stream",
          "text": [
            "Verifying cached features:   6%|▌         | 451/8091 [00:43<12:44, 10.00it/s]"
          ]
        },
        {
          "name": "stdout",
          "output_type": "stream",
          "text": [
            "Warning: Cached feature file not found for 1432179046_8e3d75cf81.jpg at cached_features\\1432179046_8e3d75cf81.pt. This image will be skipped if no feature extractor is provided.\n"
          ]
        },
        {
          "name": "stderr",
          "output_type": "stream",
          "text": [
            "Verifying cached features:   6%|▌         | 455/8091 [00:43<12:11, 10.44it/s]"
          ]
        },
        {
          "name": "stdout",
          "output_type": "stream",
          "text": [
            "Warning: Cached feature file not found for 1433142189_cda8652603.jpg at cached_features\\1433142189_cda8652603.pt. This image will be skipped if no feature extractor is provided.\n"
          ]
        },
        {
          "name": "stderr",
          "output_type": "stream",
          "text": [
            "Verifying cached features:   6%|▌         | 467/8091 [00:45<15:19,  8.29it/s]"
          ]
        },
        {
          "name": "stdout",
          "output_type": "stream",
          "text": [
            "Warning: Cached feature file not found for 143688283_a96ded20f1.jpg at cached_features\\143688283_a96ded20f1.pt. This image will be skipped if no feature extractor is provided.\n"
          ]
        },
        {
          "name": "stderr",
          "output_type": "stream",
          "text": [
            "Verifying cached features:   6%|▌         | 475/8091 [00:46<11:49, 10.73it/s]"
          ]
        },
        {
          "name": "stdout",
          "output_type": "stream",
          "text": [
            "Warning: Cached feature file not found for 1446053356_a924b4893f.jpg at cached_features\\1446053356_a924b4893f.pt. This image will be skipped if no feature extractor is provided.\n"
          ]
        },
        {
          "name": "stderr",
          "output_type": "stream",
          "text": [
            "Verifying cached features:   6%|▌         | 485/8091 [00:47<11:09, 11.36it/s]"
          ]
        },
        {
          "name": "stdout",
          "output_type": "stream",
          "text": [
            "Warning: Cached feature file not found for 1456393634_74022d9056.jpg at cached_features\\1456393634_74022d9056.pt. This image will be skipped if no feature extractor is provided.\n"
          ]
        },
        {
          "name": "stderr",
          "output_type": "stream",
          "text": [
            "Verifying cached features:   6%|▌         | 497/8091 [00:48<10:08, 12.48it/s]"
          ]
        },
        {
          "name": "stdout",
          "output_type": "stream",
          "text": [
            "Warning: Cached feature file not found for 1461667284_041c8a2475.jpg at cached_features\\1461667284_041c8a2475.pt. This image will be skipped if no feature extractor is provided.\n"
          ]
        },
        {
          "name": "stderr",
          "output_type": "stream",
          "text": [
            "Verifying cached features:   6%|▋         | 510/8091 [00:49<09:11, 13.73it/s]"
          ]
        },
        {
          "name": "stdout",
          "output_type": "stream",
          "text": [
            "Warning: Cached feature file not found for 1467533293_a2656cc000.jpg at cached_features\\1467533293_a2656cc000.pt. This image will be skipped if no feature extractor is provided.\n",
            "Warning: Cached feature file not found for 1468103286_96a6e07029.jpg at cached_features\\1468103286_96a6e07029.pt. This image will be skipped if no feature extractor is provided.\n"
          ]
        },
        {
          "name": "stderr",
          "output_type": "stream",
          "text": [
            "Verifying cached features:   6%|▋         | 521/8091 [00:52<18:37,  6.77it/s]"
          ]
        },
        {
          "name": "stdout",
          "output_type": "stream",
          "text": [
            "Warning: Cached feature file not found for 1472230829_803818a383.jpg at cached_features\\1472230829_803818a383.pt. This image will be skipped if no feature extractor is provided.\n",
            "Warning: Cached feature file not found for 1472882567_33dc14c8b6.jpg at cached_features\\1472882567_33dc14c8b6.pt. This image will be skipped if no feature extractor is provided.\n"
          ]
        },
        {
          "name": "stderr",
          "output_type": "stream",
          "text": [
            "Verifying cached features:   7%|▋         | 538/8091 [00:54<11:10, 11.26it/s]"
          ]
        },
        {
          "name": "stdout",
          "output_type": "stream",
          "text": [
            "Warning: Cached feature file not found for 1479857177_9d4a6f38fd.jpg at cached_features\\1479857177_9d4a6f38fd.pt. This image will be skipped if no feature extractor is provided.\n"
          ]
        },
        {
          "name": "stderr",
          "output_type": "stream",
          "text": [
            "Verifying cached features:   7%|▋         | 546/8091 [00:54<09:08, 13.75it/s]"
          ]
        },
        {
          "name": "stdout",
          "output_type": "stream",
          "text": [
            "Warning: Cached feature file not found for 1490213660_9ea45550cf.jpg at cached_features\\1490213660_9ea45550cf.pt. This image will be skipped if no feature extractor is provided.\n",
            "Warning: Cached feature file not found for 1490670858_e122df2560.jpg at cached_features\\1490670858_e122df2560.pt. This image will be skipped if no feature extractor is provided.\n"
          ]
        },
        {
          "name": "stderr",
          "output_type": "stream",
          "text": [
            "Verifying cached features:   7%|▋         | 550/8091 [00:55<10:21, 12.13it/s]"
          ]
        },
        {
          "name": "stdout",
          "output_type": "stream",
          "text": [
            "Warning: Cached feature file not found for 1499581619_a5f65a882c.jpg at cached_features\\1499581619_a5f65a882c.pt. This image will be skipped if no feature extractor is provided.\n"
          ]
        },
        {
          "name": "stderr",
          "output_type": "stream",
          "text": [
            "Verifying cached features:   7%|▋         | 555/8091 [00:55<10:26, 12.02it/s]"
          ]
        },
        {
          "name": "stdout",
          "output_type": "stream",
          "text": [
            "Warning: Cached feature file not found for 150387174_24825cf871.jpg at cached_features\\150387174_24825cf871.pt. This image will be skipped if no feature extractor is provided.\n"
          ]
        },
        {
          "name": "stderr",
          "output_type": "stream",
          "text": [
            "Verifying cached features:   7%|▋         | 559/8091 [00:55<09:50, 12.76it/s]"
          ]
        },
        {
          "name": "stdout",
          "output_type": "stream",
          "text": [
            "Warning: Cached feature file not found for 1509786421_f03158adfc.jpg at cached_features\\1509786421_f03158adfc.pt. This image will be skipped if no feature extractor is provided.\n"
          ]
        },
        {
          "name": "stderr",
          "output_type": "stream",
          "text": [
            "Verifying cached features:   7%|▋         | 569/8091 [00:56<10:18, 12.17it/s]"
          ]
        },
        {
          "name": "stdout",
          "output_type": "stream",
          "text": [
            "Warning: Cached feature file not found for 1517721825_10176d0683.jpg at cached_features\\1517721825_10176d0683.pt. This image will be skipped if no feature extractor is provided.\n"
          ]
        },
        {
          "name": "stderr",
          "output_type": "stream",
          "text": [
            "Verifying cached features:   7%|▋         | 576/8091 [00:57<10:19, 12.14it/s]"
          ]
        },
        {
          "name": "stdout",
          "output_type": "stream",
          "text": [
            "Warning: Cached feature file not found for 1523984678_edd68464da.jpg at cached_features\\1523984678_edd68464da.pt. This image will be skipped if no feature extractor is provided.\n"
          ]
        },
        {
          "name": "stderr",
          "output_type": "stream",
          "text": [
            "Verifying cached features:   7%|▋         | 585/8091 [00:58<09:56, 12.59it/s]"
          ]
        },
        {
          "name": "stdout",
          "output_type": "stream",
          "text": [
            "Warning: Cached feature file not found for 1536774449_e16b1b6382.jpg at cached_features\\1536774449_e16b1b6382.pt. This image will be skipped if no feature extractor is provided.\n"
          ]
        },
        {
          "name": "stderr",
          "output_type": "stream",
          "text": [
            "Verifying cached features:   7%|▋         | 591/8091 [00:58<08:59, 13.90it/s]"
          ]
        },
        {
          "name": "stdout",
          "output_type": "stream",
          "text": [
            "Warning: Cached feature file not found for 1547883892_e29b3db42e.jpg at cached_features\\1547883892_e29b3db42e.pt. This image will be skipped if no feature extractor is provided.\n",
            "Warning: Cached feature file not found for 154871781_ae77696b77.jpg at cached_features\\154871781_ae77696b77.pt. This image will be skipped if no feature extractor is provided.\n"
          ]
        },
        {
          "name": "stderr",
          "output_type": "stream",
          "text": [
            "Verifying cached features:   7%|▋         | 595/8091 [00:58<09:35, 13.02it/s]"
          ]
        },
        {
          "name": "stdout",
          "output_type": "stream",
          "text": [
            "Warning: Cached feature file not found for 1554713437_61b64527dd.jpg at cached_features\\1554713437_61b64527dd.pt. This image will be skipped if no feature extractor is provided.\n"
          ]
        },
        {
          "name": "stderr",
          "output_type": "stream",
          "text": [
            "Verifying cached features:   7%|▋         | 597/8091 [00:58<08:42, 14.34it/s]"
          ]
        },
        {
          "name": "stdout",
          "output_type": "stream",
          "text": [
            "Warning: Cached feature file not found for 1561658940_a947f2446a.jpg at cached_features\\1561658940_a947f2446a.pt. This image will be skipped if no feature extractor is provided.\n"
          ]
        },
        {
          "name": "stderr",
          "output_type": "stream",
          "text": [
            "Verifying cached features:   8%|▊         | 612/8091 [01:00<09:34, 13.03it/s]"
          ]
        },
        {
          "name": "stdout",
          "output_type": "stream",
          "text": [
            "Warning: Cached feature file not found for 1572532018_64c030c974.jpg at cached_features\\1572532018_64c030c974.pt. This image will be skipped if no feature extractor is provided.\n"
          ]
        },
        {
          "name": "stderr",
          "output_type": "stream",
          "text": [
            "Verifying cached features:   8%|▊         | 623/8091 [01:01<09:38, 12.90it/s]"
          ]
        },
        {
          "name": "stdout",
          "output_type": "stream",
          "text": [
            "Warning: Cached feature file not found for 1584315962_5b0b45d02d.jpg at cached_features\\1584315962_5b0b45d02d.pt. This image will be skipped if no feature extractor is provided.\n"
          ]
        },
        {
          "name": "stderr",
          "output_type": "stream",
          "text": [
            "Verifying cached features:   8%|▊         | 634/8091 [01:02<09:45, 12.74it/s]"
          ]
        },
        {
          "name": "stdout",
          "output_type": "stream",
          "text": [
            "Warning: Cached feature file not found for 160792599_6a7ec52516.jpg at cached_features\\160792599_6a7ec52516.pt. This image will be skipped if no feature extractor is provided.\n"
          ]
        },
        {
          "name": "stderr",
          "output_type": "stream",
          "text": [
            "Verifying cached features:   8%|▊         | 644/8091 [01:02<08:33, 14.50it/s]"
          ]
        },
        {
          "name": "stdout",
          "output_type": "stream",
          "text": [
            "Warning: Cached feature file not found for 1626754053_81126b67b6.jpg at cached_features\\1626754053_81126b67b6.pt. This image will be skipped if no feature extractor is provided.\n",
            "Warning: Cached feature file not found for 1643915227_9f48068772.jpg at cached_features\\1643915227_9f48068772.pt. This image will be skipped if no feature extractor is provided.\n"
          ]
        },
        {
          "name": "stderr",
          "output_type": "stream",
          "text": [
            "Verifying cached features:   8%|▊         | 649/8091 [01:03<08:10, 15.16it/s]"
          ]
        },
        {
          "name": "stdout",
          "output_type": "stream",
          "text": [
            "Warning: Cached feature file not found for 1659358141_0433c9bf99.jpg at cached_features\\1659358141_0433c9bf99.pt. This image will be skipped if no feature extractor is provided.\n"
          ]
        },
        {
          "name": "stderr",
          "output_type": "stream",
          "text": [
            "Verifying cached features:   8%|▊         | 656/8091 [01:03<08:01, 15.45it/s]"
          ]
        },
        {
          "name": "stdout",
          "output_type": "stream",
          "text": [
            "Warning: Cached feature file not found for 166507476_9be5b9852a.jpg at cached_features\\166507476_9be5b9852a.pt. This image will be skipped if no feature extractor is provided.\n"
          ]
        },
        {
          "name": "stderr",
          "output_type": "stream",
          "text": [
            "Verifying cached features:   8%|▊         | 659/8091 [01:03<07:35, 16.31it/s]"
          ]
        },
        {
          "name": "stdout",
          "output_type": "stream",
          "text": [
            "Warning: Cached feature file not found for 1674612291_7154c5ab61.jpg at cached_features\\1674612291_7154c5ab61.pt. This image will be skipped if no feature extractor is provided.\n"
          ]
        },
        {
          "name": "stderr",
          "output_type": "stream",
          "text": [
            "Verifying cached features:   8%|▊         | 664/8091 [01:06<26:38,  4.65it/s]"
          ]
        },
        {
          "name": "stdout",
          "output_type": "stream",
          "text": [
            "Warning: Cached feature file not found for 1679617928_a73c1769be.jpg at cached_features\\1679617928_a73c1769be.pt. This image will be skipped if no feature extractor is provided.\n",
            "Warning: Cached feature file not found for 1682079482_9a72fa57fa.jpg at cached_features\\1682079482_9a72fa57fa.pt. This image will be skipped if no feature extractor is provided.\n"
          ]
        },
        {
          "name": "stderr",
          "output_type": "stream",
          "text": [
            "Verifying cached features:   8%|▊         | 674/8091 [01:06<12:09, 10.17it/s]"
          ]
        },
        {
          "name": "stdout",
          "output_type": "stream",
          "text": [
            "Warning: Cached feature file not found for 170100272_d820db2199.jpg at cached_features\\170100272_d820db2199.pt. This image will be skipped if no feature extractor is provided.\n",
            "Warning: Cached feature file not found for 1714316707_8bbaa2a2ba.jpg at cached_features\\1714316707_8bbaa2a2ba.pt. This image will be skipped if no feature extractor is provided.\n"
          ]
        },
        {
          "name": "stderr",
          "output_type": "stream",
          "text": [
            "Verifying cached features:   8%|▊         | 684/8091 [01:07<08:11, 15.08it/s]"
          ]
        },
        {
          "name": "stdout",
          "output_type": "stream",
          "text": [
            "Warning: Cached feature file not found for 172097782_f0844ec317.jpg at cached_features\\172097782_f0844ec317.pt. This image will be skipped if no feature extractor is provided.\n"
          ]
        },
        {
          "name": "stderr",
          "output_type": "stream",
          "text": [
            "Verifying cached features:   9%|▊         | 696/8091 [01:08<07:16, 16.95it/s]"
          ]
        },
        {
          "name": "stdout",
          "output_type": "stream",
          "text": [
            "Warning: Cached feature file not found for 1764955991_5e53a28c87.jpg at cached_features\\1764955991_5e53a28c87.pt. This image will be skipped if no feature extractor is provided.\n",
            "Warning: Cached feature file not found for 1765164972_92dac06fa9.jpg at cached_features\\1765164972_92dac06fa9.pt. This image will be skipped if no feature extractor is provided.\n",
            "Warning: Cached feature file not found for 1772859261_236c09b861.jpg at cached_features\\1772859261_236c09b861.pt. This image will be skipped if no feature extractor is provided.\n"
          ]
        },
        {
          "name": "stderr",
          "output_type": "stream",
          "text": [
            "Verifying cached features:   9%|▊         | 702/8091 [01:08<06:56, 17.74it/s]"
          ]
        },
        {
          "name": "stdout",
          "output_type": "stream",
          "text": [
            "Warning: Cached feature file not found for 1773928579_5664a810dc.jpg at cached_features\\1773928579_5664a810dc.pt. This image will be skipped if no feature extractor is provided.\n"
          ]
        },
        {
          "name": "stderr",
          "output_type": "stream",
          "text": [
            "Verifying cached features:   9%|▉         | 709/8091 [01:08<07:48, 15.76it/s]"
          ]
        },
        {
          "name": "stdout",
          "output_type": "stream",
          "text": [
            "Warning: Cached feature file not found for 1786425974_c7c5ad6aa1.jpg at cached_features\\1786425974_c7c5ad6aa1.pt. This image will be skipped if no feature extractor is provided.\n"
          ]
        },
        {
          "name": "stderr",
          "output_type": "stream",
          "text": [
            "Verifying cached features:   9%|▉         | 716/8091 [01:09<08:29, 14.48it/s]"
          ]
        },
        {
          "name": "stdout",
          "output_type": "stream",
          "text": [
            "Warning: Cached feature file not found for 1797554350_20998753c0.jpg at cached_features\\1797554350_20998753c0.pt. This image will be skipped if no feature extractor is provided.\n"
          ]
        },
        {
          "name": "stderr",
          "output_type": "stream",
          "text": [
            "Verifying cached features:   9%|▉         | 723/8091 [01:09<08:31, 14.41it/s]"
          ]
        },
        {
          "name": "stdout",
          "output_type": "stream",
          "text": [
            "Warning: Cached feature file not found for 180094434_b0f244832d.jpg at cached_features\\180094434_b0f244832d.pt. This image will be skipped if no feature extractor is provided.\n"
          ]
        },
        {
          "name": "stderr",
          "output_type": "stream",
          "text": [
            "Verifying cached features:   9%|▉         | 730/8091 [01:10<08:25, 14.57it/s]"
          ]
        },
        {
          "name": "stdout",
          "output_type": "stream",
          "text": [
            "Warning: Cached feature file not found for 180506881_de0f59770f.jpg at cached_features\\180506881_de0f59770f.pt. This image will be skipped if no feature extractor is provided.\n"
          ]
        },
        {
          "name": "stderr",
          "output_type": "stream",
          "text": [
            "Verifying cached features:   9%|▉         | 736/8091 [01:10<07:20, 16.69it/s]"
          ]
        },
        {
          "name": "stdout",
          "output_type": "stream",
          "text": [
            "Warning: Cached feature file not found for 1808370027_2088394eb4.jpg at cached_features\\1808370027_2088394eb4.pt. This image will be skipped if no feature extractor is provided.\n",
            "Warning: Cached feature file not found for 1808504612_3508f3c9bb.jpg at cached_features\\1808504612_3508f3c9bb.pt. This image will be skipped if no feature extractor is provided.\n"
          ]
        },
        {
          "name": "stderr",
          "output_type": "stream",
          "text": [
            "Verifying cached features:   9%|▉         | 754/8091 [01:12<09:25, 12.99it/s]"
          ]
        },
        {
          "name": "stdout",
          "output_type": "stream",
          "text": [
            "Warning: Cached feature file not found for 1836335410_de8313a64e.jpg at cached_features\\1836335410_de8313a64e.pt. This image will be skipped if no feature extractor is provided.\n"
          ]
        },
        {
          "name": "stderr",
          "output_type": "stream",
          "text": [
            "Verifying cached features:  10%|▉         | 775/8091 [01:17<10:55, 11.16it/s]"
          ]
        },
        {
          "name": "stdout",
          "output_type": "stream",
          "text": [
            "Warning: Cached feature file not found for 1897025969_0c41688fa6.jpg at cached_features\\1897025969_0c41688fa6.pt. This image will be skipped if no feature extractor is provided.\n",
            "Warning: Cached feature file not found for 189721896_1ffe76d89e.jpg at cached_features\\189721896_1ffe76d89e.pt. This image will be skipped if no feature extractor is provided.\n"
          ]
        },
        {
          "name": "stderr",
          "output_type": "stream",
          "text": [
            "Verifying cached features:  10%|▉         | 782/8091 [01:18<11:31, 10.58it/s]"
          ]
        },
        {
          "name": "stdout",
          "output_type": "stream",
          "text": [
            "Warning: Cached feature file not found for 191003285_edd8d0cf58.jpg at cached_features\\191003285_edd8d0cf58.pt. This image will be skipped if no feature extractor is provided.\n"
          ]
        },
        {
          "name": "stderr",
          "output_type": "stream",
          "text": [
            "Verifying cached features:  10%|▉         | 786/8091 [01:18<12:00, 10.14it/s]"
          ]
        },
        {
          "name": "stdout",
          "output_type": "stream",
          "text": [
            "Warning: Cached feature file not found for 1917265421_aeccf1ca38.jpg at cached_features\\1917265421_aeccf1ca38.pt. This image will be skipped if no feature extractor is provided.\n"
          ]
        },
        {
          "name": "stderr",
          "output_type": "stream",
          "text": [
            "Verifying cached features:  10%|▉         | 809/8091 [01:24<16:31,  7.34it/s]  "
          ]
        },
        {
          "name": "stdout",
          "output_type": "stream",
          "text": [
            "Warning: Cached feature file not found for 1962729184_6996e128e7.jpg at cached_features\\1962729184_6996e128e7.pt. This image will be skipped if no feature extractor is provided.\n"
          ]
        },
        {
          "name": "stderr",
          "output_type": "stream",
          "text": [
            "Verifying cached features:  10%|█         | 812/8091 [01:24<13:13,  9.17it/s]"
          ]
        },
        {
          "name": "stdout",
          "output_type": "stream",
          "text": [
            "Warning: Cached feature file not found for 197107117_4b438b1872.jpg at cached_features\\197107117_4b438b1872.pt. This image will be skipped if no feature extractor is provided.\n",
            "Warning: Cached feature file not found for 197504190_fd1fc3d4b7.jpg at cached_features\\197504190_fd1fc3d4b7.pt. This image will be skipped if no feature extractor is provided.\n"
          ]
        },
        {
          "name": "stderr",
          "output_type": "stream",
          "text": [
            "Verifying cached features:  10%|█         | 821/8091 [01:25<12:49,  9.44it/s]"
          ]
        },
        {
          "name": "stdout",
          "output_type": "stream",
          "text": [
            "Warning: Cached feature file not found for 1982852140_56425fa7a2.jpg at cached_features\\1982852140_56425fa7a2.pt. This image will be skipped if no feature extractor is provided.\n"
          ]
        },
        {
          "name": "stderr",
          "output_type": "stream",
          "text": [
            "Verifying cached features:  10%|█         | 826/8091 [01:26<11:54, 10.16it/s]"
          ]
        },
        {
          "name": "stdout",
          "output_type": "stream",
          "text": [
            "Warning: Cached feature file not found for 199463720_329a802206.jpg at cached_features\\199463720_329a802206.pt. This image will be skipped if no feature extractor is provided.\n",
            "Warning: Cached feature file not found for 1998457059_c9ac9a1e1a.jpg at cached_features\\1998457059_c9ac9a1e1a.pt. This image will be skipped if no feature extractor is provided.\n"
          ]
        },
        {
          "name": "stderr",
          "output_type": "stream",
          "text": [
            "Verifying cached features:  10%|█         | 834/8091 [01:26<07:00, 17.25it/s]"
          ]
        },
        {
          "name": "stdout",
          "output_type": "stream",
          "text": [
            "Warning: Cached feature file not found for 200771289_31902164a7.jpg at cached_features\\200771289_31902164a7.pt. This image will be skipped if no feature extractor is provided.\n"
          ]
        },
        {
          "name": "stderr",
          "output_type": "stream",
          "text": [
            "Verifying cached features:  10%|█         | 839/8091 [01:27<09:11, 13.16it/s]"
          ]
        },
        {
          "name": "stdout",
          "output_type": "stream",
          "text": [
            "Warning: Cached feature file not found for 2021613437_d99731f986.jpg at cached_features\\2021613437_d99731f986.pt. This image will be skipped if no feature extractor is provided.\n"
          ]
        },
        {
          "name": "stderr",
          "output_type": "stream",
          "text": [
            "Verifying cached features:  11%|█         | 850/8091 [01:28<09:51, 12.24it/s]"
          ]
        },
        {
          "name": "stdout",
          "output_type": "stream",
          "text": [
            "Warning: Cached feature file not found for 2041867793_552819a40b.jpg at cached_features\\2041867793_552819a40b.pt. This image will be skipped if no feature extractor is provided.\n"
          ]
        },
        {
          "name": "stderr",
          "output_type": "stream",
          "text": [
            "Verifying cached features:  11%|█         | 860/8091 [01:28<10:12, 11.81it/s]"
          ]
        },
        {
          "name": "stdout",
          "output_type": "stream",
          "text": [
            "Warning: Cached feature file not found for 2049051050_20359a434a.jpg at cached_features\\2049051050_20359a434a.pt. This image will be skipped if no feature extractor is provided.\n"
          ]
        },
        {
          "name": "stderr",
          "output_type": "stream",
          "text": [
            "Verifying cached features:  11%|█         | 872/8091 [01:30<10:36, 11.33it/s]"
          ]
        },
        {
          "name": "stdout",
          "output_type": "stream",
          "text": [
            "Warning: Cached feature file not found for 2054869561_ff723e9eab.jpg at cached_features\\2054869561_ff723e9eab.pt. This image will be skipped if no feature extractor is provided.\n"
          ]
        },
        {
          "name": "stderr",
          "output_type": "stream",
          "text": [
            "Verifying cached features:  11%|█         | 882/8091 [01:31<10:57, 10.96it/s]"
          ]
        },
        {
          "name": "stdout",
          "output_type": "stream",
          "text": [
            "Warning: Cached feature file not found for 2058091220_2087270068.jpg at cached_features\\2058091220_2087270068.pt. This image will be skipped if no feature extractor is provided.\n"
          ]
        },
        {
          "name": "stderr",
          "output_type": "stream",
          "text": [
            "Verifying cached features:  11%|█         | 890/8091 [01:31<09:49, 12.21it/s]"
          ]
        },
        {
          "name": "stdout",
          "output_type": "stream",
          "text": [
            "Warning: Cached feature file not found for 2061144717_5b3a1864f0.jpg at cached_features\\2061144717_5b3a1864f0.pt. This image will be skipped if no feature extractor is provided.\n",
            "Warning: Cached feature file not found for 2061354254_faa5bd294b.jpg at cached_features\\2061354254_faa5bd294b.pt. This image will be skipped if no feature extractor is provided.\n"
          ]
        },
        {
          "name": "stderr",
          "output_type": "stream",
          "text": [
            "Verifying cached features:  11%|█         | 898/8091 [01:32<12:41,  9.44it/s]"
          ]
        },
        {
          "name": "stdout",
          "output_type": "stream",
          "text": [
            "Warning: Cached feature file not found for 2064790732_219e52e19c.jpg at cached_features\\2064790732_219e52e19c.pt. This image will be skipped if no feature extractor is provided.\n"
          ]
        },
        {
          "name": "stderr",
          "output_type": "stream",
          "text": [
            "Verifying cached features:  11%|█▏        | 918/8091 [01:35<09:43, 12.29it/s]"
          ]
        },
        {
          "name": "stdout",
          "output_type": "stream",
          "text": [
            "Warning: Cached feature file not found for 2073105823_6dacade004.jpg at cached_features\\2073105823_6dacade004.pt. This image will be skipped if no feature extractor is provided.\n",
            "Warning: Cached feature file not found for 2073964624_52da3a0fc4.jpg at cached_features\\2073964624_52da3a0fc4.pt. This image will be skipped if no feature extractor is provided.\n"
          ]
        },
        {
          "name": "stderr",
          "output_type": "stream",
          "text": [
            "Verifying cached features:  11%|█▏        | 926/8091 [01:35<06:51, 17.43it/s]"
          ]
        },
        {
          "name": "stdout",
          "output_type": "stream",
          "text": [
            "Warning: Cached feature file not found for 2075321027_c8fcbaf581.jpg at cached_features\\2075321027_c8fcbaf581.pt. This image will be skipped if no feature extractor is provided.\n"
          ]
        },
        {
          "name": "stderr",
          "output_type": "stream",
          "text": [
            "Verifying cached features:  12%|█▏        | 933/8091 [01:36<06:52, 17.37it/s]"
          ]
        },
        {
          "name": "stdout",
          "output_type": "stream",
          "text": [
            "Warning: Cached feature file not found for 2077079696_03380d218b.jpg at cached_features\\2077079696_03380d218b.pt. This image will be skipped if no feature extractor is provided.\n",
            "Warning: Cached feature file not found for 2078311270_f01c9eaf4c.jpg at cached_features\\2078311270_f01c9eaf4c.pt. This image will be skipped if no feature extractor is provided.\n"
          ]
        },
        {
          "name": "stderr",
          "output_type": "stream",
          "text": [
            "Verifying cached features:  12%|█▏        | 946/8091 [01:37<10:23, 11.47it/s]"
          ]
        },
        {
          "name": "stdout",
          "output_type": "stream",
          "text": [
            "Warning: Cached feature file not found for 2083434441_a93bc6306b.jpg at cached_features\\2083434441_a93bc6306b.pt. This image will be skipped if no feature extractor is provided.\n"
          ]
        },
        {
          "name": "stderr",
          "output_type": "stream",
          "text": [
            "Verifying cached features:  12%|█▏        | 950/8091 [01:37<11:47, 10.10it/s]"
          ]
        },
        {
          "name": "stdout",
          "output_type": "stream",
          "text": [
            "Warning: Cached feature file not found for 2084217208_7bd9bc85e5.jpg at cached_features\\2084217208_7bd9bc85e5.pt. This image will be skipped if no feature extractor is provided.\n"
          ]
        },
        {
          "name": "stderr",
          "output_type": "stream",
          "text": [
            "Verifying cached features:  12%|█▏        | 959/8091 [01:38<08:51, 13.41it/s]"
          ]
        },
        {
          "name": "stdout",
          "output_type": "stream",
          "text": [
            "Warning: Cached feature file not found for 2086513494_dbbcb583e7.jpg at cached_features\\2086513494_dbbcb583e7.pt. This image will be skipped if no feature extractor is provided.\n",
            "Warning: Cached feature file not found for 2087317114_cf06df5aa5.jpg at cached_features\\2087317114_cf06df5aa5.pt. This image will be skipped if no feature extractor is provided.\n"
          ]
        },
        {
          "name": "stderr",
          "output_type": "stream",
          "text": [
            "Verifying cached features:  12%|█▏        | 971/8091 [01:39<06:43, 17.63it/s]"
          ]
        },
        {
          "name": "stdout",
          "output_type": "stream",
          "text": [
            "Warning: Cached feature file not found for 2089426086_7acc98a3a8.jpg at cached_features\\2089426086_7acc98a3a8.pt. This image will be skipped if no feature extractor is provided.\n"
          ]
        },
        {
          "name": "stderr",
          "output_type": "stream",
          "text": [
            "Verifying cached features:  12%|█▏        | 994/8091 [01:42<14:16,  8.28it/s]"
          ]
        },
        {
          "name": "stdout",
          "output_type": "stream",
          "text": [
            "Warning: Cached feature file not found for 2096771662_984441d20d.jpg at cached_features\\2096771662_984441d20d.pt. This image will be skipped if no feature extractor is provided.\n"
          ]
        },
        {
          "name": "stderr",
          "output_type": "stream",
          "text": [
            "Verifying cached features:  12%|█▏        | 1006/8091 [01:43<09:30, 12.41it/s]"
          ]
        },
        {
          "name": "stdout",
          "output_type": "stream",
          "text": [
            "Warning: Cached feature file not found for 2100816230_ff866fb352.jpg at cached_features\\2100816230_ff866fb352.pt. This image will be skipped if no feature extractor is provided.\n"
          ]
        },
        {
          "name": "stderr",
          "output_type": "stream",
          "text": [
            "Verifying cached features:  12%|█▏        | 1010/8091 [01:44<09:02, 13.05it/s]"
          ]
        },
        {
          "name": "stdout",
          "output_type": "stream",
          "text": [
            "Warning: Cached feature file not found for 2101457132_69c950bc45.jpg at cached_features\\2101457132_69c950bc45.pt. This image will be skipped if no feature extractor is provided.\n"
          ]
        },
        {
          "name": "stderr",
          "output_type": "stream",
          "text": [
            "Verifying cached features:  13%|█▎        | 1014/8091 [01:44<09:12, 12.80it/s]"
          ]
        },
        {
          "name": "stdout",
          "output_type": "stream",
          "text": [
            "Warning: Cached feature file not found for 2102360862_264452db8e.jpg at cached_features\\2102360862_264452db8e.pt. This image will be skipped if no feature extractor is provided.\n"
          ]
        },
        {
          "name": "stderr",
          "output_type": "stream",
          "text": [
            "Verifying cached features:  13%|█▎        | 1020/8091 [01:44<09:01, 13.06it/s]"
          ]
        },
        {
          "name": "stdout",
          "output_type": "stream",
          "text": [
            "Warning: Cached feature file not found for 2103568100_5d018c495b.jpg at cached_features\\2103568100_5d018c495b.pt. This image will be skipped if no feature extractor is provided.\n",
            "Warning: Cached feature file not found for 2105756457_a100d8434e.jpg at cached_features\\2105756457_a100d8434e.pt. This image will be skipped if no feature extractor is provided.\n"
          ]
        },
        {
          "name": "stderr",
          "output_type": "stream",
          "text": [
            "Verifying cached features:  13%|█▎        | 1037/8091 [01:46<08:11, 14.36it/s]"
          ]
        },
        {
          "name": "stdout",
          "output_type": "stream",
          "text": [
            "Warning: Cached feature file not found for 2112921744_92bf706805.jpg at cached_features\\2112921744_92bf706805.pt. This image will be skipped if no feature extractor is provided.\n",
            "Warning: Cached feature file not found for 211295363_49010ca38d.jpg at cached_features\\211295363_49010ca38d.pt. This image will be skipped if no feature extractor is provided.\n"
          ]
        },
        {
          "name": "stderr",
          "output_type": "stream",
          "text": [
            "Verifying cached features:  13%|█▎        | 1053/8091 [01:47<07:00, 16.72it/s]"
          ]
        },
        {
          "name": "stdout",
          "output_type": "stream",
          "text": [
            "Warning: Cached feature file not found for 2120383553_5825333a3f.jpg at cached_features\\2120383553_5825333a3f.pt. This image will be skipped if no feature extractor is provided.\n",
            "Warning: Cached feature file not found for 2120411340_104eb610b1.jpg at cached_features\\2120411340_104eb610b1.pt. This image will be skipped if no feature extractor is provided.\n"
          ]
        },
        {
          "name": "stderr",
          "output_type": "stream",
          "text": [
            "Verifying cached features:  13%|█▎        | 1059/8091 [01:47<05:50, 20.05it/s]"
          ]
        },
        {
          "name": "stdout",
          "output_type": "stream",
          "text": [
            "Warning: Cached feature file not found for 2124040721_bffc0a091a.jpg at cached_features\\2124040721_bffc0a091a.pt. This image will be skipped if no feature extractor is provided.\n"
          ]
        },
        {
          "name": "stderr",
          "output_type": "stream",
          "text": [
            "Verifying cached features:  13%|█▎        | 1064/8091 [01:48<08:19, 14.07it/s]"
          ]
        },
        {
          "name": "stdout",
          "output_type": "stream",
          "text": [
            "Warning: Cached feature file not found for 2128119486_4407061c40.jpg at cached_features\\2128119486_4407061c40.pt. This image will be skipped if no feature extractor is provided.\n"
          ]
        },
        {
          "name": "stderr",
          "output_type": "stream",
          "text": [
            "Verifying cached features:  13%|█▎        | 1074/8091 [01:49<11:33, 10.12it/s]"
          ]
        },
        {
          "name": "stdout",
          "output_type": "stream",
          "text": [
            "Warning: Cached feature file not found for 2136455112_202c093ba4.jpg at cached_features\\2136455112_202c093ba4.pt. This image will be skipped if no feature extractor is provided.\n"
          ]
        },
        {
          "name": "stderr",
          "output_type": "stream",
          "text": [
            "Verifying cached features:  13%|█▎        | 1082/8091 [01:50<10:16, 11.38it/s]"
          ]
        },
        {
          "name": "stdout",
          "output_type": "stream",
          "text": [
            "Warning: Cached feature file not found for 2140182410_8e2a06fbda.jpg at cached_features\\2140182410_8e2a06fbda.pt. This image will be skipped if no feature extractor is provided.\n"
          ]
        },
        {
          "name": "stderr",
          "output_type": "stream",
          "text": [
            "Verifying cached features:  14%|█▎        | 1098/8091 [01:51<06:08, 18.98it/s]"
          ]
        },
        {
          "name": "stdout",
          "output_type": "stream",
          "text": [
            "Warning: Cached feature file not found for 2148916767_644ea6a7fa.jpg at cached_features\\2148916767_644ea6a7fa.pt. This image will be skipped if no feature extractor is provided.\n"
          ]
        },
        {
          "name": "stderr",
          "output_type": "stream",
          "text": [
            "Verifying cached features:  14%|█▎        | 1102/8091 [01:51<06:51, 17.00it/s]"
          ]
        },
        {
          "name": "stdout",
          "output_type": "stream",
          "text": [
            "Warning: Cached feature file not found for 215214751_e913b6ff09.jpg at cached_features\\215214751_e913b6ff09.pt. This image will be skipped if no feature extractor is provided.\n"
          ]
        },
        {
          "name": "stderr",
          "output_type": "stream",
          "text": [
            "Verifying cached features:  14%|█▎        | 1112/8091 [01:52<10:19, 11.27it/s]"
          ]
        },
        {
          "name": "stdout",
          "output_type": "stream",
          "text": [
            "Warning: Cached feature file not found for 2160266952_a2ab39191b.jpg at cached_features\\2160266952_a2ab39191b.pt. This image will be skipped if no feature extractor is provided.\n"
          ]
        },
        {
          "name": "stderr",
          "output_type": "stream",
          "text": [
            "Verifying cached features:  14%|█▍        | 1116/8091 [01:52<09:36, 12.10it/s]"
          ]
        },
        {
          "name": "stdout",
          "output_type": "stream",
          "text": [
            "Warning: Cached feature file not found for 2162564553_96de62c7e6.jpg at cached_features\\2162564553_96de62c7e6.pt. This image will be skipped if no feature extractor is provided.\n"
          ]
        },
        {
          "name": "stderr",
          "output_type": "stream",
          "text": [
            "Verifying cached features:  14%|█▍        | 1120/8091 [01:53<09:24, 12.34it/s]"
          ]
        },
        {
          "name": "stdout",
          "output_type": "stream",
          "text": [
            "Warning: Cached feature file not found for 2167644298_100ca79f54.jpg at cached_features\\2167644298_100ca79f54.pt. This image will be skipped if no feature extractor is provided.\n"
          ]
        },
        {
          "name": "stderr",
          "output_type": "stream",
          "text": [
            "Verifying cached features:  14%|█▍        | 1124/8091 [01:53<09:36, 12.08it/s]"
          ]
        },
        {
          "name": "stdout",
          "output_type": "stream",
          "text": [
            "Warning: Cached feature file not found for 2170222061_e8bce4a32d.jpg at cached_features\\2170222061_e8bce4a32d.pt. This image will be skipped if no feature extractor is provided.\n"
          ]
        },
        {
          "name": "stderr",
          "output_type": "stream",
          "text": [
            "Verifying cached features:  14%|█▍        | 1139/8091 [01:55<14:23,  8.05it/s]"
          ]
        },
        {
          "name": "stdout",
          "output_type": "stream",
          "text": [
            "Warning: Cached feature file not found for 2176980976_7054c99621.jpg at cached_features\\2176980976_7054c99621.pt. This image will be skipped if no feature extractor is provided.\n"
          ]
        },
        {
          "name": "stderr",
          "output_type": "stream",
          "text": [
            "Verifying cached features:  14%|█▍        | 1153/8091 [01:56<06:40, 17.31it/s]"
          ]
        },
        {
          "name": "stdout",
          "output_type": "stream",
          "text": [
            "Warning: Cached feature file not found for 2182488373_df73c7cc09.jpg at cached_features\\2182488373_df73c7cc09.pt. This image will be skipped if no feature extractor is provided.\n",
            "Warning: Cached feature file not found for 2183227136_8bb657846b.jpg at cached_features\\2183227136_8bb657846b.pt. This image will be skipped if no feature extractor is provided.\n"
          ]
        },
        {
          "name": "stderr",
          "output_type": "stream",
          "text": [
            "Verifying cached features:  14%|█▍        | 1166/8091 [01:57<05:51, 19.68it/s]"
          ]
        },
        {
          "name": "stdout",
          "output_type": "stream",
          "text": [
            "Warning: Cached feature file not found for 2189995738_352607a63b.jpg at cached_features\\2189995738_352607a63b.pt. This image will be skipped if no feature extractor is provided.\n",
            "Warning: Cached feature file not found for 219070971_ae43410b9e.jpg at cached_features\\219070971_ae43410b9e.pt. This image will be skipped if no feature extractor is provided.\n"
          ]
        },
        {
          "name": "stderr",
          "output_type": "stream",
          "text": [
            "Verifying cached features:  14%|█▍        | 1173/8091 [01:57<07:19, 15.74it/s]"
          ]
        },
        {
          "name": "stdout",
          "output_type": "stream",
          "text": [
            "Warning: Cached feature file not found for 2192131110_8a40e7c028.jpg at cached_features\\2192131110_8a40e7c028.pt. This image will be skipped if no feature extractor is provided.\n"
          ]
        },
        {
          "name": "stderr",
          "output_type": "stream",
          "text": [
            "Verifying cached features:  15%|█▍        | 1179/8091 [01:58<09:09, 12.59it/s]"
          ]
        },
        {
          "name": "stdout",
          "output_type": "stream",
          "text": [
            "Warning: Cached feature file not found for 219301555_17883a51bd.jpg at cached_features\\219301555_17883a51bd.pt. This image will be skipped if no feature extractor is provided.\n"
          ]
        },
        {
          "name": "stderr",
          "output_type": "stream",
          "text": [
            "Verifying cached features:  15%|█▍        | 1183/8091 [01:58<07:42, 14.94it/s]"
          ]
        },
        {
          "name": "stdout",
          "output_type": "stream",
          "text": [
            "Warning: Cached feature file not found for 2194286203_5dc620006a.jpg at cached_features\\2194286203_5dc620006a.pt. This image will be skipped if no feature extractor is provided.\n",
            "Warning: Cached feature file not found for 2194494220_bb2178832c.jpg at cached_features\\2194494220_bb2178832c.pt. This image will be skipped if no feature extractor is provided.\n"
          ]
        },
        {
          "name": "stderr",
          "output_type": "stream",
          "text": [
            "Verifying cached features:  15%|█▍        | 1186/8091 [02:00<11:42,  9.83it/s]\n"
          ]
        },
        {
          "ename": "KeyboardInterrupt",
          "evalue": "",
          "output_type": "error",
          "traceback": [
            "\u001b[1;31m---------------------------------------------------------------------------\u001b[0m",
            "\u001b[1;31mKeyboardInterrupt\u001b[0m                         Traceback (most recent call last)",
            "Cell \u001b[1;32mIn[12], line 2\u001b[0m\n\u001b[0;32m      1\u001b[0m \u001b[38;5;66;03m# Prepare data and get training components\u001b[39;00m\n\u001b[1;32m----> 2\u001b[0m decoder, vocab, val_dataset, train_loader, val_loader, criterion, decoder_optimizer, temp_dir \u001b[38;5;241m=\u001b[39m \u001b[43mprepare_data\u001b[49m\u001b[43m(\u001b[49m\u001b[43m)\u001b[49m\n",
            "Cell \u001b[1;32mIn[11], line 95\u001b[0m, in \u001b[0;36mprepare_data\u001b[1;34m(fast)\u001b[0m\n\u001b[0;32m     92\u001b[0m     ds\u001b[38;5;241m.\u001b[39mannotations \u001b[38;5;241m=\u001b[39m {img_id: annotations[img_id] \u001b[38;5;28;01mfor\u001b[39;00m img_id \u001b[38;5;129;01min\u001b[39;00m ids}\n\u001b[0;32m     93\u001b[0m     \u001b[38;5;28;01mreturn\u001b[39;00m ds\n\u001b[1;32m---> 95\u001b[0m train_dataset \u001b[38;5;241m=\u001b[39m \u001b[43mmake_dataset\u001b[49m\u001b[43m(\u001b[49m\u001b[43mtrain_ids\u001b[49m\u001b[43m)\u001b[49m\n\u001b[0;32m     96\u001b[0m val_dataset   \u001b[38;5;241m=\u001b[39m make_dataset(val_ids)\n\u001b[0;32m     98\u001b[0m train_loader \u001b[38;5;241m=\u001b[39m DataLoader(train_dataset, batch_size\u001b[38;5;241m=\u001b[39mConfig\u001b[38;5;241m.\u001b[39mBATCH_SIZE, shuffle\u001b[38;5;241m=\u001b[39m\u001b[38;5;28;01mTrue\u001b[39;00m,\n\u001b[0;32m     99\u001b[0m                           num_workers\u001b[38;5;241m=\u001b[39m\u001b[38;5;241m0\u001b[39m, collate_fn\u001b[38;5;241m=\u001b[39mcollate_fn, pin_memory\u001b[38;5;241m=\u001b[39m\u001b[38;5;28;01mFalse\u001b[39;00m)\n",
            "Cell \u001b[1;32mIn[11], line 88\u001b[0m, in \u001b[0;36mprepare_data.<locals>.make_dataset\u001b[1;34m(ids)\u001b[0m\n\u001b[0;32m     87\u001b[0m \u001b[38;5;28;01mdef\u001b[39;00m\u001b[38;5;250m \u001b[39m\u001b[38;5;21mmake_dataset\u001b[39m(ids):\n\u001b[1;32m---> 88\u001b[0m     ds \u001b[38;5;241m=\u001b[39m \u001b[43mFlickr8kDataset\u001b[49m\u001b[43m(\u001b[49m\n\u001b[0;32m     89\u001b[0m \u001b[43m        \u001b[49m\u001b[43mcaptions_file\u001b[49m\u001b[43m,\u001b[49m\u001b[43m \u001b[49m\u001b[43mimages_dir\u001b[49m\u001b[43m,\u001b[49m\u001b[43m \u001b[49m\u001b[43mvocab\u001b[49m\u001b[43m,\u001b[49m\u001b[43m \u001b[49m\u001b[43mtransform\u001b[49m\u001b[43m,\u001b[49m\u001b[43m \u001b[49m\u001b[43mfeatures_dir\u001b[49m\u001b[43m,\u001b[49m\u001b[43m \u001b[49m\u001b[43mfeature_extractor_model\u001b[49m\u001b[38;5;241;43m=\u001b[39;49m\u001b[38;5;28;43;01mNone\u001b[39;49;00m\n\u001b[0;32m     90\u001b[0m \u001b[43m    \u001b[49m\u001b[43m)\u001b[49m\n\u001b[0;32m     91\u001b[0m     ds\u001b[38;5;241m.\u001b[39mimage_ids \u001b[38;5;241m=\u001b[39m ids\n\u001b[0;32m     92\u001b[0m     ds\u001b[38;5;241m.\u001b[39mannotations \u001b[38;5;241m=\u001b[39m {img_id: annotations[img_id] \u001b[38;5;28;01mfor\u001b[39;00m img_id \u001b[38;5;129;01min\u001b[39;00m ids}\n",
            "Cell \u001b[1;32mIn[3], line 25\u001b[0m, in \u001b[0;36mFlickr8kDataset.__init__\u001b[1;34m(self, captions_file, images_dir, vocab, transform, cached_features_dir, feature_extractor_model)\u001b[0m\n\u001b[0;32m     18\u001b[0m     \u001b[38;5;28;01mraise\u001b[39;00m \u001b[38;5;167;01mValueError\u001b[39;00m(\n\u001b[0;32m     19\u001b[0m         \u001b[38;5;124m\"\u001b[39m\u001b[38;5;124mNo image IDs found after parsing captions file. \u001b[39m\u001b[38;5;124m\"\u001b[39m\n\u001b[0;32m     20\u001b[0m         \u001b[38;5;124m\"\u001b[39m\u001b[38;5;124mPlease check if \u001b[39m\u001b[38;5;124m'\u001b[39m\u001b[38;5;124mFlickr8k.token.txt\u001b[39m\u001b[38;5;124m'\u001b[39m\u001b[38;5;124m is correctly formatted \u001b[39m\u001b[38;5;124m\"\u001b[39m\n\u001b[0;32m     21\u001b[0m         \u001b[38;5;124m\"\u001b[39m\u001b[38;5;124mand contains valid image-caption entries.\u001b[39m\u001b[38;5;124m\"\u001b[39m\n\u001b[0;32m     22\u001b[0m     )\n\u001b[0;32m     24\u001b[0m \u001b[38;5;28mprint\u001b[39m(\u001b[38;5;124m\"\u001b[39m\u001b[38;5;124mChecking and caching image features...\u001b[39m\u001b[38;5;124m\"\u001b[39m)\n\u001b[1;32m---> 25\u001b[0m \u001b[38;5;28;43mself\u001b[39;49m\u001b[38;5;241;43m.\u001b[39;49m\u001b[43m_cache_features\u001b[49m\u001b[43m(\u001b[49m\u001b[43m)\u001b[49m\n",
            "Cell \u001b[1;32mIn[3], line 83\u001b[0m, in \u001b[0;36mFlickr8kDataset._cache_features\u001b[1;34m(self)\u001b[0m\n\u001b[0;32m     81\u001b[0m \u001b[38;5;28;01mif\u001b[39;00m os\u001b[38;5;241m.\u001b[39mpath\u001b[38;5;241m.\u001b[39mexists(cache_path):\n\u001b[0;32m     82\u001b[0m     \u001b[38;5;28;01mtry\u001b[39;00m:\n\u001b[1;32m---> 83\u001b[0m         feature \u001b[38;5;241m=\u001b[39m \u001b[43mtorch\u001b[49m\u001b[38;5;241;43m.\u001b[39;49m\u001b[43mload\u001b[49m\u001b[43m(\u001b[49m\u001b[43mcache_path\u001b[49m\u001b[43m)\u001b[49m\n\u001b[0;32m     84\u001b[0m         \u001b[38;5;28;01mif\u001b[39;00m feature\u001b[38;5;241m.\u001b[39mshape \u001b[38;5;241m==\u001b[39m torch\u001b[38;5;241m.\u001b[39mSize([\u001b[38;5;241m2048\u001b[39m]):\n\u001b[0;32m     85\u001b[0m             verified_image_ids\u001b[38;5;241m.\u001b[39mappend(img_id)\n",
            "File \u001b[1;32mc:\\Users\\jocel\\AppData\\Local\\Programs\\Python\\Python39\\lib\\site-packages\\torch\\serialization.py:1484\u001b[0m, in \u001b[0;36mload\u001b[1;34m(f, map_location, pickle_module, weights_only, mmap, **pickle_load_args)\u001b[0m\n\u001b[0;32m   1481\u001b[0m \u001b[38;5;28;01mif\u001b[39;00m \u001b[38;5;124m\"\u001b[39m\u001b[38;5;124mencoding\u001b[39m\u001b[38;5;124m\"\u001b[39m \u001b[38;5;129;01mnot\u001b[39;00m \u001b[38;5;129;01min\u001b[39;00m pickle_load_args\u001b[38;5;241m.\u001b[39mkeys():\n\u001b[0;32m   1482\u001b[0m     pickle_load_args[\u001b[38;5;124m\"\u001b[39m\u001b[38;5;124mencoding\u001b[39m\u001b[38;5;124m\"\u001b[39m] \u001b[38;5;241m=\u001b[39m \u001b[38;5;124m\"\u001b[39m\u001b[38;5;124mutf-8\u001b[39m\u001b[38;5;124m\"\u001b[39m\n\u001b[1;32m-> 1484\u001b[0m \u001b[38;5;28;01mwith\u001b[39;00m \u001b[43m_open_file_like\u001b[49m\u001b[43m(\u001b[49m\u001b[43mf\u001b[49m\u001b[43m,\u001b[49m\u001b[43m \u001b[49m\u001b[38;5;124;43m\"\u001b[39;49m\u001b[38;5;124;43mrb\u001b[39;49m\u001b[38;5;124;43m\"\u001b[39;49m\u001b[43m)\u001b[49m \u001b[38;5;28;01mas\u001b[39;00m opened_file:\n\u001b[0;32m   1485\u001b[0m     \u001b[38;5;28;01mif\u001b[39;00m _is_zipfile(opened_file):\n\u001b[0;32m   1486\u001b[0m         \u001b[38;5;66;03m# The zipfile reader is going to advance the current file position.\u001b[39;00m\n\u001b[0;32m   1487\u001b[0m         \u001b[38;5;66;03m# If we want to actually tail call to torch.jit.load, we need to\u001b[39;00m\n\u001b[0;32m   1488\u001b[0m         \u001b[38;5;66;03m# reset back to the original position.\u001b[39;00m\n\u001b[0;32m   1489\u001b[0m         orig_position \u001b[38;5;241m=\u001b[39m opened_file\u001b[38;5;241m.\u001b[39mtell()\n",
            "File \u001b[1;32mc:\\Users\\jocel\\AppData\\Local\\Programs\\Python\\Python39\\lib\\site-packages\\torch\\serialization.py:759\u001b[0m, in \u001b[0;36m_open_file_like\u001b[1;34m(name_or_buffer, mode)\u001b[0m\n\u001b[0;32m    757\u001b[0m \u001b[38;5;28;01mdef\u001b[39;00m\u001b[38;5;250m \u001b[39m\u001b[38;5;21m_open_file_like\u001b[39m(name_or_buffer: FileLike, mode: \u001b[38;5;28mstr\u001b[39m) \u001b[38;5;241m-\u001b[39m\u001b[38;5;241m>\u001b[39m _opener[IO[\u001b[38;5;28mbytes\u001b[39m]]:\n\u001b[0;32m    758\u001b[0m     \u001b[38;5;28;01mif\u001b[39;00m _is_path(name_or_buffer):\n\u001b[1;32m--> 759\u001b[0m         \u001b[38;5;28;01mreturn\u001b[39;00m \u001b[43m_open_file\u001b[49m\u001b[43m(\u001b[49m\u001b[43mname_or_buffer\u001b[49m\u001b[43m,\u001b[49m\u001b[43m \u001b[49m\u001b[43mmode\u001b[49m\u001b[43m)\u001b[49m\n\u001b[0;32m    760\u001b[0m     \u001b[38;5;28;01melse\u001b[39;00m:\n\u001b[0;32m    761\u001b[0m         \u001b[38;5;28;01mif\u001b[39;00m \u001b[38;5;124m\"\u001b[39m\u001b[38;5;124mw\u001b[39m\u001b[38;5;124m\"\u001b[39m \u001b[38;5;129;01min\u001b[39;00m mode:\n",
            "File \u001b[1;32mc:\\Users\\jocel\\AppData\\Local\\Programs\\Python\\Python39\\lib\\site-packages\\torch\\serialization.py:740\u001b[0m, in \u001b[0;36m_open_file.__init__\u001b[1;34m(self, name, mode)\u001b[0m\n\u001b[0;32m    739\u001b[0m \u001b[38;5;28;01mdef\u001b[39;00m\u001b[38;5;250m \u001b[39m\u001b[38;5;21m__init__\u001b[39m(\u001b[38;5;28mself\u001b[39m, name: Union[\u001b[38;5;28mstr\u001b[39m, os\u001b[38;5;241m.\u001b[39mPathLike[\u001b[38;5;28mstr\u001b[39m]], mode: \u001b[38;5;28mstr\u001b[39m) \u001b[38;5;241m-\u001b[39m\u001b[38;5;241m>\u001b[39m \u001b[38;5;28;01mNone\u001b[39;00m:\n\u001b[1;32m--> 740\u001b[0m     \u001b[38;5;28msuper\u001b[39m()\u001b[38;5;241m.\u001b[39m\u001b[38;5;21m__init__\u001b[39m(\u001b[38;5;28;43mopen\u001b[39;49m\u001b[43m(\u001b[49m\u001b[43mname\u001b[49m\u001b[43m,\u001b[49m\u001b[43m \u001b[49m\u001b[43mmode\u001b[49m\u001b[43m)\u001b[49m)\n",
            "\u001b[1;31mKeyboardInterrupt\u001b[0m: "
          ]
        }
      ],
      "source": [
        "# Prepare data and get training components\n",
        "decoder, vocab, val_dataset, train_loader, val_loader, criterion, decoder_optimizer, temp_dir = prepare_data()"
      ]
    },
    {
      "cell_type": "code",
      "execution_count": null,
      "metadata": {
        "colab": {
          "base_uri": "https://localhost:8080/"
        },
        "id": "S9PXDADjrw0D",
        "outputId": "13959cdb-2a23-417f-8f63-9e9aaca6b99a"
      },
      "outputs": [
        {
          "name": "stdout",
          "output_type": "stream",
          "text": [
            "Validation image count: 810\n"
          ]
        },
        {
          "name": "stderr",
          "output_type": "stream",
          "text": [
            "Training Epoch 1: 100%|██████████| 569/569 [10:11<00:00,  1.07s/it]\n"
          ]
        },
        {
          "name": "stdout",
          "output_type": "stream",
          "text": [
            "Evaluating BLEU score at epoch 1...\n",
            "NEW BEST BLEU! Score: 0.1497 at epoch 1\n",
            "Epoch [1/20] - Train Loss: 4.5516, Val Loss: 3.7222, BLEU: 0.1497, Time: 624.3s\n"
          ]
        },
        {
          "name": "stderr",
          "output_type": "stream",
          "text": [
            "Training Epoch 2: 100%|██████████| 569/569 [10:05<00:00,  1.06s/it]\n"
          ]
        },
        {
          "name": "stdout",
          "output_type": "stream",
          "text": [
            "Evaluating BLEU score at epoch 2...\n",
            "NEW BEST BLEU! Score: 0.1666 at epoch 2\n",
            "Epoch [2/20] - Train Loss: 3.5563, Val Loss: 3.2979, BLEU: 0.1666, Time: 1322.0s\n"
          ]
        },
        {
          "name": "stderr",
          "output_type": "stream",
          "text": [
            "Training Epoch 3: 100%|██████████| 569/569 [10:01<00:00,  1.06s/it]\n"
          ]
        },
        {
          "name": "stdout",
          "output_type": "stream",
          "text": [
            "Evaluating BLEU score at epoch 3...\n",
            "NEW BEST BLEU! Score: 0.1834 at epoch 3\n",
            "Epoch [3/20] - Train Loss: 3.2307, Val Loss: 3.0842, BLEU: 0.1834, Time: 2021.8s\n"
          ]
        },
        {
          "name": "stderr",
          "output_type": "stream",
          "text": [
            "Training Epoch 4: 100%|██████████| 569/569 [10:16<00:00,  1.08s/it]\n"
          ]
        },
        {
          "name": "stdout",
          "output_type": "stream",
          "text": [
            "Evaluating BLEU score at epoch 4...\n",
            "NEW BEST BLEU! Score: 0.1933 at epoch 4\n",
            "Epoch [4/20] - Train Loss: 3.0316, Val Loss: 2.9496, BLEU: 0.1933, Time: 2741.6s\n"
          ]
        },
        {
          "name": "stderr",
          "output_type": "stream",
          "text": [
            "Training Epoch 5: 100%|██████████| 569/569 [10:21<00:00,  1.09s/it]\n"
          ]
        },
        {
          "name": "stdout",
          "output_type": "stream",
          "text": [
            "Evaluating BLEU score at epoch 5...\n",
            "NEW BEST BLEU! Score: 0.2005 at epoch 5\n",
            "Epoch [5/20] - Train Loss: 2.8911, Val Loss: 2.8589, BLEU: 0.2005, Time: 3456.1s\n",
            "Checkpoint saved at epoch 5 (Best BLEU: 0.2005 at epoch 5)\n"
          ]
        },
        {
          "name": "stderr",
          "output_type": "stream",
          "text": [
            "Training Epoch 6: 100%|██████████| 569/569 [10:18<00:00,  1.09s/it]\n"
          ]
        },
        {
          "name": "stdout",
          "output_type": "stream",
          "text": [
            "Evaluating BLEU score at epoch 6...\n",
            "NEW BEST BLEU! Score: 0.2066 at epoch 6\n",
            "Epoch [6/20] - Train Loss: 2.7813, Val Loss: 2.7944, BLEU: 0.2066, Time: 4169.4s\n"
          ]
        },
        {
          "name": "stderr",
          "output_type": "stream",
          "text": [
            "Training Epoch 7: 100%|██████████| 569/569 [3:14:01<00:00, 20.46s/it]      \n"
          ]
        },
        {
          "name": "stdout",
          "output_type": "stream",
          "text": [
            "Evaluating BLEU score at epoch 7...\n",
            "NEW BEST BLEU! Score: 0.2162 at epoch 7\n",
            "Epoch [7/20] - Train Loss: 2.6946, Val Loss: 2.7396, BLEU: 0.2162, Time: 15916.8s\n"
          ]
        },
        {
          "name": "stderr",
          "output_type": "stream",
          "text": [
            "Training Epoch 8: 100%|██████████| 569/569 [11:31<00:00,  1.22s/it]\n"
          ]
        },
        {
          "name": "stdout",
          "output_type": "stream",
          "text": [
            "Evaluating BLEU score at epoch 8...\n",
            "NEW BEST BLEU! Score: 0.2229 at epoch 8\n",
            "Epoch [8/20] - Train Loss: 2.6213, Val Loss: 2.7019, BLEU: 0.2229, Time: 16729.9s\n"
          ]
        },
        {
          "name": "stderr",
          "output_type": "stream",
          "text": [
            "Training Epoch 9: 100%|██████████| 569/569 [11:28<00:00,  1.21s/it]\n"
          ]
        },
        {
          "name": "stdout",
          "output_type": "stream",
          "text": [
            "Evaluating BLEU score at epoch 9...\n",
            "Epoch [9/20] - Train Loss: 2.5549, Val Loss: 2.6671, BLEU: 0.2180, Time: 17530.9s\n"
          ]
        },
        {
          "name": "stderr",
          "output_type": "stream",
          "text": [
            "Training Epoch 10: 100%|██████████| 569/569 [11:41<00:00,  1.23s/it]\n"
          ]
        },
        {
          "name": "stdout",
          "output_type": "stream",
          "text": [
            "Evaluating BLEU score at epoch 10...\n",
            "Epoch [10/20] - Train Loss: 2.4970, Val Loss: 2.6434, BLEU: 0.2195, Time: 18351.6s\n",
            "Checkpoint saved at epoch 10 (Best BLEU: 0.2229 at epoch 8)\n"
          ]
        },
        {
          "name": "stderr",
          "output_type": "stream",
          "text": [
            "Training Epoch 11: 100%|██████████| 569/569 [09:27<00:00,  1.00it/s]\n"
          ]
        },
        {
          "name": "stdout",
          "output_type": "stream",
          "text": [
            "Evaluating BLEU score at epoch 11...\n",
            "NEW BEST BLEU! Score: 0.2230 at epoch 11\n",
            "Epoch [11/20] - Train Loss: 2.4448, Val Loss: 2.6211, BLEU: 0.2230, Time: 19015.8s\n"
          ]
        },
        {
          "name": "stderr",
          "output_type": "stream",
          "text": [
            "Training Epoch 12: 100%|██████████| 569/569 [09:54<00:00,  1.04s/it]\n"
          ]
        },
        {
          "name": "stdout",
          "output_type": "stream",
          "text": [
            "Evaluating BLEU score at epoch 12...\n",
            "Epoch [12/20] - Train Loss: 2.3952, Val Loss: 2.6017, BLEU: 0.2222, Time: 19702.5s\n"
          ]
        },
        {
          "name": "stderr",
          "output_type": "stream",
          "text": [
            "Training Epoch 13: 100%|██████████| 569/569 [09:29<00:00,  1.00s/it]\n"
          ]
        },
        {
          "name": "stdout",
          "output_type": "stream",
          "text": [
            "Evaluating BLEU score at epoch 13...\n",
            "NEW BEST BLEU! Score: 0.2254 at epoch 13\n",
            "Epoch [13/20] - Train Loss: 2.3518, Val Loss: 2.5842, BLEU: 0.2254, Time: 20364.5s\n"
          ]
        },
        {
          "name": "stderr",
          "output_type": "stream",
          "text": [
            "Training Epoch 14: 100%|██████████| 569/569 [10:12<00:00,  1.08s/it]\n"
          ]
        },
        {
          "name": "stdout",
          "output_type": "stream",
          "text": [
            "Evaluating BLEU score at epoch 14...\n",
            "Epoch [14/20] - Train Loss: 2.3092, Val Loss: 2.5718, BLEU: 0.2243, Time: 21070.5s\n"
          ]
        },
        {
          "name": "stderr",
          "output_type": "stream",
          "text": [
            "Training Epoch 15: 100%|██████████| 569/569 [09:28<00:00,  1.00it/s]\n"
          ]
        },
        {
          "name": "stdout",
          "output_type": "stream",
          "text": [
            "Evaluating BLEU score at epoch 15...\n",
            "NEW BEST BLEU! Score: 0.2266 at epoch 15\n",
            "Epoch [15/20] - Train Loss: 2.2723, Val Loss: 2.5635, BLEU: 0.2266, Time: 21736.4s\n",
            "Checkpoint saved at epoch 15 (Best BLEU: 0.2266 at epoch 15)\n"
          ]
        },
        {
          "name": "stderr",
          "output_type": "stream",
          "text": [
            "Training Epoch 16: 100%|██████████| 569/569 [09:38<00:00,  1.02s/it]\n"
          ]
        },
        {
          "name": "stdout",
          "output_type": "stream",
          "text": [
            "Evaluating BLEU score at epoch 16...\n",
            "Epoch [16/20] - Train Loss: 2.2356, Val Loss: 2.5544, BLEU: 0.2262, Time: 22414.7s\n"
          ]
        },
        {
          "name": "stderr",
          "output_type": "stream",
          "text": [
            "Training Epoch 17: 100%|██████████| 569/569 [15:11<00:00,  1.60s/it]\n"
          ]
        },
        {
          "name": "stdout",
          "output_type": "stream",
          "text": [
            "Evaluating BLEU score at epoch 17...\n",
            "Epoch [17/20] - Train Loss: 2.2023, Val Loss: 2.5497, BLEU: 0.2246, Time: 23437.7s\n"
          ]
        },
        {
          "name": "stderr",
          "output_type": "stream",
          "text": [
            "Training Epoch 18: 100%|██████████| 569/569 [09:15<00:00,  1.02it/s]\n"
          ]
        },
        {
          "name": "stdout",
          "output_type": "stream",
          "text": [
            "Evaluating BLEU score at epoch 18...\n",
            "Epoch [18/20] - Train Loss: 2.1692, Val Loss: 2.5409, BLEU: 0.2250, Time: 24230.6s\n"
          ]
        },
        {
          "name": "stderr",
          "output_type": "stream",
          "text": [
            "Training Epoch 19: 100%|██████████| 569/569 [12:32<00:00,  1.32s/it]\n"
          ]
        },
        {
          "name": "stdout",
          "output_type": "stream",
          "text": [
            "Evaluating BLEU score at epoch 19...\n",
            "Epoch [19/20] - Train Loss: 2.1386, Val Loss: 2.5359, BLEU: 0.2240, Time: 25091.2s\n"
          ]
        },
        {
          "name": "stderr",
          "output_type": "stream",
          "text": [
            "Training Epoch 20: 100%|██████████| 569/569 [10:11<00:00,  1.08s/it]\n"
          ]
        },
        {
          "name": "stdout",
          "output_type": "stream",
          "text": [
            "Evaluating BLEU score at epoch 20...\n",
            "Epoch [20/20] - Train Loss: 2.1091, Val Loss: 2.5347, BLEU: 0.2247, Time: 25805.4s\n",
            "Checkpoint saved at epoch 20 (Best BLEU: 0.2266 at epoch 15)\n",
            "Training loop completed successfully!\n"
          ]
        }
      ],
      "source": [
        "# Initialize training variables\n",
        "train_losses = []\n",
        "val_losses = []\n",
        "bleu_scores = []\n",
        "best_bleu = 0.0\n",
        "best_bleu_epoch = 0\n",
        "start_time = time.time()\n",
        "\n",
        "print(f\"Validation image count: {len(val_dataset.image_ids)}\")\n",
        "\n",
        "# Training loop\n",
        "for epoch in range(epochs):\n",
        "    # Training\n",
        "    decoder.train()\n",
        "    total_loss = 0\n",
        "\n",
        "    for imgs, caps, caplens in tqdm(train_loader, desc=f\"Training Epoch {epoch+1}\"):\n",
        "        imgs, caps, caplens = imgs.to(device), caps.to(device), torch.tensor(caplens).to(device)\n",
        "\n",
        "        # Forward pass\n",
        "        scores, caps_sorted, decode_lengths, sort_ind = decoder(imgs, caps, caplens)\n",
        "        targets = caps_sorted[:, 1:]\n",
        "\n",
        "        # Calculate loss\n",
        "        loss = 0\n",
        "        for i, length in enumerate(decode_lengths):\n",
        "            loss += criterion(scores[i, :length, :], targets[i, :length])\n",
        "        loss /= len(decode_lengths)\n",
        "\n",
        "        # Backward pass\n",
        "        decoder_optimizer.zero_grad()\n",
        "        loss.backward()\n",
        "        torch.nn.utils.clip_grad_norm_(decoder.parameters(), 5.0)\n",
        "        decoder_optimizer.step()\n",
        "\n",
        "        total_loss += loss.item()\n",
        "\n",
        "    avg_train_loss = total_loss / len(train_loader)\n",
        "    train_losses.append(avg_train_loss)\n",
        "\n",
        "    # Validation\n",
        "    decoder.eval()\n",
        "    total_val_loss = 0\n",
        "\n",
        "    with torch.no_grad():\n",
        "        for imgs, caps, caplens in val_loader:\n",
        "            imgs, caps, caplens = imgs.to(device), caps.to(device), torch.tensor(caplens).to(device)\n",
        "\n",
        "            scores, caps_sorted, decode_lengths, _ = decoder(imgs, caps, caplens)\n",
        "            targets = caps_sorted[:, 1:]\n",
        "\n",
        "            loss = 0\n",
        "            for i, length in enumerate(decode_lengths):\n",
        "                loss += criterion(scores[i, :length, :], targets[i, :length])\n",
        "            loss /= len(decode_lengths)\n",
        "\n",
        "            total_val_loss += loss.item()\n",
        "\n",
        "    avg_val_loss = total_val_loss / len(val_loader)\n",
        "    val_losses.append(avg_val_loss)\n",
        "\n",
        "    epoch_time = time.time() - start_time\n",
        "\n",
        "    # Evaluate BLEU score every epoch\n",
        "    print(f\"Evaluating BLEU at epoch {epoch+1}...\")\n",
        "    res = evaluate_bleu_features(\n",
        "        decoder=decoder,\n",
        "        val_dataset=val_dataset,\n",
        "        vocab=vocab,\n",
        "        beam_size=5,\n",
        "        max_len=20,\n",
        "        device=device,\n",
        "    )\n",
        "    avg_bleu = res[\"bleu_overall\"]\n",
        "    bleu_scores.append(avg_bleu)\n",
        "\n",
        "    if avg_bleu > best_bleu:\n",
        "        best_bleu = avg_bleu\n",
        "        best_bleu_epoch = epoch + 1\n",
        "        print(f\"NEW BEST BLEU! {best_bleu:.4f} @ epoch {best_bleu_epoch}\")\n",
        "\n",
        "\n",
        "    print(f'Epoch [{epoch+1}/{epochs}] - Train Loss: {avg_train_loss:.4f}, Val Loss: {avg_val_loss:.4f}, BLEU: {avg_bleu:.4f}, Time: {epoch_time:.1f}s')\n",
        "\n",
        "    # Save checkpoint every 5 epochs\n",
        "    if (epoch + 1) % 5 == 0:\n",
        "        checkpoint = {\n",
        "            'epoch': epoch + 1,\n",
        "            'decoder': decoder.state_dict(),\n",
        "            'decoder_optimizer': decoder_optimizer.state_dict(),\n",
        "            'train_losses': train_losses,\n",
        "            'val_losses': val_losses,\n",
        "            'bleu_scores': bleu_scores,\n",
        "            'best_bleu': best_bleu,\n",
        "            'best_bleu_epoch': best_bleu_epoch\n",
        "        }\n",
        "        torch.save(checkpoint, f'outputs/checkpoint_gru_flickr8k_epoch_{epoch+1}.pth.tar')\n",
        "        print(f'Checkpoint saved at epoch {epoch+1} (Best BLEU: {best_bleu:.4f} at epoch {best_bleu_epoch})')\n",
        "\n",
        "print(\"Training loop completed successfully!\")"
      ]
    },
    {
      "cell_type": "code",
      "execution_count": null,
      "metadata": {
        "colab": {
          "base_uri": "https://localhost:8080/"
        },
        "id": "Z0pTHAhPrw0D",
        "outputId": "93ab8173-c69a-4842-b80b-ed5b371560ad"
      },
      "outputs": [
        {
          "name": "stdout",
          "output_type": "stream",
          "text": [
            "\n",
            "Training completed in 431.3 minutes!\n",
            "\n",
            "PEAK PERFORMANCE SUMMARY:\n",
            " Best BLEU Score: 0.2266\n",
            "Best BLEU Epoch: 15\n",
            "Final Train Loss: 2.1091\n",
            "Final Val Loss: 2.5347\n",
            "Final BLEU Score: 0.2247\n",
            "Vocabulary saved to models/vocabulary.pkl\n",
            "Training metrics saved to outputs/training_metrics.pkl\n"
          ]
        }
      ],
      "source": [
        "# Save results\n",
        "total_time = time.time() - start_time\n",
        "\n",
        "# Save final model\n",
        "torch.save({\n",
        "    'epoch': len(train_losses),\n",
        "    'decoder': decoder.state_dict(),\n",
        "    'decoder_optimizer': decoder_optimizer.state_dict(),\n",
        "    'train_losses': train_losses,\n",
        "    'val_losses': val_losses,\n",
        "    'bleu_scores': bleu_scores,\n",
        "    'best_bleu': best_bleu,\n",
        "    'best_bleu_epoch': best_bleu_epoch\n",
        "}, 'outputs/BEST_checkpoint_gru_flickr8k.pth.tar')\n",
        "\n",
        "print(f\"\\nTraining completed in {total_time/60:.1f} minutes!\")\n",
        "\n",
        "# Print peak performance summary\n",
        "print(f\"\\nPEAK PERFORMANCE SUMMARY:\")\n",
        "print(f\" Best BLEU Score: {best_bleu:.4f}\")\n",
        "print(f\"Best BLEU Epoch: {best_bleu_epoch}\")\n",
        "print(f\"Final Train Loss: {train_losses[-1]:.4f}\")\n",
        "print(f\"Final Val Loss: {val_losses[-1]:.4f}\")\n",
        "print(f\"Final BLEU Score: {bleu_scores[-1]:.4f}\")\n",
        "\n",
        "# Save vocabulary using pickle (no JSON as requested)\n",
        "import pickle\n",
        "with open('models/vocabulary.pkl', 'wb') as f:\n",
        "    pickle.dump(vocab, f)\n",
        "print(\"Vocabulary saved to models/vocabulary.pkl\")\n",
        "\n",
        "# Save training metrics for plotting\n",
        "metrics = {\n",
        "    'train_losses': train_losses,\n",
        "    'val_losses': val_losses,\n",
        "    'bleu_scores': bleu_scores,\n",
        "    'best_bleu': best_bleu,\n",
        "    'best_bleu_epoch': best_bleu_epoch,\n",
        "    'total_epochs': len(train_losses)\n",
        "}\n",
        "with open('outputs/training_metrics.pkl', 'wb') as f:\n",
        "    pickle.dump(metrics, f)\n",
        "print(\"Training metrics saved to outputs/training_metrics.pkl\")\n"
      ]
    },
    {
      "cell_type": "code",
      "execution_count": null,
      "metadata": {
        "colab": {
          "base_uri": "https://localhost:8080/",
          "height": 1000
        },
        "id": "aMQ0x3IArw0E",
        "outputId": "59b5a181-7a81-403d-b3e1-0ad28397d40f"
      },
      "outputs": [
        {
          "name": "stdout",
          "output_type": "stream",
          "text": [
            "Training plots saved to outputs/training_plots.png and outputs/training_plots.pdf\n"
          ]
        },
        {
          "data": {
            "image/png": "[encoded data removed]",
            "text/plain": [
              "<Figure size 1000x600 with 1 Axes>"
            ]
          },
          "metadata": {},
          "output_type": "display_data"
        },
        {
          "data": {
            "image/png": "[encoded data removed]",
            "text/plain": [
              "<Figure size 1000x600 with 1 Axes>"
            ]
          },
          "metadata": {},
          "output_type": "display_data"
        },
        {
          "name": "stdout",
          "output_type": "stream",
          "text": [
            "Detailed plots saved to outputs/detailed_loss_plot.png and outputs/detailed_bleu_plot.png\n",
            "Training complete!\n"
          ]
        }
      ],
      "source": [
        "import matplotlib.pyplot as plt\n",
        "\n",
        "# Create subplots\n",
        "fig, (ax1, ax2) = plt.subplots(1, 2, figsize=(15, 5))\n",
        "\n",
        "# Plot 1: Training and Validation Loss\n",
        "epochs_range = range(1, len(train_losses) + 1)\n",
        "ax1.plot(epochs_range, train_losses, 'b-', label='Training Loss', linewidth=2)\n",
        "ax1.plot(epochs_range, val_losses, 'r-', label='Validation Loss', linewidth=2)\n",
        "ax1.set_title('Training and Validation Loss', fontsize=14, fontweight='bold')\n",
        "ax1.set_xlabel('Epoch')\n",
        "ax1.set_ylabel('Loss')\n",
        "ax1.legend()\n",
        "ax1.grid(True, alpha=0.3)\n",
        "\n",
        "# Plot 2: BLEU Score vs Epoch\n",
        "ax2.plot(epochs_range, bleu_scores, 'g-', label='BLEU Score', linewidth=2)\n",
        "# Mark the best BLEU point\n",
        "if best_bleu > 0:\n",
        "    ax2.scatter([best_bleu_epoch], [best_bleu], color='red', s=100, zorder=5,\n",
        "                label=f'Best BLEU: {best_bleu:.4f} at epoch {best_bleu_epoch}')\n",
        "ax2.set_title('BLEU Score vs Epoch', fontsize=14, fontweight='bold')\n",
        "ax2.set_xlabel('Epoch')\n",
        "ax2.set_ylabel('BLEU Score')\n",
        "ax2.legend()\n",
        "ax2.grid(True, alpha=0.3)\n",
        "\n",
        "plt.tight_layout()\n",
        "plt.savefig('outputs/training_plots.png', dpi=300, bbox_inches='tight')\n",
        "plt.savefig('outputs/training_plots.pdf', bbox_inches='tight')  # Also save as PDF\n",
        "plt.close()\n",
        "\n",
        "print(\"Training plots saved to outputs/training_plots.png and outputs/training_plots.pdf\")\n",
        "\n",
        "# Create individual detailed plots\n",
        "\n",
        "# Detailed Loss Plot\n",
        "plt.figure(figsize=(10, 6))\n",
        "plt.plot(epochs_range, train_losses, 'b-', label='Training Loss', linewidth=2, marker='o', markersize=4)\n",
        "plt.plot(epochs_range, val_losses, 'r-', label='Validation Loss', linewidth=2, marker='s', markersize=4)\n",
        "plt.title('GRU Model: Training and Validation Loss', fontsize=16, fontweight='bold')\n",
        "plt.xlabel('Epoch', fontsize=12)\n",
        "plt.ylabel('Cross-Entropy Loss', fontsize=12)\n",
        "plt.legend(fontsize=12)\n",
        "plt.grid(True, alpha=0.3)\n",
        "plt.xticks(range(1, len(train_losses) + 1, max(1, len(train_losses)//10)))\n",
        "plt.savefig('outputs/detailed_loss_plot.png', dpi=300, bbox_inches='tight')\n",
        "plt.show()\n",
        "\n",
        "# Detailed BLEU Plot\n",
        "plt.figure(figsize=(10, 6))\n",
        "plt.plot(epochs_range, bleu_scores, 'g-', label='BLEU Score', linewidth=2, marker='o', markersize=4)\n",
        "if best_bleu > 0:\n",
        "    plt.scatter([best_bleu_epoch], [best_bleu], color='red', s=150, zorder=5,\n",
        "                label=f'Peak: {best_bleu:.4f} (Epoch {best_bleu_epoch})')\n",
        "plt.title('GRU Model: BLEU Score Progress', fontsize=16, fontweight='bold')\n",
        "plt.xlabel('Epoch', fontsize=12)\n",
        "plt.ylabel('BLEU Score', fontsize=12)\n",
        "plt.legend(fontsize=12)\n",
        "plt.grid(True, alpha=0.3)\n",
        "plt.xticks(range(1, len(bleu_scores) + 1, max(1, len(bleu_scores)//10)))\n",
        "if len(bleu_scores) > 0:\n",
        "    plt.ylim(0, max(bleu_scores) * 1.1)  # Set y-axis limits for better visualization\n",
        "plt.savefig('outputs/detailed_bleu_plot.png', dpi=300, bbox_inches='tight')\n",
        "plt.show()\n",
        "\n",
        "print(\"Detailed plots saved to outputs/detailed_loss_plot.png and outputs/detailed_bleu_plot.png\")\n",
        "\n",
        "print(\"Training complete!\")"
      ]
    }
  ],
  "metadata": {
    "colab": {
      "provenance": []
    },
    "kernelspec": {
      "display_name": "Python 3",
      "language": "python",
      "name": "python3"
    },
    "language_info": {
      "codemirror_mode": {
        "name": "ipython",
        "version": 3
      },
      "file_extension": ".py",
      "mimetype": "text/x-python",
      "name": "python",
      "nbconvert_exporter": "python",
      "pygments_lexer": "ipython3",
      "version": "3.9.13"
    }
  },
  "nbformat": 4,
  "nbformat_minor": 0
}
