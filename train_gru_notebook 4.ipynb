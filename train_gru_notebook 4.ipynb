{
  "cells": [
    {
      "cell_type": "code",
      "execution_count": 1,
      "metadata": {},
      "outputs": [
        {
          "name": "stdout",
          "output_type": "stream",
          "text": [
            "Setting up NLTK resources...\n",
            "NLTK tokenization ready\n",
            "Using device: cpu\n"
          ]
        }
      ],
      "source": [
        "# 1. Setup and Configuration\n",
        "import torch\n",
        "import torch.nn as nn\n",
        "import torch.optim as optim\n",
        "from torch.utils.data import Dataset, DataLoader\n",
        "from torchvision import models, transforms\n",
        "from torchvision.models.feature_extraction import create_feature_extractor\n",
        "from PIL import Image\n",
        "import os\n",
        "import numpy as np\n",
        "import nltk\n",
        "from nltk.tokenize import word_tokenize\n",
        "from collections import Counter\n",
        "from tqdm import tqdm\n",
        "import random\n",
        "import matplotlib.pyplot as plt\n",
        "from sklearn.model_selection import train_test_split\n",
        "import time\n",
        "import tempfile\n",
        "import shutil\n",
        "import zipfile\n",
        "import requests\n",
        "import matplotlib.pyplot as plt\n",
        "\n",
        "# For BLEU evaluation\n",
        "try:\n",
        "    from nltk.translate.bleu_score import sentence_bleu, SmoothingFunction\n",
        "except ImportError:\n",
        "    print(\"NLTK not found. Installing...\")\n",
        "    import subprocess\n",
        "    subprocess.check_call([\"pip\", \"install\", \"nltk\"])\n",
        "    from nltk.translate.bleu_score import sentence_bleu, SmoothingFunction\n",
        "\n",
        "# Download NLTK data if not already present\n",
        "print(\"Setting up NLTK resources...\")\n",
        "try:\n",
        "    # Test if tokenization works\n",
        "    from nltk.tokenize import word_tokenize\n",
        "    word_tokenize(\"test\")\n",
        "    print(\"NLTK tokenization ready\")\n",
        "except Exception as e:\n",
        "    print(f\"NLTK setup needed: {e}\")\n",
        "    try:\n",
        "        print(\"Downloading punkt...\")\n",
        "        nltk.download('punkt', quiet=True)\n",
        "        print(\"Downloading punkt_tab...\")\n",
        "        nltk.download('punkt_tab', quiet=True)\n",
        "        print(\"NLTK resources downloaded\")\n",
        "        # Test again\n",
        "        from nltk.tokenize import word_tokenize\n",
        "        word_tokenize(\"test\")\n",
        "        print(\"NLTK tokenization now working\")\n",
        "    except Exception as download_error:\n",
        "        print(f\"NLTK download failed: {download_error}\")\n",
        "        print(\"Please run manually: python -m nltk.downloader punkt punkt_tab\")\n",
        "\n",
        "# --- Configuration ---\n",
        "class Config:\n",
        "    DATA_DIR = 'flickr8k'\n",
        "    IMAGES_DIR = os.path.join(DATA_DIR, 'Flicker8k_Dataset')\n",
        "    CAPTIONS_FILE = os.path.join(DATA_DIR, 'Flickr8k.token.txt')\n",
        "\n",
        "    CACHED_FEATURES_DIR = 'cached_features'\n",
        "\n",
        "    EMBED_SIZE = 512\n",
        "    HIDDEN_SIZE = 512\n",
        "    NUM_LAYERS = 1\n",
        "    VOCAB_THRESHOLD = 5\n",
        "\n",
        "    BATCH_SIZE = 32\n",
        "    NUM_EPOCHS = 20\n",
        "\n",
        "    LEARNING_RATE = 1e-4\n",
        "    LOG_STEP = 1200\n",
        "    SAVE_STEP = 1\n",
        "    DROPOUT_PROB = 0.3\n",
        "\n",
        "    DEVICE = torch.device('cuda' if torch.cuda.is_available() else 'cpu')\n",
        "\n",
        "    INTEGRATION_STRATEGY = 'hidden_state_init'\n",
        "\n",
        "print(f\"Using device: {Config.DEVICE}\")\n",
        "\n",
        "# Create directories if they don't exist\n",
        "os.makedirs('models', exist_ok=True)\n",
        "os.makedirs('outputs', exist_ok=True)\n",
        "os.makedirs('results', exist_ok=True)\n",
        "os.makedirs(Config.CACHED_FEATURES_DIR, exist_ok=True)\n",
        "\n",
        "# Set device and other variables from Config\n",
        "device = Config.DEVICE\n",
        "embed_dim = Config.EMBED_SIZE\n",
        "decoder_dim = Config.HIDDEN_SIZE\n",
        "dropout = Config.DROPOUT_PROB\n",
        "epochs = Config.NUM_EPOCHS\n",
        "batch_size = Config.BATCH_SIZE\n",
        "learning_rate = Config.LEARNING_RATE\n",
        "fine_tune_encoder = True\n",
        "decoder_lr = learning_rate\n",
        "encoder_lr = learning_rate * 0.1  # Lower learning rate for encoder"
      ]
    },
    {
      "cell_type": "code",
      "execution_count": 2,
      "metadata": {},
      "outputs": [],
      "source": [
        "class Vocabulary:\n",
        "    def __init__(self, threshold):\n",
        "        self.threshold = threshold\n",
        "        self.word2idx = {}\n",
        "        self.idx2word = {}\n",
        "        self.idx = 0\n",
        "\n",
        "        self.add_word('<pad>')\n",
        "        self.add_word('<start>')\n",
        "        self.add_word('<end>')\n",
        "        self.add_word('<unk>')\n",
        "\n",
        "    def add_word(self, word):\n",
        "        if word not in self.word2idx:\n",
        "            self.word2idx[word] = self.idx\n",
        "            self.idx2word[self.idx] = word\n",
        "            self.idx += 1\n",
        "\n",
        "    def build_vocabulary(self, captions_list):\n",
        "        counter = Counter()\n",
        "        for caption in tqdm(captions_list, desc=\"Building Vocabulary\"):\n",
        "            tokens = word_tokenize(caption.lower())\n",
        "            counter.update(tokens)\n",
        "\n",
        "        words = [word for word, count in counter.items() if count >= self.threshold]\n",
        "        for word in words:\n",
        "            self.add_word(word)\n",
        "\n",
        "        print(f\"Vocabulary built with {len(self.word2idx)} unique words (threshold={self.threshold}).\")\n",
        "\n",
        "    def __call__(self, word):\n",
        "        if word not in self.word2idx:\n",
        "            return self.word2idx['<unk>']\n",
        "        return self.word2idx[word]\n",
        "\n",
        "    def __len__(self):\n",
        "        return len(self.word2idx)"
      ]
    },
    {
      "cell_type": "code",
      "execution_count": 3,
      "metadata": {},
      "outputs": [],
      "source": [
        "class Flickr8kDataset(Dataset):\n",
        "    def __init__(self, captions_file, images_dir, vocab, transform, cached_features_dir, feature_extractor_model=None):\n",
        "        self.captions_file = captions_file\n",
        "        self.images_dir = images_dir\n",
        "        self.vocab = vocab\n",
        "        self.transform = transform\n",
        "        self.cached_features_dir = cached_features_dir\n",
        "\n",
        "        self.feature_extractor_model = feature_extractor_model\n",
        "        if self.feature_extractor_model:\n",
        "            self.feature_extractor_model.to(Config.DEVICE)\n",
        "            self.feature_extractor_model.eval()\n",
        "\n",
        "        self.annotations = self._parse_captions()\n",
        "        self.image_ids = list(self.annotations.keys())\n",
        "\n",
        "        if not self.image_ids:\n",
        "            raise ValueError(\n",
        "                \"No image IDs found after parsing captions file. \"\n",
        "                \"Please check if 'Flickr8k.token.txt' is correctly formatted \"\n",
        "                \"and contains valid image-caption entries.\"\n",
        "            )\n",
        "\n",
        "        print(\"Checking and caching image features...\")\n",
        "        self._cache_features()\n",
        "\n",
        "    def _parse_captions(self):\n",
        "        annotations = {}\n",
        "        parsed_lines_count = 0\n",
        "        skipped_lines_count = 0\n",
        "        with open(self.captions_file, 'r') as f:\n",
        "            for line_num, line in enumerate(f, 1):\n",
        "                line = line.strip()\n",
        "                if not line:\n",
        "                    skipped_lines_count += 1\n",
        "                    continue\n",
        "\n",
        "                # Format: image_id.jpg#caption_number caption text\n",
        "                parts = line.split('\\t', 1)\n",
        "                if len(parts) < 2:\n",
        "                    # Try space split if tab doesn't work\n",
        "                    parts = line.split(' ', 1)\n",
        "                    if len(parts) < 2:\n",
        "                        print(f\"Warning: Skipping malformed line {line_num} in captions file: '{line}' (Expected format: 'image.jpg#N caption text').\")\n",
        "                        skipped_lines_count += 1\n",
        "                        continue\n",
        "\n",
        "                image_caption_id = parts[0].strip()\n",
        "                caption_text = parts[1].strip()\n",
        "\n",
        "                # Extract image ID from image_id.jpg#caption_number or image_id.jpg.caption_number\n",
        "                if '#' in image_caption_id:\n",
        "                    image_id = image_caption_id.split('#')[0]\n",
        "                elif '.jpg.' in image_caption_id:\n",
        "                    # Handle format like \"image.jpg.1\" \n",
        "                    image_id = image_caption_id.split('.jpg.')[0] + '.jpg'\n",
        "                else:\n",
        "                    image_id = image_caption_id\n",
        "\n",
        "                if not image_id.lower().endswith('.jpg'):\n",
        "                    print(f\"Warning: Skipping malformed image ID format on line {line_num}: '{image_id}' (Expected format like 'image.jpg').\")\n",
        "                    skipped_lines_count += 1\n",
        "                    continue\n",
        "\n",
        "                if image_id not in annotations:\n",
        "                    annotations[image_id] = []\n",
        "                annotations[image_id].append(caption_text)\n",
        "                parsed_lines_count += 1\n",
        "\n",
        "        print(f\"Finished parsing captions. Successfully parsed {parsed_lines_count} lines. Skipped {skipped_lines_count} lines.\")\n",
        "        if not annotations:\n",
        "            print(\"Critical Warning: No valid image-caption entries were parsed from the captions file.\")\n",
        "        return annotations\n",
        "\n",
        "    def _cache_features(self):\n",
        "        if self.feature_extractor_model is None:\n",
        "            print(\"Feature extractor model not provided; assuming features are already cached.\")\n",
        "            verified_image_ids = []\n",
        "            for img_id in tqdm(list(self.annotations.keys()), desc=\"Verifying cached features\"):\n",
        "                cache_path = os.path.join(self.cached_features_dir, img_id.replace('.jpg', '.pt'))\n",
        "                if os.path.exists(cache_path):\n",
        "                    try:\n",
        "                        feature = torch.load(cache_path)\n",
        "                        if feature.shape == torch.Size([2048]):\n",
        "                            verified_image_ids.append(img_id)\n",
        "                        else:\n",
        "                            print(f\"Warning: Cached feature for {img_id} at {cache_path} has incorrect shape {feature.shape}. Expected torch.Size([2048]). This file will be marked for re-caching if a feature extractor is provided later.\")\n",
        "                    except Exception as e:\n",
        "                        print(f\"Warning: Could not load cached feature for {img_id} at {cache_path}: {e}. This file will be marked for re-caching if a feature extractor is provided later.\")\n",
        "                else:\n",
        "                    print(f\"Warning: Cached feature file not found for {img_id} at {cache_path}. This image will be skipped if no feature extractor is provided.\")\n",
        "\n",
        "            if len(verified_image_ids) < len(self.annotations.keys()):\n",
        "                print(f\"Warning: {len(self.annotations.keys()) - len(verified_image_ids)} images had missing or problematic cached features. These will be excluded from the dataset.\")\n",
        "            self.image_ids = verified_image_ids\n",
        "            return\n",
        "\n",
        "        initial_image_ids = list(self.annotations.keys())\n",
        "\n",
        "        self.feature_extractor_model.eval()\n",
        "        self.feature_extractor_model.to(Config.DEVICE)\n",
        "\n",
        "        problematic_images = set()\n",
        "\n",
        "        for img_id in tqdm(initial_image_ids, desc=\"Caching features\"):\n",
        "            img_path = os.path.join(self.images_dir, img_id)\n",
        "            cache_path = os.path.join(self.cached_features_dir, img_id.replace('.jpg', '.pt'))\n",
        "\n",
        "            if os.path.exists(cache_path):\n",
        "                try:\n",
        "                    existing_feature = torch.load(cache_path)\n",
        "                    if existing_feature.shape == torch.Size([2048]):\n",
        "                        continue\n",
        "                    else:\n",
        "                        print(f\"Warning: Existing cached feature for {img_id} at {cache_path} has incorrect shape {existing_feature.shape}. Re-caching.\")\n",
        "                        os.remove(cache_path)\n",
        "                except Exception as e:\n",
        "                    print(f\"Warning: Could not load existing cached feature for {img_id} at {cache_path}: {e}. Re-caching.\")\n",
        "                    if os.path.exists(cache_path):\n",
        "                        os.remove(cache_path)\n",
        "\n",
        "            try:\n",
        "                if not os.path.exists(img_path):\n",
        "                    print(f\"Warning: Image file not found for {img_id} at {img_path}. Skipping feature caching for this image.\")\n",
        "                    problematic_images.add(img_id)\n",
        "                    continue\n",
        "\n",
        "                image = Image.open(img_path).convert('RGB')\n",
        "                image = self.transform(image).unsqueeze(0).to(Config.DEVICE)\n",
        "\n",
        "                with torch.no_grad():\n",
        "                    features = self.feature_extractor_model(image).squeeze(0)\n",
        "\n",
        "                if features.shape != torch.Size([2048]):\n",
        "                    print(f\"Warning: Feature extraction for {img_id} resulted in unexpected shape {features.shape}. Expected torch.Size([2048]). This feature will NOT be cached.\")\n",
        "                    problematic_images.add(img_id)\n",
        "                    continue\n",
        "\n",
        "                torch.save(features.cpu(), cache_path)\n",
        "            except Exception as e:\n",
        "                print(f\"Error processing image {img_id} during feature caching: {e}\")\n",
        "                problematic_images.add(img_id)\n",
        "                continue\n",
        "\n",
        "        print(\"Feature caching complete.\")\n",
        "\n",
        "        if problematic_images:\n",
        "            self.image_ids = [img_id for img_id in initial_image_ids if img_id not in problematic_images]\n",
        "            print(f\"Warning: Skipped caching features for {len(problematic_images)} images due to errors or unexpected shapes. These images will be excluded from the dataset.\")\n",
        "            for img_id in list(problematic_images)[:5]:\n",
        "                print(f\"- {img_id}\")\n",
        "            if len(problematic_images) > 5:\n",
        "                print(f\"... and {len(problematic_images) - 5} more.\")\n",
        "            print(f\"Adjusted dataset size to {len(self.image_ids) * 5} (from {len(initial_image_ids) * 5}) after filtering problematic images.\")\n",
        "        else:\n",
        "            self.image_ids = initial_image_ids\n",
        "            print(\"All image features cached successfully with correct shapes.\")\n",
        "\n",
        "\n",
        "    def __len__(self):\n",
        "        return len(self.image_ids) * 5\n",
        "\n",
        "    def __getitem__(self, idx):\n",
        "        img_idx = idx // 5\n",
        "        cap_idx = idx % 5\n",
        "\n",
        "        img_id = self.image_ids[img_idx]\n",
        "        caption_text = self.annotations[img_id][cap_idx]\n",
        "\n",
        "        feature_path = os.path.join(self.cached_features_dir, img_id.replace('.jpg', '.pt'))\n",
        "\n",
        "        try:\n",
        "            image_feature = torch.load(feature_path)\n",
        "            if image_feature.shape != torch.Size([2048]):\n",
        "                raise RuntimeError(f\"CRITICAL: Loaded feature for {img_id} from {feature_path} has incorrect shape: {image_feature.shape}. Expected torch.Size([2048]). This indicates a corruption *after* caching or a logic error in filtering.\")\n",
        "        except Exception as e:\n",
        "            print(f\"Error loading cached feature for {img_id} at {feature_path}: {e}. Returning a zero tensor as fallback.\")\n",
        "            image_feature = torch.zeros(2048)\n",
        "\n",
        "        tokens = word_tokenize(caption_text.lower())\n",
        "        caption_sequence = [self.vocab('<start>')] + [self.vocab(token) for token in tokens] + [self.vocab('<end>')]\n",
        "\n",
        "        return image_feature, torch.tensor(caption_sequence)\n",
        "\n",
        "def collate_fn(data):\n",
        "    data.sort(key=lambda x: len(x[1]), reverse=True)\n",
        "    images, captions = zip(*data)\n",
        "\n",
        "    images = torch.stack(images, 0)\n",
        "\n",
        "    lengths = [len(cap) for cap in captions]\n",
        "    targets = torch.zeros(len(captions), max(lengths)).long()\n",
        "    for i, cap in enumerate(captions):\n",
        "        end = lengths[i]\n",
        "        targets[i, :end] = cap[:end]\n",
        "\n",
        "    return images, targets, lengths"
      ]
    },
    {
      "cell_type": "code",
      "execution_count": 4,
      "metadata": {},
      "outputs": [],
      "source": [
        "class EncoderCNN(nn.Module):\n",
        "    def __init__(self):\n",
        "        super(EncoderCNN, self).__init__()\n",
        "        resnet = models.resnet50(weights=models.ResNet50_Weights.IMAGENET1K_V2)\n",
        "\n",
        "        self.model = create_feature_extractor(resnet, return_nodes={'layer4': 'feature_map'})\n",
        "\n",
        "        for param in self.model.parameters():\n",
        "            param.requires_grad = False\n",
        "\n",
        "        self.avgpool = nn.AdaptiveAvgPool2d((1, 1))\n",
        "\n",
        "    def forward(self, images):\n",
        "        features = self.model(images)['feature_map']\n",
        "        features = self.avgpool(features)\n",
        "        features = features.view(features.size(0), -1)\n",
        "        return features"
      ]
    },
    {
      "cell_type": "code",
      "execution_count": 5,
      "metadata": {},
      "outputs": [],
      "source": [
        "class DecoderWithGRU(nn.Module):\n",
        "    def __init__(self, embed_dim, decoder_dim, vocab_size, encoder_dim=2048, dropout=0.5):\n",
        "        super(DecoderWithGRU, self).__init__()\n",
        "\n",
        "        self.encoder_dim = encoder_dim\n",
        "        self.embed_dim = embed_dim\n",
        "        self.decoder_dim = decoder_dim\n",
        "        self.vocab_size = vocab_size\n",
        "        self.dropout = dropout\n",
        "\n",
        "        self.embedding = nn.Embedding(vocab_size, embed_dim)\n",
        "        self.dropout_layer = nn.Dropout(p=self.dropout)\n",
        "        self.decode_step = nn.GRUCell(embed_dim, decoder_dim, bias=True)\n",
        "        self.init_h = nn.Linear(encoder_dim, decoder_dim)  \n",
        "        self.fc = nn.Linear(decoder_dim, vocab_size)  \n",
        "        self.init_weights()\n",
        "\n",
        "    def init_weights(self):\n",
        "        self.embedding.weight.data.uniform_(-0.1, 0.1)\n",
        "        self.fc.bias.data.fill_(0)\n",
        "        self.fc.weight.data.uniform_(-0.1, 0.1)\n",
        "\n",
        "    def init_hidden_state(self, encoder_out):\n",
        "        mean_encoder_out = encoder_out.mean(dim=1)\n",
        "        h = self.init_h(mean_encoder_out)  \n",
        "        return h\n",
        "\n",
        "    def forward(self, encoder_out, encoded_captions, caption_lengths):\n",
        "        batch_size = encoder_out.size(0)\n",
        "        encoder_dim = encoder_out.size(-1)\n",
        "        vocab_size = self.vocab_size\n",
        "\n",
        "        # Flatten image - handle different input shapes safely\n",
        "        if encoder_out.dim() == 2:  # Already flattened (batch, features)\n",
        "            encoder_out = encoder_out.unsqueeze(1)  # (batch, 1, features)\n",
        "        elif encoder_out.dim() == 4:  # Standard CNN output (batch, H, W, channels)\n",
        "            encoder_out = encoder_out.view(batch_size, -1, encoder_dim)\n",
        "        else:  # Already correct shape\n",
        "            pass\n",
        "\n",
        "        # Sort input data by decreasing lengths\n",
        "        if caption_lengths.dim() > 1:\n",
        "            caption_lengths = caption_lengths.squeeze(1)\n",
        "        caption_lengths, sort_ind = caption_lengths.sort(dim=0, descending=True)\n",
        "        encoder_out = encoder_out[sort_ind]\n",
        "        encoded_captions = encoded_captions[sort_ind]\n",
        "\n",
        "        # Embedding\n",
        "        embeddings = self.embedding(encoded_captions)\n",
        "\n",
        "        # Initialize GRU state\n",
        "        h = self.init_hidden_state(encoder_out)\n",
        "\n",
        "        # We won't decode at the <end> position\n",
        "        decode_lengths = (caption_lengths - 1).tolist()\n",
        "\n",
        "        predictions = torch.zeros(batch_size, max(decode_lengths), vocab_size).to(encoder_out.device)\n",
        "\n",
        "        for t in range(max(decode_lengths)):\n",
        "            batch_size_t = sum([l > t for l in decode_lengths])\n",
        "            h = self.decode_step(embeddings[:batch_size_t, t, :], h[:batch_size_t])\n",
        "            preds = self.fc(self.dropout_layer(h))\n",
        "            predictions[:batch_size_t, t, :] = preds\n",
        "\n",
        "        return predictions, encoded_captions, decode_lengths, sort_ind\n",
        "\n"
      ]
    },
    {
      "cell_type": "markdown",
      "metadata": {},
      "source": [
        "### 8. Evaluation (BLEU Score)\n",
        "\n",
        "These functions provide a way to evaluate the model's performance on a subset of the dataset using BLEU scores, a common metric for machine translation and text generation.\n"
      ]
    },
    {
      "cell_type": "code",
      "execution_count": 6,
      "metadata": {},
      "outputs": [
        {
          "name": "stdout",
          "output_type": "stream",
          "text": [
            "Full dataset BLEU evaluation function ready! 🎯\n"
          ]
        }
      ],
      "source": [
        "def evaluate_bleu(encoder, decoder, data_loader, word_map):\n",
        "    rev_word_map = {v: k for k, v in word_map.items()}\n",
        "    hypotheses_all, references_all = [], []\n",
        "    \n",
        "    encoder.eval()\n",
        "    decoder.eval()\n",
        "    total_processed = 0\n",
        "\n",
        "    \n",
        "    with torch.no_grad():\n",
        "        for i, (image, _, _, all_captions) in enumerate(tqdm(data_loader, desc=\"Evaluating BLEU on full dataset\")):\n",
        "            batch_size = image.size(0)\n",
        "\n",
        "            for idx in range(batch_size):\n",
        "                single_image = image[idx:idx+1].to(device)\n",
        "                captions = all_captions[idx:idx+1]\n",
        "\n",
        "                encoder_out = encoder(single_image)\n",
        "                \n",
        "                # Fix the shape issue\n",
        "                encoder_out = encoder_out.view(1, -1, encoder_out.size(-1))\n",
        "                if encoder_out.dim() == 2:\n",
        "                    encoder_out = encoder_out.unsqueeze(1)\n",
        "                \n",
        "                # Simple greedy decoding  \n",
        "                hidden = decoder.init_hidden_state(encoder_out)\n",
        "                word = torch.LongTensor([word_map['<start>']]).to(device)\n",
        "                sequence = []\n",
        "                \n",
        "                for _ in range(20):\n",
        "                    embedding = decoder.embedding(word)       # (1, embed_dim)\n",
        "                    hidden = decoder.decode_step(embedding, hidden)       # (1, decoder_dim)\n",
        "                    output = decoder.fc(hidden) \n",
        "                    word = output.argmax(dim=1)\n",
        "                    \n",
        "                    if word.item() == word_map['<end>']:\n",
        "                        break\n",
        "                    sequence.append(word.item())\n",
        "                \n",
        "                hyp_words = [rev_word_map[i] for i in sequence\n",
        "                                 if i not in {word_map['<start>'], word_map['<end>'], word_map['<pad>']}]\n",
        "                hypotheses_all.append(hyp_words)\n",
        "\n",
        "                # references\n",
        "                refs = []\n",
        "                for j in range(captions.shape[1]):\n",
        "                    ref = captions[0, j].tolist()\n",
        "                    refs.append([rev_word_map[i] for i in ref\n",
        "                                     if i not in {word_map['<start>'], word_map['<end>'], word_map['<pad>']}])\n",
        "                references_all.append(refs)\n",
        "\n",
        "                total_processed += 1\n",
        "\n",
        "    # Calculate BLEU scores using sentence_bleu with sf.method4 smoothing\n",
        "    print(f\"Calculating BLEU scores for {total_processed} images...\")\n",
        "    bleu_1_scores = []\n",
        "    bleu_2_scores = []\n",
        "    bleu_3_scores = []\n",
        "    bleu_4_scores = []\n",
        "    bleu_scores = []\n",
        "\n",
        "    for hyp, refs in zip(hypotheses_all, references_all):\n",
        "        sf = SmoothingFunction()\n",
        "        bleu_1_scores.append(sentence_bleu(refs, hyp, weights=(1, 0, 0, 0), smoothing_function=sf.method4))\n",
        "        bleu_2_scores.append(sentence_bleu(refs, hyp, weights=(0.5, 0.5, 0, 0), smoothing_function=sf.method4))\n",
        "        bleu_3_scores.append(sentence_bleu(refs, hyp, weights=(0.33, 0.33, 0.33, 0), smoothing_function=sf.method4))\n",
        "        bleu_4_scores.append(sentence_bleu(refs, hyp, weights=(0.25, 0.25, 0.25, 0.25), smoothing_function=sf.method4))\n",
        "        bleu_scores.append(sentence_bleu(refs, hyp, smoothing_function=sf.method4))\n",
        "\n",
        "    avg_bleu1 = np.mean(bleu_1_scores) if bleu_1_scores else 0.0\n",
        "    avg_bleu2 = np.mean(bleu_2_scores) if bleu_2_scores else 0.0\n",
        "    avg_bleu3 = np.mean(bleu_3_scores) if bleu_3_scores else 0.0\n",
        "    avg_bleu4 = np.mean(bleu_4_scores) if bleu_4_scores else 0.0\n",
        "    avg_bleu = np.mean(bleu_scores) if bleu_scores else 0.0\n",
        "\n",
        "    print(f\"\\n---- Evaluation Results (on {total_processed} images) ----\")\n",
        "    print(f\"Average BLEU-1: {avg_bleu1:.4f}\")\n",
        "    print(f\"Average BLEU-2: {avg_bleu2:.4f}\")\n",
        "    print(f\"Average BLEU-3: {avg_bleu3:.4f}\")\n",
        "    print(f\"Average BLEU-4: {avg_bleu4:.4f}\")\n",
        "    print(f\"Average BLEU: {avg_bleu:.4f}\")\n",
        "    \n",
        "    print(\"Evaluation finished.\")\n",
        "    \n",
        "    return {\n",
        "        'bleu_1': avg_bleu1,\n",
        "        'bleu_2': avg_bleu2, \n",
        "        'bleu_3': avg_bleu3,\n",
        "        'bleu_4': avg_bleu4,\n",
        "        'bleu_overall': avg_bleu,\n",
        "        'total_images': total_processed\n",
        "    }\n",
        "\n",
        "print(\"Full dataset BLEU evaluation function ready! 🎯\")\n"
      ]
    },
    {
      "cell_type": "code",
      "execution_count": 7,
      "metadata": {},
      "outputs": [
        {
          "name": "stdout",
          "output_type": "stream",
          "text": [
            "Functions ready\n"
          ]
        }
      ],
      "source": [
        "def train_epoch(train_loader, encoder, decoder, criterion, encoder_optimizer, decoder_optimizer):\n",
        "    encoder.train()\n",
        "    decoder.train()\n",
        "    total_loss = 0\n",
        "    \n",
        "    for imgs, caps, caplens in tqdm(train_loader, desc=\"Training\"):\n",
        "        imgs, caps, caplens = imgs.to(device), caps.to(device), caplens.to(device)\n",
        "        \n",
        "        # Forward pass\n",
        "        imgs = encoder(imgs)\n",
        "        scores, caps_sorted, decode_lengths, sort_ind = decoder(imgs, caps, caplens)\n",
        "        targets = caps_sorted[:, 1:]\n",
        "        \n",
        "        # Calculate loss without packing (simpler for GRUCell decoder)\n",
        "        loss = 0\n",
        "        for i, length in enumerate(decode_lengths):\n",
        "            loss += criterion(scores[i, :length, :], targets[i, :length])\n",
        "        loss /= len(decode_lengths)\n",
        "        \n",
        "        # Backward pass\n",
        "        decoder_optimizer.zero_grad()\n",
        "        if encoder_optimizer:\n",
        "            encoder_optimizer.zero_grad()\n",
        "        loss.backward()\n",
        "        \n",
        "        # Clip gradients and update\n",
        "        torch.nn.utils.clip_grad_norm_(decoder.parameters(), 5.0)\n",
        "        if encoder_optimizer:\n",
        "            torch.nn.utils.clip_grad_norm_(encoder.parameters(), 5.0)\n",
        "        \n",
        "        decoder_optimizer.step()\n",
        "        if encoder_optimizer:\n",
        "            encoder_optimizer.step()\n",
        "        \n",
        "        total_loss += loss.item()\n",
        "    \n",
        "    return total_loss / len(train_loader)\n",
        "\n",
        "def validate(val_loader, encoder, decoder, criterion):\n",
        "    encoder.eval()\n",
        "    decoder.eval()\n",
        "    total_loss = 0\n",
        "    \n",
        "    with torch.no_grad():\n",
        "        for imgs, caps, caplens, _ in tqdm(val_loader, desc=\"Validation\"):\n",
        "            imgs, caps, caplens = imgs.to(device), caps.to(device), caplens.to(device)\n",
        "            \n",
        "            imgs = encoder(imgs)\n",
        "            scores, caps_sorted, decode_lengths, _ = decoder(imgs, caps, caplens)\n",
        "            targets = caps_sorted[:, 1:]\n",
        "            \n",
        "            # Calculate loss\n",
        "            loss = 0\n",
        "            for i, length in enumerate(decode_lengths):\n",
        "                loss += criterion(scores[i, :length, :], targets[i, :length])\n",
        "            loss /= len(decode_lengths)\n",
        "            \n",
        "            total_loss += loss.item()\n",
        "    \n",
        "    return total_loss / len(val_loader)\n",
        "\n",
        "print(\"Functions ready\")\n"
      ]
    },
    {
      "cell_type": "code",
      "execution_count": 8,
      "metadata": {},
      "outputs": [
        {
          "name": "stdout",
          "output_type": "stream",
          "text": [
            "Model loading function ready!\n"
          ]
        }
      ],
      "source": [
        "def load_trained_model(model_path, word_map):\n",
        "    \"\"\"Load a trained GRU model from checkpoint\"\"\"\n",
        "    print(f\"Loading model from: {model_path}\")\n",
        "    \n",
        "    # Initialize fresh models\n",
        "    encoder_eval = Encoder().to(device)\n",
        "    decoder_eval = DecoderWithGRU(\n",
        "        embed_dim=embed_dim,\n",
        "        decoder_dim=decoder_dim,\n",
        "        vocab_size=len(word_map),\n",
        "        dropout=dropout\n",
        "    ).to(device)\n",
        "    \n",
        "    # Load checkpoint\n",
        "    checkpoint = torch.load(model_path, map_location=device)\n",
        "    encoder_eval.load_state_dict(checkpoint['encoder'])\n",
        "    decoder_eval.load_state_dict(checkpoint['decoder'])\n",
        "    \n",
        "    encoder_eval.eval()\n",
        "    decoder_eval.eval()\n",
        "    \n",
        "    print(\"Model loaded successfully!\")\n",
        "    return encoder_eval, decoder_eval\n",
        "\n",
        "print(\"Model loading function ready!\")\n"
      ]
    },
    {
      "cell_type": "code",
      "execution_count": 9,
      "metadata": {},
      "outputs": [
        {
          "name": "stdout",
          "output_type": "stream",
          "text": [
            "Starting Local Image Captioning Project on cpu\n"
          ]
        }
      ],
      "source": [
        "def prepare_data():\n",
        "    print(\"Preparing data...\")\n",
        "    \n",
        "    # Download dataset temporarily (as requested - no permanent local storage)\n",
        "    import tempfile\n",
        "    import shutil\n",
        "    import zipfile\n",
        "    import requests\n",
        "    \n",
        "    temp_dir = tempfile.mkdtemp(prefix=\"flickr8k_temp_\")\n",
        "    print(f\"Downloading dataset to temporary directory: {temp_dir}\")\n",
        "    \n",
        "    # Download captions\n",
        "    captions_url = \"https://github.com/jbrownlee/Datasets/releases/download/Flickr8k/Flickr8k_text.zip\"\n",
        "    captions_zip = os.path.join(temp_dir, \"captions.zip\")\n",
        "    response = requests.get(captions_url, stream=True, timeout=120)\n",
        "    response.raise_for_status()\n",
        "    with open(captions_zip, 'wb') as f:\n",
        "        for chunk in response.iter_content(chunk_size=8192):\n",
        "            f.write(chunk)\n",
        "    with zipfile.ZipFile(captions_zip, 'r') as zip_ref:\n",
        "        zip_ref.extractall(temp_dir)\n",
        "    \n",
        "    # Download images\n",
        "    print(\"Downloading images (this may take a while)...\")\n",
        "    images_url = \"https://github.com/jbrownlee/Datasets/releases/download/Flickr8k/Flickr8k_Dataset.zip\"\n",
        "    images_zip = os.path.join(temp_dir, \"images.zip\")\n",
        "    response = requests.get(images_url, stream=True, timeout=300)\n",
        "    response.raise_for_status()\n",
        "    with open(images_zip, 'wb') as f:\n",
        "        for chunk in response.iter_content(chunk_size=8192):\n",
        "            f.write(chunk)\n",
        "    with zipfile.ZipFile(images_zip, 'r') as zip_ref:\n",
        "        zip_ref.extractall(temp_dir)\n",
        "    \n",
        "    # Use temporary file paths\n",
        "    temp_captions_file = os.path.join(temp_dir, \"Flickr8k.token.txt\")\n",
        "    temp_images_dir = os.path.join(temp_dir, \"Flicker8k_Dataset\")\n",
        "    temp_features_dir = os.path.join(temp_dir, \"cached_features\")\n",
        "    \n",
        "    # Create the cached_features directory\n",
        "    os.makedirs(temp_features_dir, exist_ok=True)\n",
        "    \n",
        "    # Build vocabulary from temporary captions file\n",
        "    all_captions = []\n",
        "    with open(temp_captions_file, 'r') as f:\n",
        "        for line in f:\n",
        "            line = line.strip()\n",
        "            if not line:\n",
        "                continue\n",
        "            # Format: image_id.jpg#caption_number caption text\n",
        "            parts = line.split('\\t', 1)\n",
        "            if len(parts) < 2:\n",
        "                # Try space split if tab doesn't work\n",
        "                parts = line.split(' ', 1)\n",
        "                if len(parts) < 2:\n",
        "                    print(f\"Skipping malformed line in captions file during vocabulary building: {line}\")\n",
        "                    continue\n",
        "            all_captions.append(parts[1].strip())\n",
        "\n",
        "    vocab = Vocabulary(Config.VOCAB_THRESHOLD)\n",
        "    vocab.build_vocabulary(all_captions)\n",
        "    print(f\"Vocabulary size: {len(vocab)}\")\n",
        "\n",
        "    transform = transforms.Compose([\n",
        "        transforms.Resize((224, 224)),\n",
        "        transforms.ToTensor(),\n",
        "        transforms.Normalize(mean=[0.485, 0.456, 0.406], std=[0.229, 0.224, 0.225]),\n",
        "    ])\n",
        "\n",
        "    temp_encoder = EncoderCNN()\n",
        "\n",
        "    dataset = Flickr8kDataset(\n",
        "        temp_captions_file,\n",
        "        temp_images_dir,\n",
        "        vocab,\n",
        "        transform,\n",
        "        temp_features_dir,\n",
        "        feature_extractor_model=temp_encoder\n",
        "    )\n",
        "\n",
        "    del temp_encoder\n",
        "    torch.cuda.empty_cache()\n",
        "\n",
        "    train_ids, val_ids = train_test_split(dataset.image_ids, test_size=0.1, random_state=42)\n",
        "    train_annotations = {img_id: dataset.annotations[img_id] for img_id in train_ids}\n",
        "    val_annotations = {img_id: dataset.annotations[img_id] for img_id in val_ids}\n",
        "\n",
        "    train_dataset = Flickr8kDataset(\n",
        "        temp_captions_file,\n",
        "        temp_images_dir,\n",
        "        vocab,\n",
        "        transform,\n",
        "        temp_features_dir,\n",
        "        feature_extractor_model=None\n",
        "    )\n",
        "    train_dataset.image_ids = train_ids\n",
        "    train_dataset.annotations = train_annotations\n",
        "\n",
        "    val_dataset = Flickr8kDataset(\n",
        "        temp_captions_file,\n",
        "        temp_images_dir,\n",
        "        vocab,\n",
        "        transform,\n",
        "        temp_features_dir,\n",
        "        feature_extractor_model=None\n",
        "    )\n",
        "    val_dataset.image_ids = val_ids\n",
        "    val_dataset.annotations = val_annotations\n",
        "\n",
        "    train_loader = DataLoader(\n",
        "        train_dataset,\n",
        "        batch_size=Config.BATCH_SIZE,\n",
        "        shuffle=True,\n",
        "        num_workers=0,\n",
        "        collate_fn=collate_fn,\n",
        "        pin_memory=False\n",
        "    )\n",
        "    val_loader = DataLoader(\n",
        "        val_dataset,\n",
        "        batch_size=Config.BATCH_SIZE,\n",
        "        shuffle=False,\n",
        "        num_workers=0,\n",
        "        collate_fn=collate_fn,\n",
        "        pin_memory=False\n",
        "    )\n",
        "\n",
        "    decoder = DecoderWithGRU(\n",
        "        Config.EMBED_SIZE,\n",
        "        Config.HIDDEN_SIZE,\n",
        "        len(vocab),\n",
        "        dropout=Config.DROPOUT_PROB\n",
        "    ).to(Config.DEVICE)\n",
        "\n",
        "    criterion = nn.CrossEntropyLoss(ignore_index=vocab('<pad>'))\n",
        "    optimizer = optim.Adam(decoder.parameters(), lr=Config.LEARNING_RATE)\n",
        "\n",
        "    print(\"Data preparation complete. Returning components for training...\")\n",
        "    # Return temp_dir so we can clean it up after training\n",
        "    return decoder, vocab, val_dataset, train_loader, val_loader, criterion, optimizer, temp_dir\n",
        "\n",
        "print(f\"Starting Local Image Captioning Project on {Config.DEVICE}\")"
      ]
    },
    {
      "cell_type": "code",
      "execution_count": 11,
      "metadata": {},
      "outputs": [
        {
          "name": "stdout",
          "output_type": "stream",
          "text": [
            "Preparing data...\n",
            "Downloading dataset to temporary directory: /var/folders/xs/s4878yb92rl79xl0n654c3s40000gp/T/flickr8k_temp_qhq7l65p\n",
            "Downloading images (this may take a while)...\n"
          ]
        },
        {
          "name": "stderr",
          "output_type": "stream",
          "text": [
            "Building Vocabulary: 100%|██████████| 40460/40460 [00:01<00:00, 31215.93it/s]\n"
          ]
        },
        {
          "name": "stdout",
          "output_type": "stream",
          "text": [
            "Vocabulary built with 3005 unique words (threshold=5).\n",
            "Vocabulary size: 3005\n",
            "Warning: Skipping malformed image ID format on line 6731: '2258277193_586949ec62.jpg.1' (Expected format like 'image.jpg').\n",
            "Warning: Skipping malformed image ID format on line 6732: '2258277193_586949ec62.jpg.1' (Expected format like 'image.jpg').\n",
            "Warning: Skipping malformed image ID format on line 6733: '2258277193_586949ec62.jpg.1' (Expected format like 'image.jpg').\n",
            "Warning: Skipping malformed image ID format on line 6734: '2258277193_586949ec62.jpg.1' (Expected format like 'image.jpg').\n",
            "Warning: Skipping malformed image ID format on line 6735: '2258277193_586949ec62.jpg.1' (Expected format like 'image.jpg').\n",
            "Finished parsing captions. Successfully parsed 40455 lines. Skipped 5 lines.\n",
            "Checking and caching image features...\n"
          ]
        },
        {
          "name": "stderr",
          "output_type": "stream",
          "text": [
            "Caching features: 100%|██████████| 8091/8091 [03:49<00:00, 35.24it/s]\n"
          ]
        },
        {
          "name": "stdout",
          "output_type": "stream",
          "text": [
            "Feature caching complete.\n",
            "All image features cached successfully with correct shapes.\n",
            "Warning: Skipping malformed image ID format on line 6731: '2258277193_586949ec62.jpg.1' (Expected format like 'image.jpg').\n",
            "Warning: Skipping malformed image ID format on line 6732: '2258277193_586949ec62.jpg.1' (Expected format like 'image.jpg').\n",
            "Warning: Skipping malformed image ID format on line 6733: '2258277193_586949ec62.jpg.1' (Expected format like 'image.jpg').\n",
            "Warning: Skipping malformed image ID format on line 6734: '2258277193_586949ec62.jpg.1' (Expected format like 'image.jpg').\n",
            "Warning: Skipping malformed image ID format on line 6735: '2258277193_586949ec62.jpg.1' (Expected format like 'image.jpg').\n",
            "Finished parsing captions. Successfully parsed 40455 lines. Skipped 5 lines.\n",
            "Checking and caching image features...\n",
            "Feature extractor model not provided; assuming features are already cached.\n"
          ]
        },
        {
          "name": "stderr",
          "output_type": "stream",
          "text": [
            "Verifying cached features: 100%|██████████| 8091/8091 [00:01<00:00, 6215.05it/s]\n"
          ]
        },
        {
          "name": "stdout",
          "output_type": "stream",
          "text": [
            "Warning: Skipping malformed image ID format on line 6731: '2258277193_586949ec62.jpg.1' (Expected format like 'image.jpg').\n",
            "Warning: Skipping malformed image ID format on line 6732: '2258277193_586949ec62.jpg.1' (Expected format like 'image.jpg').\n",
            "Warning: Skipping malformed image ID format on line 6733: '2258277193_586949ec62.jpg.1' (Expected format like 'image.jpg').\n",
            "Warning: Skipping malformed image ID format on line 6734: '2258277193_586949ec62.jpg.1' (Expected format like 'image.jpg').\n",
            "Warning: Skipping malformed image ID format on line 6735: '2258277193_586949ec62.jpg.1' (Expected format like 'image.jpg').\n",
            "Finished parsing captions. Successfully parsed 40455 lines. Skipped 5 lines.\n",
            "Checking and caching image features...\n",
            "Feature extractor model not provided; assuming features are already cached.\n"
          ]
        },
        {
          "name": "stderr",
          "output_type": "stream",
          "text": [
            "Verifying cached features: 100%|██████████| 8091/8091 [00:00<00:00, 8506.73it/s]"
          ]
        },
        {
          "name": "stdout",
          "output_type": "stream",
          "text": [
            "Data preparation complete. Returning components for training...\n"
          ]
        },
        {
          "name": "stderr",
          "output_type": "stream",
          "text": [
            "\n"
          ]
        }
      ],
      "source": [
        "# Prepare data and get training components\n",
        "decoder, vocab, val_dataset, train_loader, val_loader, criterion, decoder_optimizer, temp_dir = prepare_data()"
      ]
    },
    {
      "cell_type": "code",
      "execution_count": 12,
      "metadata": {},
      "outputs": [
        {
          "name": "stderr",
          "output_type": "stream",
          "text": [
            "Training Epoch 1: 100%|██████████| 1138/1138 [02:53<00:00,  6.57it/s]\n"
          ]
        },
        {
          "name": "stdout",
          "output_type": "stream",
          "text": [
            "🎯 Evaluating BLEU score at epoch 1...\n",
            "🏆 NEW BEST BLEU! Score: 0.1148 at epoch 1\n",
            "Epoch [1/20] - Train Loss: 4.1890, Val Loss: 3.4623, BLEU: 0.1148, Time: 178.3s\n"
          ]
        },
        {
          "name": "stderr",
          "output_type": "stream",
          "text": [
            "Training Epoch 2: 100%|██████████| 1138/1138 [02:49<00:00,  6.70it/s]\n"
          ]
        },
        {
          "name": "stdout",
          "output_type": "stream",
          "text": [
            "🎯 Evaluating BLEU score at epoch 2...\n",
            "🏆 NEW BEST BLEU! Score: 0.1484 at epoch 2\n",
            "Epoch [2/20] - Train Loss: 3.3185, Val Loss: 3.1045, BLEU: 0.1484, Time: 352.8s\n"
          ]
        },
        {
          "name": "stderr",
          "output_type": "stream",
          "text": [
            "Training Epoch 3: 100%|██████████| 1138/1138 [02:42<00:00,  6.99it/s]\n"
          ]
        },
        {
          "name": "stdout",
          "output_type": "stream",
          "text": [
            "🎯 Evaluating BLEU score at epoch 3...\n",
            "🏆 NEW BEST BLEU! Score: 0.1672 at epoch 3\n",
            "Epoch [3/20] - Train Loss: 3.0267, Val Loss: 2.9263, BLEU: 0.1672, Time: 520.3s\n"
          ]
        },
        {
          "name": "stderr",
          "output_type": "stream",
          "text": [
            "Training Epoch 4: 100%|██████████| 1138/1138 [02:51<00:00,  6.65it/s]\n"
          ]
        },
        {
          "name": "stdout",
          "output_type": "stream",
          "text": [
            "🎯 Evaluating BLEU score at epoch 4...\n",
            "🏆 NEW BEST BLEU! Score: 0.1780 at epoch 4\n",
            "Epoch [4/20] - Train Loss: 2.8482, Val Loss: 2.8120, BLEU: 0.1780, Time: 696.2s\n"
          ]
        },
        {
          "name": "stderr",
          "output_type": "stream",
          "text": [
            "Training Epoch 5: 100%|██████████| 1138/1138 [02:45<00:00,  6.88it/s]\n"
          ]
        },
        {
          "name": "stdout",
          "output_type": "stream",
          "text": [
            "🎯 Evaluating BLEU score at epoch 5...\n",
            "Epoch [5/20] - Train Loss: 2.7171, Val Loss: 2.7376, BLEU: 0.1749, Time: 866.5s\n",
            "Checkpoint saved at epoch 5 (Best BLEU: 0.1780 at epoch 4)\n"
          ]
        },
        {
          "name": "stderr",
          "output_type": "stream",
          "text": [
            "Training Epoch 6: 100%|██████████| 1138/1138 [32:33<00:00,  1.72s/it]   \n"
          ]
        },
        {
          "name": "stdout",
          "output_type": "stream",
          "text": [
            "🎯 Evaluating BLEU score at epoch 6...\n",
            "🏆 NEW BEST BLEU! Score: 0.2308 at epoch 6\n",
            "Epoch [6/20] - Train Loss: 2.6161, Val Loss: 2.6833, BLEU: 0.2308, Time: 2824.3s\n"
          ]
        },
        {
          "name": "stderr",
          "output_type": "stream",
          "text": [
            "Training Epoch 7: 100%|██████████| 1138/1138 [08:25<00:00,  2.25it/s] \n"
          ]
        },
        {
          "name": "stdout",
          "output_type": "stream",
          "text": [
            "🎯 Evaluating BLEU score at epoch 7...\n",
            "🏆 NEW BEST BLEU! Score: 0.2491 at epoch 7\n",
            "Epoch [7/20] - Train Loss: 2.5304, Val Loss: 2.6452, BLEU: 0.2491, Time: 3334.3s\n"
          ]
        },
        {
          "name": "stderr",
          "output_type": "stream",
          "text": [
            "Training Epoch 8: 100%|██████████| 1138/1138 [32:33<00:00,  1.72s/it]   \n"
          ]
        },
        {
          "name": "stdout",
          "output_type": "stream",
          "text": [
            "🎯 Evaluating BLEU score at epoch 8...\n",
            "Epoch [8/20] - Train Loss: 2.4572, Val Loss: 2.6165, BLEU: 0.1749, Time: 5292.4s\n"
          ]
        },
        {
          "name": "stderr",
          "output_type": "stream",
          "text": [
            "Training Epoch 9: 100%|██████████| 1138/1138 [18:32<00:00,  1.02it/s]   \n"
          ]
        },
        {
          "name": "stdout",
          "output_type": "stream",
          "text": [
            "🎯 Evaluating BLEU score at epoch 9...\n",
            "Epoch [9/20] - Train Loss: 2.3925, Val Loss: 2.5903, BLEU: 0.2051, Time: 6408.7s\n"
          ]
        },
        {
          "name": "stderr",
          "output_type": "stream",
          "text": [
            "Training Epoch 10: 100%|██████████| 1138/1138 [17:40<00:00,  1.07it/s]   \n"
          ]
        },
        {
          "name": "stdout",
          "output_type": "stream",
          "text": [
            "🎯 Evaluating BLEU score at epoch 10...\n",
            "Epoch [10/20] - Train Loss: 2.3338, Val Loss: 2.5693, BLEU: 0.2232, Time: 7473.5s\n",
            "Checkpoint saved at epoch 10 (Best BLEU: 0.2491 at epoch 7)\n"
          ]
        },
        {
          "name": "stderr",
          "output_type": "stream",
          "text": [
            "Training Epoch 11: 100%|██████████| 1138/1138 [25:42<00:00,  1.36s/it]   \n"
          ]
        },
        {
          "name": "stdout",
          "output_type": "stream",
          "text": [
            "🎯 Evaluating BLEU score at epoch 11...\n",
            "Epoch [11/20] - Train Loss: 2.2829, Val Loss: 2.5561, BLEU: 0.1414, Time: 9020.4s\n"
          ]
        },
        {
          "name": "stderr",
          "output_type": "stream",
          "text": [
            "Training Epoch 12: 100%|██████████| 1138/1138 [03:33<00:00,  5.34it/s] \n"
          ]
        },
        {
          "name": "stdout",
          "output_type": "stream",
          "text": [
            "🎯 Evaluating BLEU score at epoch 12...\n",
            "Epoch [12/20] - Train Loss: 2.2334, Val Loss: 2.5429, BLEU: 0.1863, Time: 9238.0s\n"
          ]
        },
        {
          "name": "stderr",
          "output_type": "stream",
          "text": [
            "Training Epoch 13: 100%|██████████| 1138/1138 [27:04<00:00,  1.43s/it]   \n"
          ]
        },
        {
          "name": "stdout",
          "output_type": "stream",
          "text": [
            "🎯 Evaluating BLEU score at epoch 13...\n",
            "Epoch [13/20] - Train Loss: 2.1894, Val Loss: 2.5358, BLEU: 0.1851, Time: 10867.1s\n"
          ]
        },
        {
          "name": "stderr",
          "output_type": "stream",
          "text": [
            "Training Epoch 14: 100%|██████████| 1138/1138 [02:28<00:00,  7.66it/s]\n"
          ]
        },
        {
          "name": "stdout",
          "output_type": "stream",
          "text": [
            "🎯 Evaluating BLEU score at epoch 14...\n",
            "Epoch [14/20] - Train Loss: 2.1464, Val Loss: 2.5270, BLEU: 0.2233, Time: 11019.5s\n"
          ]
        },
        {
          "name": "stderr",
          "output_type": "stream",
          "text": [
            "Training Epoch 15: 100%|██████████| 1138/1138 [02:29<00:00,  7.64it/s]\n"
          ]
        },
        {
          "name": "stdout",
          "output_type": "stream",
          "text": [
            "🎯 Evaluating BLEU score at epoch 15...\n",
            "Epoch [15/20] - Train Loss: 2.1058, Val Loss: 2.5275, BLEU: 0.1789, Time: 11172.9s\n",
            "Checkpoint saved at epoch 15 (Best BLEU: 0.2491 at epoch 7)\n"
          ]
        },
        {
          "name": "stderr",
          "output_type": "stream",
          "text": [
            "Training Epoch 16: 100%|██████████| 1138/1138 [02:47<00:00,  6.79it/s]\n"
          ]
        },
        {
          "name": "stdout",
          "output_type": "stream",
          "text": [
            "🎯 Evaluating BLEU score at epoch 16...\n",
            "Epoch [16/20] - Train Loss: 2.0694, Val Loss: 2.5246, BLEU: 0.1977, Time: 11345.4s\n"
          ]
        },
        {
          "name": "stderr",
          "output_type": "stream",
          "text": [
            "Training Epoch 17: 100%|██████████| 1138/1138 [02:29<00:00,  7.60it/s]\n"
          ]
        },
        {
          "name": "stdout",
          "output_type": "stream",
          "text": [
            "🎯 Evaluating BLEU score at epoch 17...\n",
            "Epoch [17/20] - Train Loss: 2.0297, Val Loss: 2.5245, BLEU: 0.1827, Time: 11499.4s\n"
          ]
        },
        {
          "name": "stderr",
          "output_type": "stream",
          "text": [
            "Training Epoch 18: 100%|██████████| 1138/1138 [02:30<00:00,  7.57it/s]\n"
          ]
        },
        {
          "name": "stdout",
          "output_type": "stream",
          "text": [
            "🎯 Evaluating BLEU score at epoch 18...\n",
            "Epoch [18/20] - Train Loss: 1.9975, Val Loss: 2.5234, BLEU: 0.1500, Time: 11654.0s\n"
          ]
        },
        {
          "name": "stderr",
          "output_type": "stream",
          "text": [
            "Training Epoch 19: 100%|██████████| 1138/1138 [02:31<00:00,  7.53it/s]\n"
          ]
        },
        {
          "name": "stdout",
          "output_type": "stream",
          "text": [
            "🎯 Evaluating BLEU score at epoch 19...\n",
            "Epoch [19/20] - Train Loss: 1.9633, Val Loss: 2.5261, BLEU: 0.2058, Time: 11809.5s\n"
          ]
        },
        {
          "name": "stderr",
          "output_type": "stream",
          "text": [
            "Training Epoch 20: 100%|██████████| 1138/1138 [02:32<00:00,  7.47it/s]\n"
          ]
        },
        {
          "name": "stdout",
          "output_type": "stream",
          "text": [
            "🎯 Evaluating BLEU score at epoch 20...\n",
            "Epoch [20/20] - Train Loss: 1.9308, Val Loss: 2.5278, BLEU: 0.2035, Time: 11966.4s\n",
            "Checkpoint saved at epoch 20 (Best BLEU: 0.2491 at epoch 7)\n",
            "Training loop completed successfully!\n"
          ]
        }
      ],
      "source": [
        "# Initialize training variables\n",
        "train_losses = []\n",
        "val_losses = []\n",
        "bleu_scores = []\n",
        "best_bleu = 0.0\n",
        "best_bleu_epoch = 0\n",
        "start_time = time.time()\n",
        "\n",
        "# Training loop\n",
        "for epoch in range(epochs):\n",
        "    # Training\n",
        "    decoder.train()\n",
        "    total_loss = 0\n",
        "    \n",
        "    for imgs, caps, caplens in tqdm(train_loader, desc=f\"Training Epoch {epoch+1}\"):\n",
        "        imgs, caps, caplens = imgs.to(device), caps.to(device), torch.tensor(caplens).to(device)\n",
        "        \n",
        "        # Forward pass\n",
        "        scores, caps_sorted, decode_lengths, sort_ind = decoder(imgs, caps, caplens)\n",
        "        targets = caps_sorted[:, 1:]\n",
        "        \n",
        "        # Calculate loss\n",
        "        loss = 0\n",
        "        for i, length in enumerate(decode_lengths):\n",
        "            loss += criterion(scores[i, :length, :], targets[i, :length])\n",
        "        loss /= len(decode_lengths)\n",
        "        \n",
        "        # Backward pass\n",
        "        decoder_optimizer.zero_grad()\n",
        "        loss.backward()\n",
        "        torch.nn.utils.clip_grad_norm_(decoder.parameters(), 5.0)\n",
        "        decoder_optimizer.step()\n",
        "        \n",
        "        total_loss += loss.item()\n",
        "    \n",
        "    avg_train_loss = total_loss / len(train_loader)\n",
        "    train_losses.append(avg_train_loss)\n",
        "    \n",
        "    # Validation\n",
        "    decoder.eval()\n",
        "    total_val_loss = 0\n",
        "    \n",
        "    with torch.no_grad():\n",
        "        for imgs, caps, caplens in val_loader:\n",
        "            imgs, caps, caplens = imgs.to(device), caps.to(device), torch.tensor(caplens).to(device)\n",
        "            \n",
        "            scores, caps_sorted, decode_lengths, _ = decoder(imgs, caps, caplens)\n",
        "            targets = caps_sorted[:, 1:]\n",
        "            \n",
        "            loss = 0\n",
        "            for i, length in enumerate(decode_lengths):\n",
        "                loss += criterion(scores[i, :length, :], targets[i, :length])\n",
        "            loss /= len(decode_lengths)\n",
        "            \n",
        "            total_val_loss += loss.item()\n",
        "    \n",
        "    avg_val_loss = total_val_loss / len(val_loader)\n",
        "    val_losses.append(avg_val_loss)\n",
        "    \n",
        "    epoch_time = time.time() - start_time\n",
        "    \n",
        "    # Evaluate BLEU score every epoch\n",
        "    print(f\"🎯 Evaluating BLEU score at epoch {epoch+1}...\")\n",
        "    decoder.eval()\n",
        "    \n",
        "    # Quick BLEU evaluation on subset\n",
        "    import random\n",
        "    eval_indices = random.sample(range(len(val_dataset)), min(50, len(val_dataset)))\n",
        "    epoch_bleu_scores = []\n",
        "    \n",
        "    with torch.no_grad():\n",
        "        for idx in eval_indices:\n",
        "            img_features, _ = val_dataset[idx]\n",
        "            img_features = img_features.unsqueeze(0).to(device)\n",
        "            \n",
        "            # Generate caption using GRU\n",
        "            hidden = decoder.init_hidden_state(img_features.unsqueeze(1))\n",
        "            word = torch.LongTensor([vocab.word2idx['<start>']]).to(device)\n",
        "            sequence = []\n",
        "            \n",
        "            for _ in range(20):  # Max caption length\n",
        "                embedding = decoder.embedding(word)\n",
        "                hidden = decoder.decode_step(embedding, hidden)\n",
        "                output = decoder.fc(hidden)\n",
        "                word = output.argmax(dim=1)\n",
        "                \n",
        "                if word.item() == vocab.word2idx['<end>']:\n",
        "                    break\n",
        "                sequence.append(word.item())\n",
        "            \n",
        "            # Convert to words\n",
        "            pred_words = [vocab.idx2word[i] for i in sequence \n",
        "                         if i not in {vocab.word2idx['<start>'], vocab.word2idx['<end>'], vocab.word2idx['<pad>']}]\n",
        "            \n",
        "            # Get reference captions\n",
        "            img_id = val_dataset.image_ids[idx // 5]\n",
        "            ref_captions = val_dataset.annotations[img_id]\n",
        "            ref_words_list = []\n",
        "            for ref_cap in ref_captions:\n",
        "                tokens = word_tokenize(ref_cap.lower())\n",
        "                ref_words_list.append(tokens)\n",
        "            \n",
        "            # Calculate BLEU score\n",
        "            sf = SmoothingFunction()\n",
        "            bleu_score = sentence_bleu(ref_words_list, pred_words, smoothing_function=sf.method4)\n",
        "            epoch_bleu_scores.append(bleu_score)\n",
        "    \n",
        "    avg_bleu = sum(epoch_bleu_scores) / len(epoch_bleu_scores) if epoch_bleu_scores else 0.0\n",
        "    bleu_scores.append(avg_bleu)\n",
        "    \n",
        "    # Check if this is the best BLEU score\n",
        "    if avg_bleu > best_bleu:\n",
        "        best_bleu = avg_bleu\n",
        "        best_bleu_epoch = epoch + 1\n",
        "        print(f\"🏆 NEW BEST BLEU! Score: {best_bleu:.4f} at epoch {best_bleu_epoch}\")\n",
        "    \n",
        "    print(f'Epoch [{epoch+1}/{epochs}] - Train Loss: {avg_train_loss:.4f}, Val Loss: {avg_val_loss:.4f}, BLEU: {avg_bleu:.4f}, Time: {epoch_time:.1f}s')\n",
        "    \n",
        "    # Save checkpoint every 5 epochs\n",
        "    if (epoch + 1) % 5 == 0:\n",
        "        checkpoint = {\n",
        "            'epoch': epoch + 1,\n",
        "            'decoder': decoder.state_dict(),\n",
        "            'decoder_optimizer': decoder_optimizer.state_dict(),\n",
        "            'train_losses': train_losses,\n",
        "            'val_losses': val_losses,\n",
        "            'bleu_scores': bleu_scores,\n",
        "            'best_bleu': best_bleu,\n",
        "            'best_bleu_epoch': best_bleu_epoch\n",
        "        }\n",
        "        torch.save(checkpoint, f'outputs/checkpoint_gru_flickr8k_epoch_{epoch+1}.pth.tar')\n",
        "        print(f'Checkpoint saved at epoch {epoch+1} (Best BLEU: {best_bleu:.4f} at epoch {best_bleu_epoch})')\n",
        "\n",
        "print(\"Training loop completed successfully!\")"
      ]
    },
    {
      "cell_type": "code",
      "execution_count": 13,
      "metadata": {},
      "outputs": [
        {
          "name": "stdout",
          "output_type": "stream",
          "text": [
            "\n",
            "Training completed in 199.4 minutes!\n",
            "\n",
            "PEAK PERFORMANCE SUMMARY:\n",
            " Best BLEU Score: 0.2491\n",
            "Best BLEU Epoch: 7\n",
            "Final Train Loss: 1.9308\n",
            "Final Val Loss: 2.5278\n",
            "Final BLEU Score: 0.2035\n",
            "Vocabulary saved to models/vocabulary.pkl\n",
            "Training metrics saved to outputs/training_metrics.pkl\n"
          ]
        }
      ],
      "source": [
        "# Save results\n",
        "total_time = time.time() - start_time\n",
        "\n",
        "# Save final model\n",
        "torch.save({\n",
        "    'epoch': len(train_losses),\n",
        "    'decoder': decoder.state_dict(),\n",
        "    'decoder_optimizer': decoder_optimizer.state_dict(),\n",
        "    'train_losses': train_losses,\n",
        "    'val_losses': val_losses,\n",
        "    'bleu_scores': bleu_scores,\n",
        "    'best_bleu': best_bleu,\n",
        "    'best_bleu_epoch': best_bleu_epoch\n",
        "}, 'outputs/BEST_checkpoint_gru_flickr8k.pth.tar')\n",
        "\n",
        "print(f\"\\nTraining completed in {total_time/60:.1f} minutes!\")\n",
        "\n",
        "# Print peak performance summary\n",
        "print(f\"\\nPEAK PERFORMANCE SUMMARY:\")\n",
        "print(f\" Best BLEU Score: {best_bleu:.4f}\")\n",
        "print(f\"Best BLEU Epoch: {best_bleu_epoch}\")\n",
        "print(f\"Final Train Loss: {train_losses[-1]:.4f}\")\n",
        "print(f\"Final Val Loss: {val_losses[-1]:.4f}\")\n",
        "print(f\"Final BLEU Score: {bleu_scores[-1]:.4f}\")\n",
        "\n",
        "# Save vocabulary using pickle (no JSON as requested)\n",
        "import pickle\n",
        "with open('models/vocabulary.pkl', 'wb') as f:\n",
        "    pickle.dump(vocab, f)\n",
        "print(\"Vocabulary saved to models/vocabulary.pkl\")\n",
        "\n",
        "# Save training metrics for plotting\n",
        "metrics = {\n",
        "    'train_losses': train_losses,\n",
        "    'val_losses': val_losses,\n",
        "    'bleu_scores': bleu_scores,\n",
        "    'best_bleu': best_bleu,\n",
        "    'best_bleu_epoch': best_bleu_epoch,\n",
        "    'total_epochs': len(train_losses)\n",
        "}\n",
        "with open('outputs/training_metrics.pkl', 'wb') as f:\n",
        "    pickle.dump(metrics, f)\n",
        "print(\"Training metrics saved to outputs/training_metrics.pkl\")\n"
      ]
    },
    {
      "cell_type": "code",
      "execution_count": 15,
      "metadata": {},
      "outputs": [
        {
          "name": "stdout",
          "output_type": "stream",
          "text": [
            "Training plots saved to outputs/training_plots.png and outputs/training_plots.pdf\n"
          ]
        },
        {
          "data": {
            "image/png": "[encoded data removed]",
            "text/plain": [
              "<Figure size 1000x600 with 1 Axes>"
            ]
          },
          "metadata": {},
          "output_type": "display_data"
        },
        {
          "data": {
            "image/png": "[encoded data removed]",
            "text/plain": [
              "<Figure size 1000x600 with 1 Axes>"
            ]
          },
          "metadata": {},
          "output_type": "display_data"
        },
        {
          "name": "stdout",
          "output_type": "stream",
          "text": [
            "Detailed plots saved to outputs/detailed_loss_plot.png and outputs/detailed_bleu_plot.png\n",
            "Training complete!\n"
          ]
        }
      ],
      "source": [
        "import matplotlib.pyplot as plt\n",
        "\n",
        "# Create subplots\n",
        "fig, (ax1, ax2) = plt.subplots(1, 2, figsize=(15, 5))\n",
        "\n",
        "# Plot 1: Training and Validation Loss\n",
        "epochs_range = range(1, len(train_losses) + 1)\n",
        "ax1.plot(epochs_range, train_losses, 'b-', label='Training Loss', linewidth=2)\n",
        "ax1.plot(epochs_range, val_losses, 'r-', label='Validation Loss', linewidth=2)\n",
        "ax1.set_title('Training and Validation Loss', fontsize=14, fontweight='bold')\n",
        "ax1.set_xlabel('Epoch')\n",
        "ax1.set_ylabel('Loss')\n",
        "ax1.legend()\n",
        "ax1.grid(True, alpha=0.3)\n",
        "\n",
        "# Plot 2: BLEU Score vs Epoch\n",
        "ax2.plot(epochs_range, bleu_scores, 'g-', label='BLEU Score', linewidth=2)\n",
        "# Mark the best BLEU point\n",
        "if best_bleu > 0:\n",
        "    ax2.scatter([best_bleu_epoch], [best_bleu], color='red', s=100, zorder=5, \n",
        "                label=f'Best BLEU: {best_bleu:.4f} at epoch {best_bleu_epoch}')\n",
        "ax2.set_title('BLEU Score vs Epoch', fontsize=14, fontweight='bold')\n",
        "ax2.set_xlabel('Epoch')\n",
        "ax2.set_ylabel('BLEU Score')\n",
        "ax2.legend()\n",
        "ax2.grid(True, alpha=0.3)\n",
        "\n",
        "plt.tight_layout()\n",
        "plt.savefig('outputs/training_plots.png', dpi=300, bbox_inches='tight')\n",
        "plt.savefig('outputs/training_plots.pdf', bbox_inches='tight')  # Also save as PDF\n",
        "plt.close()\n",
        "\n",
        "print(\"Training plots saved to outputs/training_plots.png and outputs/training_plots.pdf\")\n",
        "\n",
        "# Create individual detailed plots\n",
        "\n",
        "# Detailed Loss Plot\n",
        "plt.figure(figsize=(10, 6))\n",
        "plt.plot(epochs_range, train_losses, 'b-', label='Training Loss', linewidth=2, marker='o', markersize=4)\n",
        "plt.plot(epochs_range, val_losses, 'r-', label='Validation Loss', linewidth=2, marker='s', markersize=4)\n",
        "plt.title('GRU Model: Training and Validation Loss', fontsize=16, fontweight='bold')\n",
        "plt.xlabel('Epoch', fontsize=12)\n",
        "plt.ylabel('Cross-Entropy Loss', fontsize=12)\n",
        "plt.legend(fontsize=12)\n",
        "plt.grid(True, alpha=0.3)\n",
        "plt.xticks(range(1, len(train_losses) + 1, max(1, len(train_losses)//10)))\n",
        "plt.savefig('outputs/detailed_loss_plot.png', dpi=300, bbox_inches='tight')\n",
        "plt.show()\n",
        "\n",
        "# Detailed BLEU Plot\n",
        "plt.figure(figsize=(10, 6))\n",
        "plt.plot(epochs_range, bleu_scores, 'g-', label='BLEU Score', linewidth=2, marker='o', markersize=4)\n",
        "if best_bleu > 0:\n",
        "    plt.scatter([best_bleu_epoch], [best_bleu], color='red', s=150, zorder=5, \n",
        "                label=f'Peak: {best_bleu:.4f} (Epoch {best_bleu_epoch})')\n",
        "plt.title('GRU Model: BLEU Score Progress', fontsize=16, fontweight='bold')\n",
        "plt.xlabel('Epoch', fontsize=12)\n",
        "plt.ylabel('BLEU Score', fontsize=12)\n",
        "plt.legend(fontsize=12)\n",
        "plt.grid(True, alpha=0.3)\n",
        "plt.xticks(range(1, len(bleu_scores) + 1, max(1, len(bleu_scores)//10)))\n",
        "if len(bleu_scores) > 0:\n",
        "    plt.ylim(0, max(bleu_scores) * 1.1)  # Set y-axis limits for better visualization\n",
        "plt.savefig('outputs/detailed_bleu_plot.png', dpi=300, bbox_inches='tight')\n",
        "plt.show()\n",
        "\n",
        "print(\"Detailed plots saved to outputs/detailed_loss_plot.png and outputs/detailed_bleu_plot.png\")\n",
        "\n",
        "print(\"Training complete!\")"
      ]
    }
  ],
  "metadata": {
    "kernelspec": {
      "display_name": ".venv",
      "language": "python",
      "name": "python3"
    },
    "language_info": {
      "codemirror_mode": {
        "name": "ipython",
        "version": 3
      },
      "file_extension": ".py",
      "mimetype": "text/x-python",
      "name": "python",
      "nbconvert_exporter": "python",
      "pygments_lexer": "ipython3",
      "version": "3.10.13"
    }
  },
  "nbformat": 4,
  "nbformat_minor": 2
}
